{
  "nbformat": 4,
  "nbformat_minor": 0,
  "metadata": {
    "colab": {
      "name": "DL_HW11_Q3.ipynb",
      "provenance": [],
      "collapsed_sections": []
    },
    "kernelspec": {
      "name": "python3",
      "display_name": "Python 3"
    },
    "language_info": {
      "name": "python"
    }
  },
  "cells": [
    {
      "cell_type": "code",
      "metadata": {
        "id": "Xx2w3m4ROgg7"
      },
      "source": [
        "import tensorflow as tf\n",
        "import numpy as np"
      ],
      "execution_count": 241,
      "outputs": []
    },
    {
      "cell_type": "markdown",
      "metadata": {
        "id": "qmpr7WSGVEO-"
      },
      "source": [
        "Prepare MNIST Dataset"
      ]
    },
    {
      "cell_type": "code",
      "metadata": {
        "id": "2jSch3UQPjrC",
        "colab": {
          "base_uri": "https://localhost:8080/"
        },
        "outputId": "2b8d59bf-de56-42bc-d6bd-9c3315034ced"
      },
      "source": [
        "(x_train, y_train), (x_test, y_test) = tf.keras.datasets.mnist.load_data()\n",
        "x_train = np.expand_dims(x_train, -1)\n",
        "x_test = np.expand_dims(x_test, -1)\n",
        "print(x_train.shape)\n",
        "print(x_test.shape)"
      ],
      "execution_count": 242,
      "outputs": [
        {
          "output_type": "stream",
          "text": [
            "(60000, 28, 28, 1)\n",
            "(10000, 28, 28, 1)\n"
          ],
          "name": "stdout"
        }
      ]
    },
    {
      "cell_type": "code",
      "metadata": {
        "id": "tD-Y-BtK_NqD"
      },
      "source": [
        "# Normalize\n",
        "x_train = x_train / 255.0\n",
        "x_test = x_test / 255.0"
      ],
      "execution_count": 243,
      "outputs": []
    },
    {
      "cell_type": "markdown",
      "metadata": {
        "id": "qVE5BTO7B_Rv"
      },
      "source": [
        "Create your batch of triplets"
      ]
    },
    {
      "cell_type": "code",
      "metadata": {
        "id": "nY92q4QOARAJ",
        "colab": {
          "base_uri": "https://localhost:8080/"
        },
        "outputId": "e9a5169e-296d-4045-eebb-8e9de7e17ceb"
      },
      "source": [
        "# describe this cell\n",
        "\n",
        "def create_batch(batch_size=256):\n",
        "    x_anchors = np.zeros((batch_size, 28, 28, 1))\n",
        "    x_positives = np.zeros((batch_size, 28, 28, 1))\n",
        "    x_negatives = np.zeros((batch_size, 28, 28, 1))\n",
        "    \n",
        "    for i in range(0, batch_size):\n",
        "        # We need to find an anchor, a positive example and a negative example\n",
        "        random_index = np.random.randint(0, x_train.shape[0] - 1)\n",
        "        x_anchor = x_train[random_index]\n",
        "        y = y_train[random_index]\n",
        "        \n",
        "        indices_for_pos = np.squeeze(np.where(y_train == y))\n",
        "        indices_for_neg = np.squeeze(np.where(y_train != y))\n",
        "        \n",
        "        x_positive = x_train[indices_for_pos[np.random.randint(0, len(indices_for_pos) - 1)]]\n",
        "        x_negative = x_train[indices_for_neg[np.random.randint(0, len(indices_for_neg) - 1)]]\n",
        "        \n",
        "        x_anchors[i] = x_anchor\n",
        "        x_positives[i] = x_positive\n",
        "        x_negatives[i] = x_negative\n",
        "        \n",
        "    return [x_anchors, x_positives, x_negatives]\n",
        "print(create_batch()[2].shape)"
      ],
      "execution_count": 244,
      "outputs": [
        {
          "output_type": "stream",
          "text": [
            "(256, 28, 28, 1)\n"
          ],
          "name": "stdout"
        }
      ]
    },
    {
      "cell_type": "markdown",
      "metadata": {
        "id": "A9kBIwWkodIG"
      },
      "source": [
        "Plot your MNIST triplets"
      ]
    },
    {
      "cell_type": "code",
      "metadata": {
        "id": "8DqWrTmDBmob",
        "colab": {
          "base_uri": "https://localhost:8080/",
          "height": 133
        },
        "outputId": "ab3cd5e1-0881-4393-c4b8-9b53b0cf7ba7"
      },
      "source": [
        "import matplotlib.pyplot as plt\n",
        "\n",
        "def plot_triplets(examples):\n",
        "    plt.figure(figsize=(6, 2))\n",
        "    for i in range(3):\n",
        "        plt.subplot(1, 3, 1 + i)\n",
        "        plt.imshow(np.reshape(examples[i], (28, 28)), cmap='binary')\n",
        "        plt.xticks([])\n",
        "        plt.yticks([])\n",
        "    plt.show()\n",
        "\n",
        "examples = create_batch(1)\n",
        "plot_triplets(examples)"
      ],
      "execution_count": 245,
      "outputs": [
        {
          "output_type": "display_data",
          "data": {
            "image/png": "[encoded data removed]",
            "text/plain": [
              "<Figure size 432x144 with 3 Axes>"
            ]
          },
          "metadata": {
            "tags": []
          }
        }
      ]
    },
    {
      "cell_type": "markdown",
      "metadata": {
        "id": "Vybu8YxYwSEb"
      },
      "source": [
        "Implement your embedding model. Use Dense layer with emb_size as nuber of neurons and sigmoid activation function as last layer."
      ]
    },
    {
      "cell_type": "code",
      "metadata": {
        "id": "g5aneh1ZGIOF"
      },
      "source": [
        "from tensorflow import keras\n",
        "emb_size = 32\n",
        "layer_1 = keras.layers.Input(shape=(28, 28, 1), name=\"layer_1\")\n",
        "layer_2 = keras.layers.Dense(128, activation='relu', name=\"layer_2\")(layer_1)\n",
        "layer_3 = keras.layers.Dense(64, activation='relu', name=\"layer_3\")(layer_2)\n",
        "output = keras.layers.Dense(emb_size, activation='sigmoid', name=\"layer_4_output\")(layer_3)\n"
      ],
      "execution_count": 246,
      "outputs": []
    },
    {
      "cell_type": "code",
      "metadata": {
        "id": "UmezmWWmVN4o",
        "colab": {
          "base_uri": "https://localhost:8080/"
        },
        "outputId": "a6aa931d-4156-43f3-80de-be27ad3ab608"
      },
      "source": [
        "model = keras.Model(inputs=layer_1, outputs=output) #Your Model (get an image, return a vector of size emb_size)#\n",
        "model.summary()"
      ],
      "execution_count": 247,
      "outputs": [
        {
          "output_type": "stream",
          "text": [
            "Model: \"model_26\"\n",
            "_________________________________________________________________\n",
            "Layer (type)                 Output Shape              Param #   \n",
            "=================================================================\n",
            "layer_1 (InputLayer)         [(None, 28, 28, 1)]       0         \n",
            "_________________________________________________________________\n",
            "layer_2 (Dense)              (None, 28, 28, 128)       256       \n",
            "_________________________________________________________________\n",
            "layer_3 (Dense)              (None, 28, 28, 64)        8256      \n",
            "_________________________________________________________________\n",
            "layer_4_output (Dense)       (None, 28, 28, 32)        2080      \n",
            "=================================================================\n",
            "Total params: 10,592\n",
            "Trainable params: 10,592\n",
            "Non-trainable params: 0\n",
            "_________________________________________________________________\n"
          ],
          "name": "stdout"
        }
      ]
    },
    {
      "cell_type": "markdown",
      "metadata": {
        "id": "meCGDYX41glc"
      },
      "source": [
        "Check your embedding predictions."
      ]
    },
    {
      "cell_type": "code",
      "metadata": {
        "id": "-5UIeLbYCMRl",
        "colab": {
          "base_uri": "https://localhost:8080/"
        },
        "outputId": "1eaa0fd0-8b66-422a-aa8e-35013da92e51"
      },
      "source": [
        "example = np.expand_dims(x_train[0], axis=0)\n",
        "example_emb = model.predict(example)[0]\n",
        "\n",
        "print(example_emb)"
      ],
      "execution_count": 248,
      "outputs": [
        {
          "output_type": "stream",
          "text": [
            "[[[0.5 0.5 0.5 ... 0.5 0.5 0.5]\n",
            "  [0.5 0.5 0.5 ... 0.5 0.5 0.5]\n",
            "  [0.5 0.5 0.5 ... 0.5 0.5 0.5]\n",
            "  ...\n",
            "  [0.5 0.5 0.5 ... 0.5 0.5 0.5]\n",
            "  [0.5 0.5 0.5 ... 0.5 0.5 0.5]\n",
            "  [0.5 0.5 0.5 ... 0.5 0.5 0.5]]\n",
            "\n",
            " [[0.5 0.5 0.5 ... 0.5 0.5 0.5]\n",
            "  [0.5 0.5 0.5 ... 0.5 0.5 0.5]\n",
            "  [0.5 0.5 0.5 ... 0.5 0.5 0.5]\n",
            "  ...\n",
            "  [0.5 0.5 0.5 ... 0.5 0.5 0.5]\n",
            "  [0.5 0.5 0.5 ... 0.5 0.5 0.5]\n",
            "  [0.5 0.5 0.5 ... 0.5 0.5 0.5]]\n",
            "\n",
            " [[0.5 0.5 0.5 ... 0.5 0.5 0.5]\n",
            "  [0.5 0.5 0.5 ... 0.5 0.5 0.5]\n",
            "  [0.5 0.5 0.5 ... 0.5 0.5 0.5]\n",
            "  ...\n",
            "  [0.5 0.5 0.5 ... 0.5 0.5 0.5]\n",
            "  [0.5 0.5 0.5 ... 0.5 0.5 0.5]\n",
            "  [0.5 0.5 0.5 ... 0.5 0.5 0.5]]\n",
            "\n",
            " ...\n",
            "\n",
            " [[0.5 0.5 0.5 ... 0.5 0.5 0.5]\n",
            "  [0.5 0.5 0.5 ... 0.5 0.5 0.5]\n",
            "  [0.5 0.5 0.5 ... 0.5 0.5 0.5]\n",
            "  ...\n",
            "  [0.5 0.5 0.5 ... 0.5 0.5 0.5]\n",
            "  [0.5 0.5 0.5 ... 0.5 0.5 0.5]\n",
            "  [0.5 0.5 0.5 ... 0.5 0.5 0.5]]\n",
            "\n",
            " [[0.5 0.5 0.5 ... 0.5 0.5 0.5]\n",
            "  [0.5 0.5 0.5 ... 0.5 0.5 0.5]\n",
            "  [0.5 0.5 0.5 ... 0.5 0.5 0.5]\n",
            "  ...\n",
            "  [0.5 0.5 0.5 ... 0.5 0.5 0.5]\n",
            "  [0.5 0.5 0.5 ... 0.5 0.5 0.5]\n",
            "  [0.5 0.5 0.5 ... 0.5 0.5 0.5]]\n",
            "\n",
            " [[0.5 0.5 0.5 ... 0.5 0.5 0.5]\n",
            "  [0.5 0.5 0.5 ... 0.5 0.5 0.5]\n",
            "  [0.5 0.5 0.5 ... 0.5 0.5 0.5]\n",
            "  ...\n",
            "  [0.5 0.5 0.5 ... 0.5 0.5 0.5]\n",
            "  [0.5 0.5 0.5 ... 0.5 0.5 0.5]\n",
            "  [0.5 0.5 0.5 ... 0.5 0.5 0.5]]]\n"
          ],
          "name": "stdout"
        }
      ]
    },
    {
      "cell_type": "markdown",
      "metadata": {
        "id": "t4Lc-DWBox4N"
      },
      "source": [
        "Implement Siamese network\n",
        "\n"
      ]
    },
    {
      "cell_type": "code",
      "metadata": {
        "id": "w6kavEziCai0",
        "colab": {
          "base_uri": "https://localhost:8080/"
        },
        "outputId": "bfa157b2-0759-416d-e7c2-d413cc7dc472"
      },
      "source": [
        "# describe this cell\n",
        "\n",
        "input_anchor = tf.keras.layers.Input(shape=(28, 28, 1), name=\"anchor\")\n",
        "input_positive = tf.keras.layers.Input(shape=(28, 28, 1), name=\"positive\")\n",
        "input_negative = tf.keras.layers.Input(shape=(28, 28, 1), name=\"negetive\")\n",
        "\n",
        "embedding_anchor = model(input_anchor)\n",
        "embedding_positive = model(input_positive)\n",
        "embedding_negative = model(input_negative)\n",
        "\n",
        "# concat just in axis=1.\n",
        "output = tf.keras.layers.concatenate([embedding_anchor, embedding_positive, embedding_negative], axis=1, name=\"output\")\n",
        "\n",
        "net = tf.keras.models.Model([input_anchor, input_positive, input_negative], output, name=\"net\")\n",
        "net.summary()"
      ],
      "execution_count": 249,
      "outputs": [
        {
          "output_type": "stream",
          "text": [
            "Model: \"net\"\n",
            "__________________________________________________________________________________________________\n",
            "Layer (type)                    Output Shape         Param #     Connected to                     \n",
            "==================================================================================================\n",
            "anchor (InputLayer)             [(None, 28, 28, 1)]  0                                            \n",
            "__________________________________________________________________________________________________\n",
            "positive (InputLayer)           [(None, 28, 28, 1)]  0                                            \n",
            "__________________________________________________________________________________________________\n",
            "negetive (InputLayer)           [(None, 28, 28, 1)]  0                                            \n",
            "__________________________________________________________________________________________________\n",
            "model_26 (Functional)           (None, 28, 28, 32)   10592       anchor[0][0]                     \n",
            "                                                                 positive[0][0]                   \n",
            "                                                                 negetive[0][0]                   \n",
            "__________________________________________________________________________________________________\n",
            "output (Concatenate)            (None, 84, 28, 32)   0           model_26[0][0]                   \n",
            "                                                                 model_26[1][0]                   \n",
            "                                                                 model_26[2][0]                   \n",
            "==================================================================================================\n",
            "Total params: 10,592\n",
            "Trainable params: 10,592\n",
            "Non-trainable params: 0\n",
            "__________________________________________________________________________________________________\n"
          ],
          "name": "stdout"
        }
      ]
    },
    {
      "cell_type": "markdown",
      "metadata": {
        "id": "zwbJOPWFhklI"
      },
      "source": [
        "We use PCA for showing embeddings in two dimenshion. **Don't change it**."
      ]
    },
    {
      "cell_type": "code",
      "metadata": {
        "id": "rQwwTOIIFtvs"
      },
      "source": [
        "# describe this cell\n",
        "\n",
        "from sklearn.decomposition import PCA\n",
        "\n",
        "class PCAPlotter(tf.keras.callbacks.Callback):\n",
        "    \n",
        "    def __init__(self, model, x_test, y_test):\n",
        "        super(PCAPlotter, self).__init__()\n",
        "        self.embedding_model = model\n",
        "        self.x_test = x_test\n",
        "        self.y_test = y_test\n",
        "        self.fig = plt.figure(figsize=(15, 4))\n",
        "        self.ax1 = plt.subplot(1, 3, 1)\n",
        "        self.ax2 = plt.subplot(1, 3, 2)\n",
        "        self.ax3 = plt.subplot(1, 3, 3)\n",
        "        plt.ion()\n",
        "        \n",
        "        self.losses = []\n",
        "    \n",
        "    def plot(self, epoch=None, plot_loss=False):\n",
        "        pca_out = PCA(n_components=2).fit_transform(self.x_test.reshape((self.x_test.shape[0], 28*28)))\n",
        "        self.ax1.clear()\n",
        "        self.ax1.scatter(pca_out[:, 0], pca_out[:, 1], c=self.y_test, cmap='seismic')\n",
        "\n",
        "        x_test_embeddings = self.embedding_model.predict(self.x_test)\n",
        "        pca_out = PCA(n_components=2).fit_transform(x_test_embeddings)\n",
        "        self.ax2.clear()\n",
        "        self.ax2.scatter(pca_out[:, 0], pca_out[:, 1], c=self.y_test, cmap='seismic')\n",
        "\n",
        "        if plot_loss:\n",
        "            self.ax3.clear()\n",
        "            self.ax3.plot(range(epoch), self.losses)\n",
        "            self.ax3.set_xlabel('Epochs')\n",
        "            self.ax3.set_ylabel('Loss')\n",
        "        self.fig.canvas.draw()\n",
        "    \n",
        "    def on_train_begin(self, logs=None):\n",
        "        self.losses = []\n",
        "        self.fig.show()\n",
        "        self.fig.canvas.draw()\n",
        "        self.plot()\n",
        "        \n",
        "    def on_epoch_end(self, epoch, logs=None):\n",
        "        self.losses.append(logs.get('loss'))\n",
        "        self.plot(epoch+1, plot_loss=True)"
      ],
      "execution_count": 250,
      "outputs": []
    },
    {
      "cell_type": "markdown",
      "metadata": {
        "id": "6SugIc30ipX0"
      },
      "source": [
        "Implement triplet_loss with tensorflow useful functions based on what you learned in class "
      ]
    },
    {
      "cell_type": "code",
      "metadata": {
        "id": "cvzfAOOge4ik"
      },
      "source": [
        "def triplet_loss(y_true, y_pred, alpha = 0.2):\n",
        "    anchor, positive, negative = y_pred[:,:emb_size], y_pred[:,emb_size:2*emb_size], y_pred[:,2*emb_size:]\n",
        "    positive_dist = tf.reduce_mean(tf.square(anchor - positive), axis=1)\n",
        "    negative_dist = tf.reduce_mean(tf.square(anchor - negative), axis=1)\n",
        "    return tf.maximum(positive_dist - negative_dist + alpha, 0.)"
      ],
      "execution_count": 251,
      "outputs": []
    },
    {
      "cell_type": "markdown",
      "metadata": {
        "id": "7P29SoTvpFnd"
      },
      "source": [
        "Data generator"
      ]
    },
    {
      "cell_type": "code",
      "metadata": {
        "id": "aL6zTm10ETlH"
      },
      "source": [
        "def data_generator(batch_size=256):\n",
        "    while True:\n",
        "        x = create_batch(batch_size)\n",
        "        y = np.zeros((batch_size, 3*emb_size))\n",
        "        yield x, y"
      ],
      "execution_count": 252,
      "outputs": []
    },
    {
      "cell_type": "markdown",
      "metadata": {
        "id": "92euUAeMi7cJ"
      },
      "source": [
        "Analyze your results."
      ]
    },
    {
      "cell_type": "code",
      "metadata": {
        "id": "jM1DFwy2jwk2",
        "colab": {
          "base_uri": "https://localhost:8080/",
          "height": 636
        },
        "outputId": "5a3741c9-90fe-4f39-a203-73c9dfb19ca0"
      },
      "source": [
        "batch_size = 1024\n",
        "epochs = 10\n",
        "steps_per_epoch = int(x_train.shape[0]/batch_size)\n",
        "\n",
        "net.compile(loss=triplet_loss, optimizer='adam')\n",
        "# x_test = x_test.reshape(10000, 784)\n",
        "net.fit(\n",
        "    data_generator(batch_size),\n",
        "    steps_per_epoch=steps_per_epoch,\n",
        "    epochs=epochs, verbose=1,\n",
        "    callbacks=[PCAPlotter(model, x_test[:10000], y_test[:10000])]\n",
        "    )"
      ],
      "execution_count": 254,
      "outputs": [
        {
          "output_type": "error",
          "ename": "ValueError",
          "evalue": "ignored",
          "traceback": [
            "\u001b[0;31m---------------------------------------------------------------------------\u001b[0m",
            "\u001b[0;31mValueError\u001b[0m                                Traceback (most recent call last)",
            "\u001b[0;32m<ipython-input-254-9532ad46a46c>\u001b[0m in \u001b[0;36m<module>\u001b[0;34m()\u001b[0m\n\u001b[1;32m      9\u001b[0m     \u001b[0msteps_per_epoch\u001b[0m\u001b[0;34m=\u001b[0m\u001b[0msteps_per_epoch\u001b[0m\u001b[0;34m,\u001b[0m\u001b[0;34m\u001b[0m\u001b[0;34m\u001b[0m\u001b[0m\n\u001b[1;32m     10\u001b[0m     \u001b[0mepochs\u001b[0m\u001b[0;34m=\u001b[0m\u001b[0mepochs\u001b[0m\u001b[0;34m,\u001b[0m \u001b[0mverbose\u001b[0m\u001b[0;34m=\u001b[0m\u001b[0;36m1\u001b[0m\u001b[0;34m,\u001b[0m\u001b[0;34m\u001b[0m\u001b[0;34m\u001b[0m\u001b[0m\n\u001b[0;32m---> 11\u001b[0;31m     \u001b[0mcallbacks\u001b[0m\u001b[0;34m=\u001b[0m\u001b[0;34m[\u001b[0m\u001b[0mPCAPlotter\u001b[0m\u001b[0;34m(\u001b[0m\u001b[0mmodel\u001b[0m\u001b[0;34m,\u001b[0m \u001b[0mx_test\u001b[0m\u001b[0;34m[\u001b[0m\u001b[0;34m:\u001b[0m\u001b[0;36m10000\u001b[0m\u001b[0;34m]\u001b[0m\u001b[0;34m,\u001b[0m \u001b[0my_test\u001b[0m\u001b[0;34m[\u001b[0m\u001b[0;34m:\u001b[0m\u001b[0;36m10000\u001b[0m\u001b[0;34m]\u001b[0m\u001b[0;34m)\u001b[0m\u001b[0;34m]\u001b[0m\u001b[0;34m\u001b[0m\u001b[0;34m\u001b[0m\u001b[0m\n\u001b[0m\u001b[1;32m     12\u001b[0m     )\n",
            "\u001b[0;32m/usr/local/lib/python3.7/dist-packages/tensorflow/python/keras/engine/training.py\u001b[0m in \u001b[0;36mfit\u001b[0;34m(self, x, y, batch_size, epochs, verbose, callbacks, validation_split, validation_data, shuffle, class_weight, sample_weight, initial_epoch, steps_per_epoch, validation_steps, validation_batch_size, validation_freq, max_queue_size, workers, use_multiprocessing)\u001b[0m\n\u001b[1;32m   1161\u001b[0m       \u001b[0mself\u001b[0m\u001b[0;34m.\u001b[0m\u001b[0mtrain_function\u001b[0m \u001b[0;34m=\u001b[0m \u001b[0mself\u001b[0m\u001b[0;34m.\u001b[0m\u001b[0mmake_train_function\u001b[0m\u001b[0;34m(\u001b[0m\u001b[0;34m)\u001b[0m\u001b[0;34m\u001b[0m\u001b[0;34m\u001b[0m\u001b[0m\n\u001b[1;32m   1162\u001b[0m       \u001b[0mself\u001b[0m\u001b[0;34m.\u001b[0m\u001b[0m_train_counter\u001b[0m\u001b[0;34m.\u001b[0m\u001b[0massign\u001b[0m\u001b[0;34m(\u001b[0m\u001b[0;36m0\u001b[0m\u001b[0;34m)\u001b[0m\u001b[0;34m\u001b[0m\u001b[0;34m\u001b[0m\u001b[0m\n\u001b[0;32m-> 1163\u001b[0;31m       \u001b[0mcallbacks\u001b[0m\u001b[0;34m.\u001b[0m\u001b[0mon_train_begin\u001b[0m\u001b[0;34m(\u001b[0m\u001b[0;34m)\u001b[0m\u001b[0;34m\u001b[0m\u001b[0;34m\u001b[0m\u001b[0m\n\u001b[0m\u001b[1;32m   1164\u001b[0m       \u001b[0mtraining_logs\u001b[0m \u001b[0;34m=\u001b[0m \u001b[0;32mNone\u001b[0m\u001b[0;34m\u001b[0m\u001b[0;34m\u001b[0m\u001b[0m\n\u001b[1;32m   1165\u001b[0m       \u001b[0;31m# Handle fault-tolerance for multi-worker.\u001b[0m\u001b[0;34m\u001b[0m\u001b[0;34m\u001b[0m\u001b[0;34m\u001b[0m\u001b[0m\n",
            "\u001b[0;32m/usr/local/lib/python3.7/dist-packages/tensorflow/python/keras/callbacks.py\u001b[0m in \u001b[0;36mon_train_begin\u001b[0;34m(self, logs)\u001b[0m\n\u001b[1;32m    510\u001b[0m     \u001b[0mlogs\u001b[0m \u001b[0;34m=\u001b[0m \u001b[0mself\u001b[0m\u001b[0;34m.\u001b[0m\u001b[0m_process_logs\u001b[0m\u001b[0;34m(\u001b[0m\u001b[0mlogs\u001b[0m\u001b[0;34m)\u001b[0m\u001b[0;34m\u001b[0m\u001b[0;34m\u001b[0m\u001b[0m\n\u001b[1;32m    511\u001b[0m     \u001b[0;32mfor\u001b[0m \u001b[0mcallback\u001b[0m \u001b[0;32min\u001b[0m \u001b[0mself\u001b[0m\u001b[0;34m.\u001b[0m\u001b[0mcallbacks\u001b[0m\u001b[0;34m:\u001b[0m\u001b[0;34m\u001b[0m\u001b[0;34m\u001b[0m\u001b[0m\n\u001b[0;32m--> 512\u001b[0;31m       \u001b[0mcallback\u001b[0m\u001b[0;34m.\u001b[0m\u001b[0mon_train_begin\u001b[0m\u001b[0;34m(\u001b[0m\u001b[0mlogs\u001b[0m\u001b[0;34m)\u001b[0m\u001b[0;34m\u001b[0m\u001b[0;34m\u001b[0m\u001b[0m\n\u001b[0m\u001b[1;32m    513\u001b[0m \u001b[0;34m\u001b[0m\u001b[0m\n\u001b[1;32m    514\u001b[0m   \u001b[0;32mdef\u001b[0m \u001b[0mon_train_end\u001b[0m\u001b[0;34m(\u001b[0m\u001b[0mself\u001b[0m\u001b[0;34m,\u001b[0m \u001b[0mlogs\u001b[0m\u001b[0;34m=\u001b[0m\u001b[0;32mNone\u001b[0m\u001b[0;34m)\u001b[0m\u001b[0;34m:\u001b[0m\u001b[0;34m\u001b[0m\u001b[0;34m\u001b[0m\u001b[0m\n",
            "\u001b[0;32m<ipython-input-250-339de882afc6>\u001b[0m in \u001b[0;36mon_train_begin\u001b[0;34m(self, logs)\u001b[0m\n\u001b[1;32m     39\u001b[0m         \u001b[0mself\u001b[0m\u001b[0;34m.\u001b[0m\u001b[0mfig\u001b[0m\u001b[0;34m.\u001b[0m\u001b[0mshow\u001b[0m\u001b[0;34m(\u001b[0m\u001b[0;34m)\u001b[0m\u001b[0;34m\u001b[0m\u001b[0;34m\u001b[0m\u001b[0m\n\u001b[1;32m     40\u001b[0m         \u001b[0mself\u001b[0m\u001b[0;34m.\u001b[0m\u001b[0mfig\u001b[0m\u001b[0;34m.\u001b[0m\u001b[0mcanvas\u001b[0m\u001b[0;34m.\u001b[0m\u001b[0mdraw\u001b[0m\u001b[0;34m(\u001b[0m\u001b[0;34m)\u001b[0m\u001b[0;34m\u001b[0m\u001b[0;34m\u001b[0m\u001b[0m\n\u001b[0;32m---> 41\u001b[0;31m         \u001b[0mself\u001b[0m\u001b[0;34m.\u001b[0m\u001b[0mplot\u001b[0m\u001b[0;34m(\u001b[0m\u001b[0;34m)\u001b[0m\u001b[0;34m\u001b[0m\u001b[0;34m\u001b[0m\u001b[0m\n\u001b[0m\u001b[1;32m     42\u001b[0m \u001b[0;34m\u001b[0m\u001b[0m\n\u001b[1;32m     43\u001b[0m     \u001b[0;32mdef\u001b[0m \u001b[0mon_epoch_end\u001b[0m\u001b[0;34m(\u001b[0m\u001b[0mself\u001b[0m\u001b[0;34m,\u001b[0m \u001b[0mepoch\u001b[0m\u001b[0;34m,\u001b[0m \u001b[0mlogs\u001b[0m\u001b[0;34m=\u001b[0m\u001b[0;32mNone\u001b[0m\u001b[0;34m)\u001b[0m\u001b[0;34m:\u001b[0m\u001b[0;34m\u001b[0m\u001b[0;34m\u001b[0m\u001b[0m\n",
            "\u001b[0;32m<ipython-input-250-339de882afc6>\u001b[0m in \u001b[0;36mplot\u001b[0;34m(self, epoch, plot_loss)\u001b[0m\n\u001b[1;32m     24\u001b[0m \u001b[0;34m\u001b[0m\u001b[0m\n\u001b[1;32m     25\u001b[0m         \u001b[0mx_test_embeddings\u001b[0m \u001b[0;34m=\u001b[0m \u001b[0mself\u001b[0m\u001b[0;34m.\u001b[0m\u001b[0membedding_model\u001b[0m\u001b[0;34m.\u001b[0m\u001b[0mpredict\u001b[0m\u001b[0;34m(\u001b[0m\u001b[0mself\u001b[0m\u001b[0;34m.\u001b[0m\u001b[0mx_test\u001b[0m\u001b[0;34m)\u001b[0m\u001b[0;34m\u001b[0m\u001b[0;34m\u001b[0m\u001b[0m\n\u001b[0;32m---> 26\u001b[0;31m         \u001b[0mpca_out\u001b[0m \u001b[0;34m=\u001b[0m \u001b[0mPCA\u001b[0m\u001b[0;34m(\u001b[0m\u001b[0mn_components\u001b[0m\u001b[0;34m=\u001b[0m\u001b[0;36m2\u001b[0m\u001b[0;34m)\u001b[0m\u001b[0;34m.\u001b[0m\u001b[0mfit_transform\u001b[0m\u001b[0;34m(\u001b[0m\u001b[0mx_test_embeddings\u001b[0m\u001b[0;34m)\u001b[0m\u001b[0;34m\u001b[0m\u001b[0;34m\u001b[0m\u001b[0m\n\u001b[0m\u001b[1;32m     27\u001b[0m         \u001b[0mself\u001b[0m\u001b[0;34m.\u001b[0m\u001b[0max2\u001b[0m\u001b[0;34m.\u001b[0m\u001b[0mclear\u001b[0m\u001b[0;34m(\u001b[0m\u001b[0;34m)\u001b[0m\u001b[0;34m\u001b[0m\u001b[0;34m\u001b[0m\u001b[0m\n\u001b[1;32m     28\u001b[0m         \u001b[0mself\u001b[0m\u001b[0;34m.\u001b[0m\u001b[0max2\u001b[0m\u001b[0;34m.\u001b[0m\u001b[0mscatter\u001b[0m\u001b[0;34m(\u001b[0m\u001b[0mpca_out\u001b[0m\u001b[0;34m[\u001b[0m\u001b[0;34m:\u001b[0m\u001b[0;34m,\u001b[0m \u001b[0;36m0\u001b[0m\u001b[0;34m]\u001b[0m\u001b[0;34m,\u001b[0m \u001b[0mpca_out\u001b[0m\u001b[0;34m[\u001b[0m\u001b[0;34m:\u001b[0m\u001b[0;34m,\u001b[0m \u001b[0;36m1\u001b[0m\u001b[0;34m]\u001b[0m\u001b[0;34m,\u001b[0m \u001b[0mc\u001b[0m\u001b[0;34m=\u001b[0m\u001b[0mself\u001b[0m\u001b[0;34m.\u001b[0m\u001b[0my_test\u001b[0m\u001b[0;34m,\u001b[0m \u001b[0mcmap\u001b[0m\u001b[0;34m=\u001b[0m\u001b[0;34m'seismic'\u001b[0m\u001b[0;34m)\u001b[0m\u001b[0;34m\u001b[0m\u001b[0;34m\u001b[0m\u001b[0m\n",
            "\u001b[0;32m/usr/local/lib/python3.7/dist-packages/sklearn/decomposition/_pca.py\u001b[0m in \u001b[0;36mfit_transform\u001b[0;34m(self, X, y)\u001b[0m\n\u001b[1;32m    367\u001b[0m         \u001b[0mC\u001b[0m\u001b[0;34m-\u001b[0m\u001b[0mordered\u001b[0m \u001b[0marray\u001b[0m\u001b[0;34m,\u001b[0m \u001b[0muse\u001b[0m \u001b[0;34m'np.ascontiguousarray'\u001b[0m\u001b[0;34m.\u001b[0m\u001b[0;34m\u001b[0m\u001b[0;34m\u001b[0m\u001b[0m\n\u001b[1;32m    368\u001b[0m         \"\"\"\n\u001b[0;32m--> 369\u001b[0;31m         \u001b[0mU\u001b[0m\u001b[0;34m,\u001b[0m \u001b[0mS\u001b[0m\u001b[0;34m,\u001b[0m \u001b[0mV\u001b[0m \u001b[0;34m=\u001b[0m \u001b[0mself\u001b[0m\u001b[0;34m.\u001b[0m\u001b[0m_fit\u001b[0m\u001b[0;34m(\u001b[0m\u001b[0mX\u001b[0m\u001b[0;34m)\u001b[0m\u001b[0;34m\u001b[0m\u001b[0;34m\u001b[0m\u001b[0m\n\u001b[0m\u001b[1;32m    370\u001b[0m         \u001b[0mU\u001b[0m \u001b[0;34m=\u001b[0m \u001b[0mU\u001b[0m\u001b[0;34m[\u001b[0m\u001b[0;34m:\u001b[0m\u001b[0;34m,\u001b[0m \u001b[0;34m:\u001b[0m\u001b[0mself\u001b[0m\u001b[0;34m.\u001b[0m\u001b[0mn_components_\u001b[0m\u001b[0;34m]\u001b[0m\u001b[0;34m\u001b[0m\u001b[0;34m\u001b[0m\u001b[0m\n\u001b[1;32m    371\u001b[0m \u001b[0;34m\u001b[0m\u001b[0m\n",
            "\u001b[0;32m/usr/local/lib/python3.7/dist-packages/sklearn/decomposition/_pca.py\u001b[0m in \u001b[0;36m_fit\u001b[0;34m(self, X)\u001b[0m\n\u001b[1;32m    389\u001b[0m \u001b[0;34m\u001b[0m\u001b[0m\n\u001b[1;32m    390\u001b[0m         X = check_array(X, dtype=[np.float64, np.float32], ensure_2d=True,\n\u001b[0;32m--> 391\u001b[0;31m                         copy=self.copy)\n\u001b[0m\u001b[1;32m    392\u001b[0m \u001b[0;34m\u001b[0m\u001b[0m\n\u001b[1;32m    393\u001b[0m         \u001b[0;31m# Handle n_components==None\u001b[0m\u001b[0;34m\u001b[0m\u001b[0;34m\u001b[0m\u001b[0;34m\u001b[0m\u001b[0m\n",
            "\u001b[0;32m/usr/local/lib/python3.7/dist-packages/sklearn/utils/validation.py\u001b[0m in \u001b[0;36mcheck_array\u001b[0;34m(array, accept_sparse, accept_large_sparse, dtype, order, copy, force_all_finite, ensure_2d, allow_nd, ensure_min_samples, ensure_min_features, warn_on_dtype, estimator)\u001b[0m\n\u001b[1;32m    572\u001b[0m         \u001b[0;32mif\u001b[0m \u001b[0;32mnot\u001b[0m \u001b[0mallow_nd\u001b[0m \u001b[0;32mand\u001b[0m \u001b[0marray\u001b[0m\u001b[0;34m.\u001b[0m\u001b[0mndim\u001b[0m \u001b[0;34m>=\u001b[0m \u001b[0;36m3\u001b[0m\u001b[0;34m:\u001b[0m\u001b[0;34m\u001b[0m\u001b[0;34m\u001b[0m\u001b[0m\n\u001b[1;32m    573\u001b[0m             raise ValueError(\"Found array with dim %d. %s expected <= 2.\"\n\u001b[0;32m--> 574\u001b[0;31m                              % (array.ndim, estimator_name))\n\u001b[0m\u001b[1;32m    575\u001b[0m \u001b[0;34m\u001b[0m\u001b[0m\n\u001b[1;32m    576\u001b[0m         \u001b[0;32mif\u001b[0m \u001b[0mforce_all_finite\u001b[0m\u001b[0;34m:\u001b[0m\u001b[0;34m\u001b[0m\u001b[0;34m\u001b[0m\u001b[0m\n",
            "\u001b[0;31mValueError\u001b[0m: Found array with dim 4. Estimator expected <= 2."
          ]
        },
        {
          "output_type": "display_data",
          "data": {
            "image/png": "[encoded data removed]",
            "text/plain": [
              "<Figure size 1080x288 with 3 Axes>"
            ]
          },
          "metadata": {
            "tags": [],
            "needs_background": "light"
          }
        }
      ]
    }
  ]
}