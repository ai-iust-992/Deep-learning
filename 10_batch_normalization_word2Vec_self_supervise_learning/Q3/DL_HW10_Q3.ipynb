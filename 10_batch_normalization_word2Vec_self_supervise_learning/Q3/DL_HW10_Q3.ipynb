{
  "nbformat": 4,
  "nbformat_minor": 0,
  "metadata": {
    "colab": {
      "name": "DL_HW10_Q3.ipynb",
      "provenance": [],
      "collapsed_sections": []
    },
    "kernelspec": {
      "name": "python3",
      "display_name": "Python 3"
    },
    "language_info": {
      "name": "python"
    }
  },
  "cells": [
    {
      "cell_type": "code",
      "metadata": {
        "id": "l3Hwf9bQzJUk",
        "colab": {
          "base_uri": "https://localhost:8080/"
        },
        "outputId": "960cac88-f515-4f72-a972-41f89b787e5b"
      },
      "source": [
        "import gensim.downloader as api\n",
        "wv_from_bin = api.load(\"glove-wiki-gigaword-200\")\n",
        "print(\"Loaded vocab size %i\" % len(wv_from_bin.vocab.keys()))"
      ],
      "execution_count": null,
      "outputs": [
        {
          "output_type": "stream",
          "text": [
            "Loaded vocab size 400000\n"
          ],
          "name": "stdout"
        }
      ]
    },
    {
      "cell_type": "markdown",
      "metadata": {
        "id": "tVJYD1Vt0OX8"
      },
      "source": [
        "#A"
      ]
    },
    {
      "cell_type": "code",
      "metadata": {
        "id": "02lQrPVOzvZU",
        "colab": {
          "base_uri": "https://localhost:8080/"
        },
        "outputId": "0024ab6d-0905-4999-9fb9-1c874276aee4"
      },
      "source": [
        "word = \"iran\"\n",
        "print('word is \\'{}\\''.format(word))\n",
        "print('most similar words are ', wv_from_bin.most_similar(word))"
      ],
      "execution_count": null,
      "outputs": [
        {
          "output_type": "stream",
          "text": [
            "word is 'iran'\n",
            "most similar words are  [('tehran', 0.8018953204154968), ('iranian', 0.7916760444641113), ('syria', 0.682746171951294), ('nuclear', 0.6627756357192993), ('iranians', 0.654109537601471), ('iraq', 0.645396888256073), ('ahmadinejad', 0.6219896078109741), ('enrichment', 0.6144343614578247), ('libya', 0.6124347448348999), ('arabia', 0.6014441251754761)]\n"
          ],
          "name": "stdout"
        }
      ]
    },
    {
      "cell_type": "markdown",
      "metadata": {
        "id": "XoICePOd0RNM"
      },
      "source": [
        "#B"
      ]
    },
    {
      "cell_type": "code",
      "metadata": {
        "id": "H5b7nOsMz0gC",
        "colab": {
          "base_uri": "https://localhost:8080/"
        },
        "outputId": "807824e6-ee4b-452f-c303-0e852d128664"
      },
      "source": [
        "w1 = \"father\"\n",
        "w2 = \"brother\"\n",
        "w3 = \"homework\"\n",
        "print('Distance \\'{}\\' and \\'{}\\' is {}'.format(w1, w2, wv_from_bin.distance(w1, w2))) # short dist\n",
        "print('Distance \\'{}\\' and \\'{}\\' is {}'.format(w1, w3, wv_from_bin.distance(w1, w3))) # long dist"
      ],
      "execution_count": null,
      "outputs": [
        {
          "output_type": "stream",
          "text": [
            "Distance 'father' and 'brother' is 0.1406240463256836\n",
            "Distance 'father' and 'homework' is 0.8055841624736786\n"
          ],
          "name": "stdout"
        }
      ]
    },
    {
      "cell_type": "markdown",
      "metadata": {
        "id": "yObj9wYw0Sg6"
      },
      "source": [
        "#C"
      ]
    },
    {
      "cell_type": "code",
      "metadata": {
        "id": "cKkgHHbTz9s_",
        "colab": {
          "base_uri": "https://localhost:8080/"
        },
        "outputId": "6f97cb06-5fb7-4406-bb27-15337ec30040"
      },
      "source": [
        "w1 = \"father\"\n",
        "w2 = \"brother\"\n",
        "w3 = \"sister\"\n",
        "print(wv_from_bin.most_similar(positive=[w1, w2], negative=[w3]))\n",
        "print(wv_from_bin.most_similar(positive=[w1, w3], negative=[w2]))"
      ],
      "execution_count": null,
      "outputs": [
        {
          "output_type": "stream",
          "text": [
            "[('son', 0.7970596551895142), ('uncle', 0.7218263149261475), ('grandfather', 0.720313310623169), ('nephew', 0.7136063575744629), ('grandson', 0.7050833702087402), ('his', 0.6235296726226807), ('himself', 0.6094051003456116), ('sons', 0.6067705154418945), ('elder', 0.5954800844192505), ('cousin', 0.5950334072113037)]\n",
            "[('mother', 0.8504593968391418), ('daughter', 0.7459856867790222), ('wife', 0.7339885234832764), ('grandmother', 0.7117711305618286), ('she', 0.7019714713096619), ('her', 0.7003562450408936), ('daughters', 0.6821584701538086), ('husband', 0.6506712436676025), ('aunt', 0.6474298238754272), ('niece', 0.6314456462860107)]\n"
          ],
          "name": "stdout"
        }
      ]
    },
    {
      "cell_type": "markdown",
      "metadata": {
        "id": "6mXaCn_y0cBA"
      },
      "source": [
        "#D"
      ]
    },
    {
      "cell_type": "code",
      "metadata": {
        "id": "po-LERr-0bOe",
        "colab": {
          "base_uri": "https://localhost:8080/"
        },
        "outputId": "a6d8be5d-bf12-4007-c22c-c4b08a677ef3"
      },
      "source": [
        "print(wv_from_bin.most_similar(positive=['many', 'cow'], negative=['one']))"
      ],
      "execution_count": null,
      "outputs": [
        {
          "output_type": "stream",
          "text": [
            "[('cows', 0.6353424787521362), ('cattle', 0.5631539225578308), ('mad', 0.5619195699691772), ('sheep', 0.5586581230163574), ('pigs', 0.557633638381958), ('bovine', 0.5567370653152466), ('herds', 0.5566994547843933), ('beef', 0.5285123586654663), ('chickens', 0.5182628631591797), ('bse', 0.5022904276847839)]\n"
          ],
          "name": "stdout"
        }
      ]
    },
    {
      "cell_type": "code",
      "metadata": {
        "colab": {
          "base_uri": "https://localhost:8080/"
        },
        "id": "68eCDQ_Gsc5w",
        "outputId": "a302ba28-b3fb-450d-ad93-673e5fea7fa0"
      },
      "source": [
        "print(wv_from_bin.most_similar(positive=['young', 'cow'], negative=['old']))"
      ],
      "execution_count": null,
      "outputs": [
        {
          "output_type": "stream",
          "text": [
            "[('mad', 0.6016051769256592), ('cows', 0.5750541687011719), ('sheep', 0.5211982131004333), ('pigs', 0.517691969871521), ('herd', 0.5136926174163818), ('bovine', 0.5008134245872498), ('cattle', 0.48994070291519165), ('infected', 0.48399820923805237), ('spongiform', 0.4800351858139038), ('animals', 0.4769159257411957)]\n"
          ],
          "name": "stdout"
        }
      ]
    }
  ]
}