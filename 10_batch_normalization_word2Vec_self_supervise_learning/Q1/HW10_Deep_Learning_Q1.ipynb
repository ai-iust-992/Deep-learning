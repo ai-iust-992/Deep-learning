{
  "nbformat": 4,
  "nbformat_minor": 0,
  "metadata": {
    "colab": {
      "name": "HW10_Deep_Learning_Q1.ipynb",
      "provenance": [],
      "collapsed_sections": []
    },
    "kernelspec": {
      "name": "python3",
      "display_name": "Python 3"
    },
    "language_info": {
      "name": "python"
    }
  },
  "cells": [
    {
      "cell_type": "code",
      "metadata": {
        "id": "ju_EgEHnJnLa"
      },
      "source": [
        "import numpy as np\n",
        "data = np.array([[29, 39, 75, 38, 35], [60, 31, 49, 27, 96], [48, 26, 13, 29, 90], [65, 97, 62, 34, 11], [46, 71, 76, 40, 87]])"
      ],
      "execution_count": 9,
      "outputs": []
    },
    {
      "cell_type": "markdown",
      "metadata": {
        "id": "HYyiyTZBKgPq"
      },
      "source": [
        "# Batch Normalization"
      ]
    },
    {
      "cell_type": "code",
      "metadata": {
        "id": "nqcR10XAKgtr",
        "colab": {
          "base_uri": "https://localhost:8080/"
        },
        "outputId": "0bc585f6-70ea-488d-9ed6-f15583d674ad"
      },
      "source": [
        "means = np.mean(data, axis=0)\n",
        "variance_2 = np.var(data, axis=0)\n",
        "variance = np.sqrt(variance_2)\n",
        "print(\"means : \", means)\n",
        "print(\"variance : \", variance)\n",
        "\n",
        "batch_normalized= (data - means) / variance\n",
        "print(batch_normalized)"
      ],
      "execution_count": 10,
      "outputs": [
        {
          "output_type": "stream",
          "text": [
            "means :  [49.6 52.8 55.  33.6 63.8]\n",
            "variance :  [12.53156016 27.08800473 23.19482701  5.0039984  34.28935695]\n",
            "[[-1.64384959 -0.50945059  0.86226123  0.87929684 -0.83991076]\n",
            " [ 0.82990465 -0.80478427 -0.25867837 -1.31894527  0.9390669 ]\n",
            " [-0.12767764 -0.98936781 -1.81074858 -0.91926488  0.76408549]\n",
            " [ 1.22889726  1.63171856  0.30179143  0.07993608 -1.5398364 ]\n",
            " [-0.28727469  0.67188411  0.90537429  1.27897723  0.67659478]]\n"
          ],
          "name": "stdout"
        }
      ]
    },
    {
      "cell_type": "markdown",
      "metadata": {
        "id": "agFs0YidKhVE"
      },
      "source": [
        "# Layer Normalization"
      ]
    },
    {
      "cell_type": "code",
      "metadata": {
        "id": "_orHh4J5Khvc",
        "colab": {
          "base_uri": "https://localhost:8080/"
        },
        "outputId": "3c523209-babe-4ae1-f911-5be2f52500bc"
      },
      "source": [
        "means = np.mean(data, axis=1)\n",
        "variance_2 = np.var(data, axis=1)\n",
        "variance = np.sqrt(variance_2)\n",
        "print(\"means : \", means)\n",
        "print(\"variance : \", variance)\n",
        "\n",
        "layer_normalized= (data - means) / variance\n",
        "print(layer_normalized)"
      ],
      "execution_count": 11,
      "outputs": [
        {
          "output_type": "stream",
          "text": [
            "means :  [43.2 52.6 41.2 53.8 64. ]\n",
            "variance :  [16.27759196 24.79193417 26.84324869 29.26704631 18.01110768]\n",
            "[[-0.87236491 -0.54856551  1.25916205 -0.53985632 -1.61011752]\n",
            " [ 1.03209369 -0.8712511   0.29057586 -0.91570566  1.7766814 ]\n",
            " [ 0.29488391 -1.0729296  -1.05054348 -0.84736942  1.44355364]\n",
            " [ 1.33926444  1.79090505  0.77486895 -0.67652881 -2.94262857]\n",
            " [ 0.17201562  0.74217687  1.29641536 -0.47152008  1.27698976]]\n"
          ],
          "name": "stdout"
        }
      ]
    }
  ]
}