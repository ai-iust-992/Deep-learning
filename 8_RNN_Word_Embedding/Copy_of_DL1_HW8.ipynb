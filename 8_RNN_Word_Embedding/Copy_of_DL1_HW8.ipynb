{
  "nbformat": 4,
  "nbformat_minor": 0,
  "metadata": {
    "colab": {
      "name": "Copy of DL1_HW8.ipynb",
      "provenance": [],
      "collapsed_sections": [],
      "toc_visible": true
    },
    "kernelspec": {
      "name": "python3",
      "display_name": "Python 3"
    },
    "language_info": {
      "name": "python"
    }
  },
  "cells": [
    {
      "cell_type": "markdown",
      "metadata": {
        "id": "u1tDa5oOX_jE"
      },
      "source": [
        "# Prepare data"
      ]
    },
    {
      "cell_type": "markdown",
      "metadata": {
        "id": "TFJkgwV1pJ95"
      },
      "source": [
        "It's the Newsgroup20 data sentiment-prediction task."
      ]
    },
    {
      "cell_type": "code",
      "metadata": {
        "id": "q7uWIGpc8KOz"
      },
      "source": [
        "import tensorflow as tf\n",
        "from tensorflow import keras\n",
        "import numpy as np"
      ],
      "execution_count": 1,
      "outputs": []
    },
    {
      "cell_type": "markdown",
      "metadata": {
        "id": "4EjAJ6RF15Xw"
      },
      "source": [
        "Download the Newsgroup20 data"
      ]
    },
    {
      "cell_type": "code",
      "metadata": {
        "id": "cp_z5bvz154p",
        "colab": {
          "base_uri": "https://localhost:8080/"
        },
        "outputId": "c68ee21a-256b-41c1-b306-68af4a8d862e"
      },
      "source": [
        "data_path = keras.utils.get_file(\n",
        "    \"news20.tar.gz\",\n",
        "    \"http://www.cs.cmu.edu/afs/cs.cmu.edu/project/theo-20/www/data/news20.tar.gz\",\n",
        "    untar=True,\n",
        ")"
      ],
      "execution_count": 2,
      "outputs": [
        {
          "output_type": "stream",
          "text": [
            "Downloading data from http://www.cs.cmu.edu/afs/cs.cmu.edu/project/theo-20/www/data/news20.tar.gz\n",
            "17334272/17329808 [==============================] - 12s 1us/step\n"
          ],
          "name": "stdout"
        }
      ]
    },
    {
      "cell_type": "code",
      "metadata": {
        "id": "ZTEbSBT12XXQ",
        "colab": {
          "base_uri": "https://localhost:8080/"
        },
        "outputId": "d3b83cd4-2eae-42b8-d20b-97cfe61d8f58"
      },
      "source": [
        "import os\n",
        "import pathlib\n",
        "\n",
        "data_dir = pathlib.Path(data_path).parent / \"20_newsgroup\"\n",
        "dirnames = os.listdir(data_dir)\n",
        "print(\"Number of directories:\", len(dirnames))\n",
        "print(\"Directory names:\", dirnames)\n",
        "\n",
        "fnames = os.listdir(data_dir / \"comp.graphics\")\n",
        "print(\"Number of files in comp.graphics:\", len(fnames))\n",
        "print(\"Some example filenames:\", fnames[:5])\n"
      ],
      "execution_count": 3,
      "outputs": [
        {
          "output_type": "stream",
          "text": [
            "Number of directories: 20\n",
            "Directory names: ['comp.sys.ibm.pc.hardware', 'sci.electronics', 'comp.sys.mac.hardware', 'rec.sport.hockey', 'talk.politics.guns', 'sci.crypt', 'talk.politics.misc', 'comp.graphics', 'alt.atheism', 'comp.windows.x', 'talk.religion.misc', 'comp.os.ms-windows.misc', 'soc.religion.christian', 'rec.sport.baseball', 'sci.space', 'misc.forsale', 'rec.motorcycles', 'talk.politics.mideast', 'sci.med', 'rec.autos']\n",
            "Number of files in comp.graphics: 1000\n",
            "Some example filenames: ['39073', '38803', '37936', '38853', '38353']\n"
          ],
          "name": "stdout"
        }
      ]
    },
    {
      "cell_type": "markdown",
      "metadata": {
        "id": "hygU4rWx3BmZ"
      },
      "source": [
        "Get rid of the headers"
      ]
    },
    {
      "cell_type": "code",
      "metadata": {
        "id": "m2xhYNVb2yQK",
        "colab": {
          "base_uri": "https://localhost:8080/"
        },
        "outputId": "3db53661-bc4e-42ec-d82a-9264fbdee0e1"
      },
      "source": [
        "samples = []\n",
        "labels = []\n",
        "class_names = []\n",
        "class_index = 0\n",
        "for dirname in sorted(os.listdir(data_dir)):\n",
        "    class_names.append(dirname)\n",
        "    dirpath = data_dir / dirname\n",
        "    fnames = os.listdir(dirpath)\n",
        "    print(\"Processing %s, %d files found\" % (dirname, len(fnames)))\n",
        "    for fname in fnames:\n",
        "        fpath = dirpath / fname\n",
        "        f = open(fpath, encoding=\"latin-1\")\n",
        "        content = f.read()\n",
        "        lines = content.split(\"\\n\")\n",
        "        lines = lines[10:]\n",
        "        content = \"\\n\".join(lines)\n",
        "        samples.append(content)\n",
        "        labels.append(class_index)\n",
        "    class_index += 1\n",
        "\n",
        "print(\"Classes:\", class_names)\n",
        "print(\"length classes:\", len(class_names))\n",
        "print(\"Number of samples:\", len(samples))\n",
        "print('sample len:  ',len(samples[455]))\n",
        "print(samples[455])\n",
        "\n"
      ],
      "execution_count": 4,
      "outputs": [
        {
          "output_type": "stream",
          "text": [
            "Processing alt.atheism, 1000 files found\n",
            "Processing comp.graphics, 1000 files found\n",
            "Processing comp.os.ms-windows.misc, 1000 files found\n",
            "Processing comp.sys.ibm.pc.hardware, 1000 files found\n",
            "Processing comp.sys.mac.hardware, 1000 files found\n",
            "Processing comp.windows.x, 1000 files found\n",
            "Processing misc.forsale, 1000 files found\n",
            "Processing rec.autos, 1000 files found\n",
            "Processing rec.motorcycles, 1000 files found\n",
            "Processing rec.sport.baseball, 1000 files found\n",
            "Processing rec.sport.hockey, 1000 files found\n",
            "Processing sci.crypt, 1000 files found\n",
            "Processing sci.electronics, 1000 files found\n",
            "Processing sci.med, 1000 files found\n",
            "Processing sci.space, 1000 files found\n",
            "Processing soc.religion.christian, 997 files found\n",
            "Processing talk.politics.guns, 1000 files found\n",
            "Processing talk.politics.mideast, 1000 files found\n",
            "Processing talk.politics.misc, 1000 files found\n",
            "Processing talk.religion.misc, 1000 files found\n",
            "Classes: ['alt.atheism', 'comp.graphics', 'comp.os.ms-windows.misc', 'comp.sys.ibm.pc.hardware', 'comp.sys.mac.hardware', 'comp.windows.x', 'misc.forsale', 'rec.autos', 'rec.motorcycles', 'rec.sport.baseball', 'rec.sport.hockey', 'sci.crypt', 'sci.electronics', 'sci.med', 'sci.space', 'soc.religion.christian', 'talk.politics.guns', 'talk.politics.mideast', 'talk.politics.misc', 'talk.religion.misc']\n",
            "length classes: 20\n",
            "Number of samples: 19997\n",
            "sample len:   2556\n",
            "who: kmr4@po.CWRU.edu (Keith M. Ryan)\n",
            "what: <kmr4.1426.733987668@po.cwru.edu>\n",
            "with: rush@leland.Stanford.EDU \n",
            "what: <1993Apr5.050524.9361@leland.Stanford.EDU>\n",
            " \n",
            ">>> Other readers: I just joined, but is this guy for real?\n",
            ">>> I'm simply amazed.\n",
            " \n",
            "KR> \"Sadly yes. Don't loose any sleep over Old 'Zlumber. Just\n",
            "KR> have some fun with him, but he is basically harmless. \n",
            "KR> At least, if you don't work in NY city.\"\n",
            " \n",
            "I don't find it hard to believe that \"Ole 'Zlumber\" really believes\n",
            "the hate and ignorant prattle he writes. The frightening thought is,\n",
            "there are people even worse than he! To say that feminism equals\n",
            "\"superiority\" over men is laughable as long as he doesn't then proceed\n",
            "to pick up a rifle and start to shoot women as a preemptive strike---\n",
            "aka the Canada slaughter that occured a few years ago. But then, men\n",
            "killing women is nothing new. Islamic Fundamentalists just have a\n",
            "\"better\" excuse (Qu'ran).\n",
            " \n",
            "    from the Vancouver Sun, Thursday, October 4, 1990\n",
            "    by John Davidson, Canadian Press\n",
            " \n",
            "    MONTREAL-- Perhaps it's the letter to the five-year old\n",
            "    daughter that shocks the most.\n",
            " \n",
            "    \"I hope one day you will be old enough to understand what\n",
            "    happened to your parents,\" wrote Patrick Prevost. \"I loved\n",
            "    your mother with a passion that went as far as hatred.\"\n",
            " \n",
            "    Police found the piece of paper near Prevost's body in his\n",
            "    apartment in northeast Montreal.\n",
            " \n",
            "    They say the 39-year-old mechanic committed suicide after\n",
            "    killing his wife, Jocelyne Parent, 31.\n",
            " \n",
            "    The couple had been separated for a month and the woman had\n",
            "    gone to his apartment to talk about getting some more money\n",
            "    for food. A violent quarrel broke out and Prevost attacked\n",
            "    his wife with a kitchen knife, cutting her throat, police said.\n",
            " \n",
            "    She was only the latest of 13 women slain by a husband or\n",
            "    lover in Quebec in the last five weeks.\n",
            " \n",
            "    Five children have also been slain as a result of the same\n",
            "    domestic \"battles.\"\n",
            " \n",
            "    Last year in Quebec alone, 29 [women] were slain by their\n",
            "    husbands. That was more than one-third of such cases across\n",
            "    Canada, according to statistics from the Canadian Centre for\n",
            "    Justice. [rest of article ommited]\n",
            " \n",
            "Then to say that women are somehow \"better\" or \"should\" be the\n",
            "one to \"stay home\" and raise a child is also laughable. Women\n",
            "have traditionally done hard labor to support a family, often \n",
            "more than men in many cultures, throughout history. Seems to me\n",
            "it takes at least two adults to raise a child, and that BOTH should\n",
            "stay home to do so!\n",
            "\n",
            "--- Maximus 2.01wb\n",
            "\n"
          ],
          "name": "stdout"
        }
      ]
    },
    {
      "cell_type": "markdown",
      "metadata": {
        "id": "SBHG9NZB3oey"
      },
      "source": [
        "Shuffle and split the data into training & validation sets"
      ]
    },
    {
      "cell_type": "code",
      "metadata": {
        "id": "f7RTmg4D3pLE",
        "colab": {
          "base_uri": "https://localhost:8080/"
        },
        "outputId": "8e790560-c7d5-4496-edbb-7be785273e77"
      },
      "source": [
        "# Shuffle the data\n",
        "seed = 1400\n",
        "rng = np.random.RandomState(seed)\n",
        "rng.shuffle(samples)\n",
        "rng = np.random.RandomState(seed)\n",
        "rng.shuffle(labels)\n",
        "\n",
        "# Extract a training & validation split\n",
        "validation_split = 0.2\n",
        "samples = samples[:15000]\n",
        "labels = labels[:15000]\n",
        "num_validation_samples = int(validation_split * len(samples))\n",
        "train_samples = samples[:-num_validation_samples]\n",
        "val_samples = samples[-num_validation_samples:]\n",
        "train_labels = labels[:-num_validation_samples]\n",
        "val_labels = labels[-num_validation_samples:]\n",
        "\n",
        "print(\"Number of train samples:\", len(train_labels))\n",
        "print(\"Number of validation samples:\", len(val_labels))"
      ],
      "execution_count": 5,
      "outputs": [
        {
          "output_type": "stream",
          "text": [
            "Number of train samples: 12000\n",
            "Number of validation samples: 3000\n"
          ],
          "name": "stdout"
        }
      ]
    },
    {
      "cell_type": "markdown",
      "metadata": {
        "id": "gEabYvbP4TSx"
      },
      "source": [
        "Create a vocabulary index"
      ]
    },
    {
      "cell_type": "code",
      "metadata": {
        "id": "tv6tNh2I4T66",
        "colab": {
          "base_uri": "https://localhost:8080/"
        },
        "outputId": "b72d758f-da07-47f7-cf44-85fab04b4d3e"
      },
      "source": [
        "from tensorflow.keras.layers.experimental.preprocessing import TextVectorization\n",
        "\n",
        "vectorizer = TextVectorization(max_tokens=20000, output_sequence_length=200)\n",
        "text_ds = tf.data.Dataset.from_tensor_slices(train_samples).batch(128)\n",
        "vectorizer.adapt(text_ds)\n",
        "\n",
        "vectorizer.get_vocabulary()[:10]"
      ],
      "execution_count": 6,
      "outputs": [
        {
          "output_type": "execute_result",
          "data": {
            "text/plain": [
              "['', '[UNK]', 'the', 'to', 'of', 'a', 'and', 'in', 'is', 'i']"
            ]
          },
          "metadata": {
            "tags": []
          },
          "execution_count": 6
        }
      ]
    },
    {
      "cell_type": "markdown",
      "metadata": {
        "id": "qCkN1MIX4vE-"
      },
      "source": [
        " Dict mapping words to their indices"
      ]
    },
    {
      "cell_type": "code",
      "metadata": {
        "id": "flUz6z2Z4vPP",
        "colab": {
          "base_uri": "https://localhost:8080/"
        },
        "outputId": "796e3239-6530-4431-f694-2ead15779c49"
      },
      "source": [
        "voc = vectorizer.get_vocabulary()\n",
        "word_index = dict(zip(voc, range(len(voc))))\n",
        "\n",
        "test = [\"i\", \"study\", \"in\", \"iran\", \"university\"]\n",
        "[word_index[w] for w in test]\n",
        "\n"
      ],
      "execution_count": 7,
      "outputs": [
        {
          "output_type": "execute_result",
          "data": {
            "text/plain": [
              "[9, 759, 7, 2125, 169]"
            ]
          },
          "metadata": {
            "tags": []
          },
          "execution_count": 7
        }
      ]
    },
    {
      "cell_type": "code",
      "metadata": {
        "id": "8Db6SWMyCUZ8",
        "colab": {
          "base_uri": "https://localhost:8080/"
        },
        "outputId": "18c1036a-da36-41c5-b34f-7d852aada42b"
      },
      "source": [
        "x_train = vectorizer(np.array([[s] for s in train_samples])).numpy()\n",
        "x_val = vectorizer(np.array([[s] for s in val_samples])).numpy()\n",
        "\n",
        "y_train = np.array(train_labels)\n",
        "y_val = np.array(val_labels)\n",
        "print(x_train.shape)\n"
      ],
      "execution_count": 8,
      "outputs": [
        {
          "output_type": "stream",
          "text": [
            "(12000, 200)\n"
          ],
          "name": "stdout"
        }
      ]
    },
    {
      "cell_type": "markdown",
      "metadata": {
        "id": "MGikAUAg57wh"
      },
      "source": [
        "Plot history fuction"
      ]
    },
    {
      "cell_type": "code",
      "metadata": {
        "id": "aKD8rnIol4VQ"
      },
      "source": [
        "import matplotlib.pyplot as plt\n",
        "plt.style.use('ggplot')\n",
        "\n",
        "def plot_history(history):\n",
        "    acc = history.history['accuracy']\n",
        "    val_acc = history.history['val_accuracy']\n",
        "    loss = history.history['loss']\n",
        "    val_loss = history.history['val_loss']\n",
        "    x = range(1, len(acc) + 1)\n",
        "\n",
        "    plt.figure(figsize=(12, 5))\n",
        "    plt.subplot(1, 2, 1)\n",
        "    plt.plot(x, acc, 'b', label='Training acc')\n",
        "    plt.plot(x, val_acc, 'r', label='Validation acc')\n",
        "    plt.title('Training and validation accuracy')\n",
        "    plt.legend()\n",
        "    plt.subplot(1, 2, 2)\n",
        "    plt.plot(x, loss, 'b', label='Training loss')\n",
        "    plt.plot(x, val_loss, 'r', label='Validation loss')\n",
        "    plt.title('Training and validation loss')\n",
        "    plt.legend()\n"
      ],
      "execution_count": 9,
      "outputs": []
    },
    {
      "cell_type": "code",
      "metadata": {
        "id": "v-FyFEzB7RRY",
        "colab": {
          "base_uri": "https://localhost:8080/"
        },
        "outputId": "ead0a380-fabd-408d-f5ab-12d2624a2215"
      },
      "source": [
        "from keras.models import Sequential\n",
        "from keras import layers\n",
        "from keras.datasets import imdb\n",
        "from keras import preprocessing\n",
        "\n",
        "num_tokens = len(voc) + 2\n",
        "embedding_dim = 100\n",
        "print(\"Number of tokens:\", num_tokens)"
      ],
      "execution_count": 10,
      "outputs": [
        {
          "output_type": "stream",
          "text": [
            "Number of tokens: 20002\n"
          ],
          "name": "stdout"
        }
      ]
    },
    {
      "cell_type": "markdown",
      "metadata": {
        "id": "CmJMNmxstOr0"
      },
      "source": [
        "# Evaluate without Embedding"
      ]
    },
    {
      "cell_type": "markdown",
      "metadata": {
        "id": "czdWZIVQKYke"
      },
      "source": [
        "## Integer codes"
      ]
    },
    {
      "cell_type": "code",
      "metadata": {
        "id": "NqepF4GrKX9t",
        "colab": {
          "base_uri": "https://localhost:8080/"
        },
        "outputId": "99ed4d98-c618-40a0-d169-d43c17c8ff2c"
      },
      "source": [
        "x_train_expand = np.expand_dims(x_train, axis=2)\n",
        "x_val_expand = np.expand_dims(x_val, axis=2)\n",
        "\n",
        "print(x_train_expand.shape)\n",
        "print(x_train.shape)\n",
        "print(x_train_expand[1][10])\n",
        "\n",
        "print(y_val.shape)\n",
        "print(x_val_expand.shape)\n",
        "\n",
        "#Implement your model\n",
        "model = Sequential()\n",
        "\n",
        "model.add(keras.layers.GRU(100, input_shape=((x_train_expand.shape[1:]))))\n",
        "model.add(keras.layers.Dense(20, activation='softmax'))\n",
        "\n",
        "model.summary()"
      ],
      "execution_count": 11,
      "outputs": [
        {
          "output_type": "stream",
          "text": [
            "(12000, 200, 1)\n",
            "(12000, 200)\n",
            "[2118]\n",
            "(3000,)\n",
            "(3000, 200, 1)\n",
            "Model: \"sequential\"\n",
            "_________________________________________________________________\n",
            "Layer (type)                 Output Shape              Param #   \n",
            "=================================================================\n",
            "gru (GRU)                    (None, 100)               30900     \n",
            "_________________________________________________________________\n",
            "dense (Dense)                (None, 20)                2020      \n",
            "=================================================================\n",
            "Total params: 32,920\n",
            "Trainable params: 32,920\n",
            "Non-trainable params: 0\n",
            "_________________________________________________________________\n"
          ],
          "name": "stdout"
        }
      ]
    },
    {
      "cell_type": "code",
      "metadata": {
        "id": "PkmMXkzrtOr8",
        "colab": {
          "base_uri": "https://localhost:8080/",
          "height": 1000
        },
        "outputId": "50a999fd-dc3b-453e-9833-6bf13179b28c"
      },
      "source": [
        "# Compile model\n",
        "model.compile(loss='sparse_categorical_crossentropy',\n",
        "              optimizer='adam',\n",
        "              metrics=['accuracy'])\n",
        "\n",
        "# Fit model (training and validation)\n",
        "history = model.fit(x_train_expand, y_train,\n",
        "                    epochs=100,\n",
        "                    batch_size=64,\n",
        "                    validation_data=(x_val_expand, y_val))\n",
        "\n",
        "# Plot history\n",
        "plot_history(history)"
      ],
      "execution_count": 12,
      "outputs": [
        {
          "output_type": "stream",
          "text": [
            "Epoch 1/100\n",
            "188/188 [==============================] - 39s 46ms/step - loss: 3.0087 - accuracy: 0.0676 - val_loss: 2.9674 - val_accuracy: 0.0663\n",
            "Epoch 2/100\n",
            "188/188 [==============================] - 8s 40ms/step - loss: 2.9606 - accuracy: 0.0733 - val_loss: 2.9521 - val_accuracy: 0.0707\n",
            "Epoch 3/100\n",
            "188/188 [==============================] - 7s 40ms/step - loss: 2.9523 - accuracy: 0.0770 - val_loss: 2.9480 - val_accuracy: 0.0780\n",
            "Epoch 4/100\n",
            "188/188 [==============================] - 7s 40ms/step - loss: 2.9482 - accuracy: 0.0733 - val_loss: 2.9422 - val_accuracy: 0.0763\n",
            "Epoch 5/100\n",
            "188/188 [==============================] - 7s 39ms/step - loss: 2.9375 - accuracy: 0.0863 - val_loss: 2.9387 - val_accuracy: 0.0767\n",
            "Epoch 6/100\n",
            "188/188 [==============================] - 7s 39ms/step - loss: 2.9284 - accuracy: 0.0806 - val_loss: 2.9341 - val_accuracy: 0.0820\n",
            "Epoch 7/100\n",
            "188/188 [==============================] - 7s 40ms/step - loss: 2.9237 - accuracy: 0.0845 - val_loss: 2.9305 - val_accuracy: 0.0770\n",
            "Epoch 8/100\n",
            "188/188 [==============================] - 7s 39ms/step - loss: 2.9134 - accuracy: 0.0869 - val_loss: 2.9355 - val_accuracy: 0.0737\n",
            "Epoch 9/100\n",
            "188/188 [==============================] - 7s 40ms/step - loss: 2.9182 - accuracy: 0.0868 - val_loss: 2.9333 - val_accuracy: 0.0840\n",
            "Epoch 10/100\n",
            "188/188 [==============================] - 7s 39ms/step - loss: 2.8995 - accuracy: 0.1005 - val_loss: 2.9222 - val_accuracy: 0.0847\n",
            "Epoch 11/100\n",
            "188/188 [==============================] - 7s 39ms/step - loss: 2.9054 - accuracy: 0.0950 - val_loss: 2.9190 - val_accuracy: 0.0913\n",
            "Epoch 12/100\n",
            "188/188 [==============================] - 7s 39ms/step - loss: 2.8874 - accuracy: 0.1029 - val_loss: 2.9005 - val_accuracy: 0.1023\n",
            "Epoch 13/100\n",
            "188/188 [==============================] - 7s 39ms/step - loss: 2.8713 - accuracy: 0.1104 - val_loss: 2.9039 - val_accuracy: 0.0960\n",
            "Epoch 14/100\n",
            "188/188 [==============================] - 7s 39ms/step - loss: 2.8678 - accuracy: 0.1104 - val_loss: 2.8930 - val_accuracy: 0.0967\n",
            "Epoch 15/100\n",
            "188/188 [==============================] - 7s 39ms/step - loss: 2.8521 - accuracy: 0.1120 - val_loss: 2.9007 - val_accuracy: 0.1030\n",
            "Epoch 16/100\n",
            "188/188 [==============================] - 7s 39ms/step - loss: 2.8321 - accuracy: 0.1181 - val_loss: 2.8500 - val_accuracy: 0.1163\n",
            "Epoch 17/100\n",
            "188/188 [==============================] - 7s 39ms/step - loss: 2.7950 - accuracy: 0.1369 - val_loss: 2.8448 - val_accuracy: 0.1080\n",
            "Epoch 18/100\n",
            "188/188 [==============================] - 7s 39ms/step - loss: 2.7818 - accuracy: 0.1336 - val_loss: 2.8298 - val_accuracy: 0.1143\n",
            "Epoch 19/100\n",
            "188/188 [==============================] - 7s 39ms/step - loss: 2.7809 - accuracy: 0.1315 - val_loss: 2.8354 - val_accuracy: 0.1117\n",
            "Epoch 20/100\n",
            "188/188 [==============================] - 7s 39ms/step - loss: 2.7392 - accuracy: 0.1459 - val_loss: 2.7800 - val_accuracy: 0.1283\n",
            "Epoch 21/100\n",
            "188/188 [==============================] - 7s 39ms/step - loss: 2.7061 - accuracy: 0.1585 - val_loss: 2.7685 - val_accuracy: 0.1373\n",
            "Epoch 22/100\n",
            "188/188 [==============================] - 7s 39ms/step - loss: 2.7013 - accuracy: 0.1638 - val_loss: 2.7610 - val_accuracy: 0.1303\n",
            "Epoch 23/100\n",
            "188/188 [==============================] - 7s 39ms/step - loss: 2.6787 - accuracy: 0.1640 - val_loss: 2.7566 - val_accuracy: 0.1383\n",
            "Epoch 24/100\n",
            "188/188 [==============================] - 7s 39ms/step - loss: 2.6545 - accuracy: 0.1753 - val_loss: 2.7514 - val_accuracy: 0.1447\n",
            "Epoch 25/100\n",
            "188/188 [==============================] - 7s 39ms/step - loss: 2.6551 - accuracy: 0.1699 - val_loss: 2.7617 - val_accuracy: 0.1357\n",
            "Epoch 26/100\n",
            "188/188 [==============================] - 7s 39ms/step - loss: 2.6380 - accuracy: 0.1750 - val_loss: 2.7776 - val_accuracy: 0.1403\n",
            "Epoch 27/100\n",
            "188/188 [==============================] - 7s 39ms/step - loss: 2.6264 - accuracy: 0.1757 - val_loss: 2.7373 - val_accuracy: 0.1417\n",
            "Epoch 28/100\n",
            "188/188 [==============================] - 7s 39ms/step - loss: 2.6032 - accuracy: 0.1846 - val_loss: 2.7409 - val_accuracy: 0.1487\n",
            "Epoch 29/100\n",
            "188/188 [==============================] - 7s 39ms/step - loss: 2.5975 - accuracy: 0.1891 - val_loss: 2.7614 - val_accuracy: 0.1433\n",
            "Epoch 30/100\n",
            "188/188 [==============================] - 7s 39ms/step - loss: 2.5878 - accuracy: 0.1869 - val_loss: 2.7277 - val_accuracy: 0.1477\n",
            "Epoch 31/100\n",
            "188/188 [==============================] - 7s 39ms/step - loss: 2.5657 - accuracy: 0.1912 - val_loss: 2.7337 - val_accuracy: 0.1497\n",
            "Epoch 32/100\n",
            "188/188 [==============================] - 7s 39ms/step - loss: 2.5552 - accuracy: 0.2005 - val_loss: 2.7507 - val_accuracy: 0.1533\n",
            "Epoch 33/100\n",
            "188/188 [==============================] - 7s 38ms/step - loss: 2.5425 - accuracy: 0.2036 - val_loss: 2.7372 - val_accuracy: 0.1517\n",
            "Epoch 34/100\n",
            "188/188 [==============================] - 7s 39ms/step - loss: 2.5320 - accuracy: 0.2008 - val_loss: 2.7364 - val_accuracy: 0.1400\n",
            "Epoch 35/100\n",
            "188/188 [==============================] - 7s 39ms/step - loss: 2.5227 - accuracy: 0.2086 - val_loss: 2.7280 - val_accuracy: 0.1570\n",
            "Epoch 36/100\n",
            "188/188 [==============================] - 7s 39ms/step - loss: 2.4998 - accuracy: 0.2168 - val_loss: 2.7353 - val_accuracy: 0.1603\n",
            "Epoch 37/100\n",
            "188/188 [==============================] - 7s 39ms/step - loss: 2.4822 - accuracy: 0.2245 - val_loss: 2.7301 - val_accuracy: 0.1533\n",
            "Epoch 38/100\n",
            "188/188 [==============================] - 7s 39ms/step - loss: 2.4585 - accuracy: 0.2203 - val_loss: 2.7337 - val_accuracy: 0.1583\n",
            "Epoch 39/100\n",
            "188/188 [==============================] - 7s 39ms/step - loss: 2.4600 - accuracy: 0.2255 - val_loss: 2.7322 - val_accuracy: 0.1550\n",
            "Epoch 40/100\n",
            "188/188 [==============================] - 7s 39ms/step - loss: 2.4430 - accuracy: 0.2289 - val_loss: 2.7390 - val_accuracy: 0.1573\n",
            "Epoch 41/100\n",
            "188/188 [==============================] - 7s 39ms/step - loss: 2.4184 - accuracy: 0.2417 - val_loss: 2.8152 - val_accuracy: 0.1453\n",
            "Epoch 42/100\n",
            "188/188 [==============================] - 7s 39ms/step - loss: 2.3996 - accuracy: 0.2448 - val_loss: 2.7427 - val_accuracy: 0.1630\n",
            "Epoch 43/100\n",
            "188/188 [==============================] - 7s 39ms/step - loss: 2.3897 - accuracy: 0.2465 - val_loss: 2.7490 - val_accuracy: 0.1657\n",
            "Epoch 44/100\n",
            "188/188 [==============================] - 7s 39ms/step - loss: 2.3723 - accuracy: 0.2445 - val_loss: 2.7575 - val_accuracy: 0.1623\n",
            "Epoch 45/100\n",
            "188/188 [==============================] - 7s 39ms/step - loss: 2.3794 - accuracy: 0.2478 - val_loss: 2.7754 - val_accuracy: 0.1580\n",
            "Epoch 46/100\n",
            "188/188 [==============================] - 7s 39ms/step - loss: 2.3540 - accuracy: 0.2562 - val_loss: 2.7654 - val_accuracy: 0.1623\n",
            "Epoch 47/100\n",
            "188/188 [==============================] - 7s 39ms/step - loss: 2.3353 - accuracy: 0.2665 - val_loss: 2.7940 - val_accuracy: 0.1557\n",
            "Epoch 48/100\n",
            "188/188 [==============================] - 7s 39ms/step - loss: 2.3110 - accuracy: 0.2662 - val_loss: 2.7814 - val_accuracy: 0.1593\n",
            "Epoch 49/100\n",
            "188/188 [==============================] - 7s 39ms/step - loss: 2.3180 - accuracy: 0.2603 - val_loss: 2.7783 - val_accuracy: 0.1587\n",
            "Epoch 50/100\n",
            "188/188 [==============================] - 7s 39ms/step - loss: 2.2998 - accuracy: 0.2707 - val_loss: 2.7976 - val_accuracy: 0.1580\n",
            "Epoch 51/100\n",
            "188/188 [==============================] - 7s 39ms/step - loss: 2.2755 - accuracy: 0.2756 - val_loss: 2.7958 - val_accuracy: 0.1637\n",
            "Epoch 52/100\n",
            "188/188 [==============================] - 7s 39ms/step - loss: 2.2512 - accuracy: 0.2864 - val_loss: 2.8083 - val_accuracy: 0.1690\n",
            "Epoch 53/100\n",
            "188/188 [==============================] - 7s 39ms/step - loss: 2.2517 - accuracy: 0.2875 - val_loss: 2.8163 - val_accuracy: 0.1650\n",
            "Epoch 54/100\n",
            "188/188 [==============================] - 7s 39ms/step - loss: 2.2132 - accuracy: 0.2922 - val_loss: 2.8264 - val_accuracy: 0.1660\n",
            "Epoch 55/100\n",
            "188/188 [==============================] - 7s 39ms/step - loss: 2.2054 - accuracy: 0.2920 - val_loss: 2.8452 - val_accuracy: 0.1537\n",
            "Epoch 56/100\n",
            "188/188 [==============================] - 7s 39ms/step - loss: 2.1655 - accuracy: 0.3112 - val_loss: 2.8386 - val_accuracy: 0.1570\n",
            "Epoch 57/100\n",
            "188/188 [==============================] - 7s 39ms/step - loss: 2.1682 - accuracy: 0.3112 - val_loss: 2.8445 - val_accuracy: 0.1633\n",
            "Epoch 58/100\n",
            "188/188 [==============================] - 7s 39ms/step - loss: 2.1741 - accuracy: 0.3039 - val_loss: 2.8775 - val_accuracy: 0.1593\n",
            "Epoch 59/100\n",
            "188/188 [==============================] - 7s 39ms/step - loss: 2.1395 - accuracy: 0.3174 - val_loss: 2.8959 - val_accuracy: 0.1593\n",
            "Epoch 60/100\n",
            "188/188 [==============================] - 7s 39ms/step - loss: 2.1091 - accuracy: 0.3263 - val_loss: 2.8822 - val_accuracy: 0.1640\n",
            "Epoch 61/100\n",
            "188/188 [==============================] - 7s 39ms/step - loss: 2.1205 - accuracy: 0.3237 - val_loss: 2.8945 - val_accuracy: 0.1683\n",
            "Epoch 62/100\n",
            "188/188 [==============================] - 7s 39ms/step - loss: 2.0887 - accuracy: 0.3270 - val_loss: 2.8998 - val_accuracy: 0.1613\n",
            "Epoch 63/100\n",
            "188/188 [==============================] - 7s 39ms/step - loss: 2.0701 - accuracy: 0.3373 - val_loss: 2.9325 - val_accuracy: 0.1610\n",
            "Epoch 64/100\n",
            "188/188 [==============================] - 7s 39ms/step - loss: 2.0687 - accuracy: 0.3310 - val_loss: 2.9735 - val_accuracy: 0.1620\n",
            "Epoch 65/100\n",
            "188/188 [==============================] - 7s 39ms/step - loss: 2.0330 - accuracy: 0.3480 - val_loss: 2.9953 - val_accuracy: 0.1500\n",
            "Epoch 66/100\n",
            "188/188 [==============================] - 7s 39ms/step - loss: 2.0186 - accuracy: 0.3517 - val_loss: 2.9826 - val_accuracy: 0.1547\n",
            "Epoch 67/100\n",
            "188/188 [==============================] - 7s 39ms/step - loss: 2.0068 - accuracy: 0.3552 - val_loss: 2.9975 - val_accuracy: 0.1503\n",
            "Epoch 68/100\n",
            "188/188 [==============================] - 7s 39ms/step - loss: 1.9950 - accuracy: 0.3538 - val_loss: 3.0079 - val_accuracy: 0.1603\n",
            "Epoch 69/100\n",
            "188/188 [==============================] - 7s 39ms/step - loss: 1.9992 - accuracy: 0.3599 - val_loss: 3.0915 - val_accuracy: 0.1537\n",
            "Epoch 70/100\n",
            "188/188 [==============================] - 7s 39ms/step - loss: 1.9606 - accuracy: 0.3698 - val_loss: 3.0664 - val_accuracy: 0.1597\n",
            "Epoch 71/100\n",
            "188/188 [==============================] - 7s 39ms/step - loss: 1.9592 - accuracy: 0.3663 - val_loss: 3.0630 - val_accuracy: 0.1673\n",
            "Epoch 72/100\n",
            "188/188 [==============================] - 7s 39ms/step - loss: 1.9148 - accuracy: 0.3811 - val_loss: 3.0751 - val_accuracy: 0.1597\n",
            "Epoch 73/100\n",
            "188/188 [==============================] - 7s 39ms/step - loss: 1.9241 - accuracy: 0.3790 - val_loss: 3.0893 - val_accuracy: 0.1550\n",
            "Epoch 74/100\n",
            "188/188 [==============================] - 7s 39ms/step - loss: 1.8784 - accuracy: 0.3931 - val_loss: 3.1646 - val_accuracy: 0.1563\n",
            "Epoch 75/100\n",
            "188/188 [==============================] - 7s 39ms/step - loss: 1.8725 - accuracy: 0.3937 - val_loss: 3.1299 - val_accuracy: 0.1573\n",
            "Epoch 76/100\n",
            "188/188 [==============================] - 7s 39ms/step - loss: 1.8667 - accuracy: 0.3910 - val_loss: 3.1595 - val_accuracy: 0.1550\n",
            "Epoch 77/100\n",
            "188/188 [==============================] - 7s 39ms/step - loss: 1.8420 - accuracy: 0.4062 - val_loss: 3.1524 - val_accuracy: 0.1523\n",
            "Epoch 78/100\n",
            "188/188 [==============================] - 7s 39ms/step - loss: 1.8387 - accuracy: 0.4017 - val_loss: 3.2202 - val_accuracy: 0.1473\n",
            "Epoch 79/100\n",
            "188/188 [==============================] - 7s 39ms/step - loss: 1.8390 - accuracy: 0.4037 - val_loss: 3.1997 - val_accuracy: 0.1627\n",
            "Epoch 80/100\n",
            "188/188 [==============================] - 7s 39ms/step - loss: 1.8113 - accuracy: 0.4160 - val_loss: 3.2136 - val_accuracy: 0.1543\n",
            "Epoch 81/100\n",
            "188/188 [==============================] - 7s 39ms/step - loss: 1.7868 - accuracy: 0.4234 - val_loss: 3.2640 - val_accuracy: 0.1513\n",
            "Epoch 82/100\n",
            "188/188 [==============================] - 7s 40ms/step - loss: 1.7715 - accuracy: 0.4285 - val_loss: 3.2344 - val_accuracy: 0.1490\n",
            "Epoch 83/100\n",
            "188/188 [==============================] - 7s 39ms/step - loss: 1.7646 - accuracy: 0.4220 - val_loss: 3.2667 - val_accuracy: 0.1553\n",
            "Epoch 84/100\n",
            "188/188 [==============================] - 7s 39ms/step - loss: 1.7581 - accuracy: 0.4304 - val_loss: 3.2293 - val_accuracy: 0.1657\n",
            "Epoch 85/100\n",
            "188/188 [==============================] - 7s 39ms/step - loss: 1.7509 - accuracy: 0.4269 - val_loss: 3.2822 - val_accuracy: 0.1560\n",
            "Epoch 86/100\n",
            "188/188 [==============================] - 7s 39ms/step - loss: 1.7215 - accuracy: 0.4404 - val_loss: 3.2960 - val_accuracy: 0.1650\n",
            "Epoch 87/100\n",
            "188/188 [==============================] - 7s 39ms/step - loss: 1.7153 - accuracy: 0.4454 - val_loss: 3.4145 - val_accuracy: 0.1507\n",
            "Epoch 88/100\n",
            "188/188 [==============================] - 7s 40ms/step - loss: 1.7747 - accuracy: 0.4184 - val_loss: 3.3490 - val_accuracy: 0.1537\n",
            "Epoch 89/100\n",
            "188/188 [==============================] - 7s 39ms/step - loss: 1.6679 - accuracy: 0.4555 - val_loss: 3.3545 - val_accuracy: 0.1550\n",
            "Epoch 90/100\n",
            "188/188 [==============================] - 7s 39ms/step - loss: 1.6803 - accuracy: 0.4543 - val_loss: 3.3822 - val_accuracy: 0.1530\n",
            "Epoch 91/100\n",
            "188/188 [==============================] - 7s 39ms/step - loss: 1.6523 - accuracy: 0.4666 - val_loss: 3.3800 - val_accuracy: 0.1563\n",
            "Epoch 92/100\n",
            "188/188 [==============================] - 7s 39ms/step - loss: 1.6587 - accuracy: 0.4606 - val_loss: 3.4256 - val_accuracy: 0.1573\n",
            "Epoch 93/100\n",
            "188/188 [==============================] - 7s 39ms/step - loss: 1.6610 - accuracy: 0.4541 - val_loss: 3.4107 - val_accuracy: 0.1593\n",
            "Epoch 94/100\n",
            "188/188 [==============================] - 7s 39ms/step - loss: 1.6460 - accuracy: 0.4612 - val_loss: 3.4674 - val_accuracy: 0.1543\n",
            "Epoch 95/100\n",
            "188/188 [==============================] - 7s 39ms/step - loss: 1.6323 - accuracy: 0.4680 - val_loss: 3.4227 - val_accuracy: 0.1507\n",
            "Epoch 96/100\n",
            "188/188 [==============================] - 7s 39ms/step - loss: 1.6360 - accuracy: 0.4630 - val_loss: 3.4953 - val_accuracy: 0.1540\n",
            "Epoch 97/100\n",
            "188/188 [==============================] - 7s 39ms/step - loss: 1.5996 - accuracy: 0.4780 - val_loss: 3.5761 - val_accuracy: 0.1500\n",
            "Epoch 98/100\n",
            "188/188 [==============================] - 7s 39ms/step - loss: 1.6177 - accuracy: 0.4705 - val_loss: 3.5008 - val_accuracy: 0.1520\n",
            "Epoch 99/100\n",
            "188/188 [==============================] - 7s 39ms/step - loss: 1.6228 - accuracy: 0.4701 - val_loss: 3.5636 - val_accuracy: 0.1573\n",
            "Epoch 100/100\n",
            "188/188 [==============================] - 7s 39ms/step - loss: 1.5972 - accuracy: 0.4870 - val_loss: 3.5126 - val_accuracy: 0.1520\n"
          ],
          "name": "stdout"
        },
        {
          "output_type": "display_data",
          "data": {
            "image/png": "[encoded data removed]",
            "text/plain": [
              "<Figure size 864x360 with 2 Axes>"
            ]
          },
          "metadata": {
            "tags": []
          }
        }
      ]
    },
    {
      "cell_type": "markdown",
      "metadata": {
        "id": "bTk2hLAOKb0y"
      },
      "source": [
        "## One-hot"
      ]
    },
    {
      "cell_type": "code",
      "metadata": {
        "id": "-vmLWNZFNflH",
        "colab": {
          "base_uri": "https://localhost:8080/"
        },
        "outputId": "87ff432a-852e-4cf2-b05b-4c889d73c0c2"
      },
      "source": [
        "from keras import backend as K\n",
        "\n",
        "#Implement your model\n",
        "model = Sequential()\n",
        "model.add(layers.Input(shape=x_train.shape[1:], dtype='int32'))\n",
        "model.add(layers.Lambda(K.one_hot, arguments={'num_classes': num_tokens}))\n",
        "# Complete the model here!\n",
        "\n",
        "\n",
        "model.add(keras.layers.GRU(30, input_shape=((x_train_expand.shape[1:]))))\n",
        "model.add(keras.layers.Dense(20, activation='softmax'))\n",
        "\n",
        "\n",
        "model.summary()"
      ],
      "execution_count": 18,
      "outputs": [
        {
          "output_type": "stream",
          "text": [
            "Model: \"sequential_2\"\n",
            "_________________________________________________________________\n",
            "Layer (type)                 Output Shape              Param #   \n",
            "=================================================================\n",
            "lambda_1 (Lambda)            (None, 200, 20002)        0         \n",
            "_________________________________________________________________\n",
            "gru_1 (GRU)                  (None, 30)                1803060   \n",
            "_________________________________________________________________\n",
            "dense_1 (Dense)              (None, 20)                620       \n",
            "=================================================================\n",
            "Total params: 1,803,680\n",
            "Trainable params: 1,803,680\n",
            "Non-trainable params: 0\n",
            "_________________________________________________________________\n"
          ],
          "name": "stdout"
        }
      ]
    },
    {
      "cell_type": "code",
      "metadata": {
        "id": "PYg2I3x8KXP-",
        "colab": {
          "base_uri": "https://localhost:8080/",
          "height": 1000
        },
        "outputId": "e61690b3-a0d6-47d2-f7e1-05e60bfc8773"
      },
      "source": [
        "# Compile model\n",
        "model.compile(loss='sparse_categorical_crossentropy',\n",
        "              optimizer='adam',\n",
        "              metrics=['accuracy'])\n",
        "\n",
        "# Fit model (training and validation)\n",
        "history = model.fit(x_train, y_train,\n",
        "                    epochs=100,\n",
        "                    batch_size=64,\n",
        "                    validation_data=(x_val, y_val))\n",
        "\n",
        "# Plot history\n",
        "plot_history(history)"
      ],
      "execution_count": 19,
      "outputs": [
        {
          "output_type": "stream",
          "text": [
            "Epoch 1/100\n",
            "188/188 [==============================] - 74s 233ms/step - loss: 2.9864 - accuracy: 0.0569 - val_loss: 2.8800 - val_accuracy: 0.0797\n",
            "Epoch 2/100\n",
            "188/188 [==============================] - 43s 231ms/step - loss: 2.9141 - accuracy: 0.0764 - val_loss: 2.7646 - val_accuracy: 0.0943\n",
            "Epoch 3/100\n",
            "188/188 [==============================] - 43s 231ms/step - loss: 2.9001 - accuracy: 0.0944 - val_loss: 2.9852 - val_accuracy: 0.0643\n",
            "Epoch 4/100\n",
            "188/188 [==============================] - 43s 231ms/step - loss: 2.9576 - accuracy: 0.1526 - val_loss: 2.8499 - val_accuracy: 0.1023\n",
            "Epoch 5/100\n",
            "188/188 [==============================] - 43s 231ms/step - loss: 2.7532 - accuracy: 0.1685 - val_loss: 2.9593 - val_accuracy: 0.0717\n",
            "Epoch 6/100\n",
            "188/188 [==============================] - 43s 231ms/step - loss: 2.8611 - accuracy: 0.1874 - val_loss: 2.7542 - val_accuracy: 0.1023\n",
            "Epoch 7/100\n",
            "188/188 [==============================] - 43s 231ms/step - loss: 2.6763 - accuracy: 0.1972 - val_loss: 2.8402 - val_accuracy: 0.0970\n",
            "Epoch 8/100\n",
            "188/188 [==============================] - 43s 231ms/step - loss: 2.6618 - accuracy: 0.1895 - val_loss: 2.6589 - val_accuracy: 0.0973\n",
            "Epoch 9/100\n",
            "188/188 [==============================] - 43s 231ms/step - loss: 2.7023 - accuracy: 0.1895 - val_loss: 2.6594 - val_accuracy: 0.1217\n",
            "Epoch 10/100\n",
            "188/188 [==============================] - 43s 231ms/step - loss: 2.5526 - accuracy: 0.2255 - val_loss: 2.7641 - val_accuracy: 0.1113\n",
            "Epoch 11/100\n",
            "188/188 [==============================] - 43s 231ms/step - loss: 2.5497 - accuracy: 0.2482 - val_loss: 2.6306 - val_accuracy: 0.1193\n",
            "Epoch 12/100\n",
            "188/188 [==============================] - 43s 231ms/step - loss: 2.5685 - accuracy: 0.2391 - val_loss: 2.9818 - val_accuracy: 0.0800\n",
            "Epoch 13/100\n",
            "188/188 [==============================] - 43s 231ms/step - loss: 2.8897 - accuracy: 0.1813 - val_loss: 2.9565 - val_accuracy: 0.1013\n",
            "Epoch 14/100\n",
            "188/188 [==============================] - 43s 231ms/step - loss: 2.8269 - accuracy: 0.2127 - val_loss: 2.9086 - val_accuracy: 0.1207\n",
            "Epoch 15/100\n",
            "188/188 [==============================] - 43s 231ms/step - loss: 2.7288 - accuracy: 0.2443 - val_loss: 2.6654 - val_accuracy: 0.1793\n",
            "Epoch 16/100\n",
            "188/188 [==============================] - 43s 231ms/step - loss: 2.4140 - accuracy: 0.3089 - val_loss: 2.4215 - val_accuracy: 0.2480\n",
            "Epoch 17/100\n",
            "188/188 [==============================] - 43s 231ms/step - loss: 2.0626 - accuracy: 0.3777 - val_loss: 2.2281 - val_accuracy: 0.3167\n",
            "Epoch 18/100\n",
            "188/188 [==============================] - 43s 231ms/step - loss: 1.7978 - accuracy: 0.4878 - val_loss: 2.1061 - val_accuracy: 0.3620\n",
            "Epoch 19/100\n",
            "188/188 [==============================] - 43s 231ms/step - loss: 1.5816 - accuracy: 0.5620 - val_loss: 1.9779 - val_accuracy: 0.4350\n",
            "Epoch 20/100\n",
            "188/188 [==============================] - 43s 231ms/step - loss: 1.3554 - accuracy: 0.6328 - val_loss: 1.8463 - val_accuracy: 0.4883\n",
            "Epoch 21/100\n",
            "188/188 [==============================] - 43s 231ms/step - loss: 1.1067 - accuracy: 0.7178 - val_loss: 1.7550 - val_accuracy: 0.5243\n",
            "Epoch 22/100\n",
            "188/188 [==============================] - 43s 231ms/step - loss: 0.9244 - accuracy: 0.7694 - val_loss: 1.7281 - val_accuracy: 0.5377\n",
            "Epoch 23/100\n",
            "188/188 [==============================] - 43s 231ms/step - loss: 0.7950 - accuracy: 0.8047 - val_loss: 1.7133 - val_accuracy: 0.5430\n",
            "Epoch 24/100\n",
            "188/188 [==============================] - 43s 231ms/step - loss: 0.6896 - accuracy: 0.8284 - val_loss: 1.6617 - val_accuracy: 0.5723\n",
            "Epoch 25/100\n",
            "188/188 [==============================] - 43s 231ms/step - loss: 0.5637 - accuracy: 0.8715 - val_loss: 1.6712 - val_accuracy: 0.5790\n",
            "Epoch 26/100\n",
            "188/188 [==============================] - 43s 231ms/step - loss: 0.5372 - accuracy: 0.8739 - val_loss: 1.6361 - val_accuracy: 0.5927\n",
            "Epoch 27/100\n",
            "188/188 [==============================] - 43s 231ms/step - loss: 0.4148 - accuracy: 0.9154 - val_loss: 1.7503 - val_accuracy: 0.5963\n",
            "Epoch 28/100\n",
            "188/188 [==============================] - 43s 231ms/step - loss: 0.3564 - accuracy: 0.9252 - val_loss: 1.7198 - val_accuracy: 0.6043\n",
            "Epoch 29/100\n",
            "188/188 [==============================] - 43s 231ms/step - loss: 0.3242 - accuracy: 0.9327 - val_loss: 1.7636 - val_accuracy: 0.6123\n",
            "Epoch 30/100\n",
            "188/188 [==============================] - 43s 231ms/step - loss: 0.3097 - accuracy: 0.9285 - val_loss: 2.7214 - val_accuracy: 0.4393\n",
            "Epoch 31/100\n",
            "188/188 [==============================] - 43s 231ms/step - loss: 0.7491 - accuracy: 0.7899 - val_loss: 1.6163 - val_accuracy: 0.6300\n",
            "Epoch 32/100\n",
            "188/188 [==============================] - 43s 231ms/step - loss: 0.2443 - accuracy: 0.9471 - val_loss: 1.7447 - val_accuracy: 0.6123\n",
            "Epoch 33/100\n",
            "188/188 [==============================] - 43s 230ms/step - loss: 0.2043 - accuracy: 0.9557 - val_loss: 1.8077 - val_accuracy: 0.6207\n",
            "Epoch 34/100\n",
            "188/188 [==============================] - 43s 230ms/step - loss: 0.1884 - accuracy: 0.9574 - val_loss: 1.7817 - val_accuracy: 0.6327\n",
            "Epoch 35/100\n",
            "188/188 [==============================] - 43s 231ms/step - loss: 0.1697 - accuracy: 0.9599 - val_loss: 1.7956 - val_accuracy: 0.6317\n",
            "Epoch 36/100\n",
            "188/188 [==============================] - 43s 231ms/step - loss: 0.1792 - accuracy: 0.9579 - val_loss: 1.8510 - val_accuracy: 0.6277\n",
            "Epoch 37/100\n",
            "188/188 [==============================] - 43s 230ms/step - loss: 0.1537 - accuracy: 0.9601 - val_loss: 1.8876 - val_accuracy: 0.6330\n",
            "Epoch 38/100\n",
            "188/188 [==============================] - 43s 231ms/step - loss: 0.1415 - accuracy: 0.9640 - val_loss: 1.9204 - val_accuracy: 0.6333\n",
            "Epoch 39/100\n",
            "188/188 [==============================] - 43s 231ms/step - loss: 0.1387 - accuracy: 0.9645 - val_loss: 1.9700 - val_accuracy: 0.6293\n",
            "Epoch 40/100\n",
            "188/188 [==============================] - 43s 231ms/step - loss: 0.1338 - accuracy: 0.9628 - val_loss: 1.9191 - val_accuracy: 0.6353\n",
            "Epoch 41/100\n",
            "188/188 [==============================] - 43s 231ms/step - loss: 0.1244 - accuracy: 0.9664 - val_loss: 2.0407 - val_accuracy: 0.6240\n",
            "Epoch 42/100\n",
            "188/188 [==============================] - 43s 231ms/step - loss: 0.1438 - accuracy: 0.9587 - val_loss: 1.9740 - val_accuracy: 0.6413\n",
            "Epoch 43/100\n",
            "188/188 [==============================] - 43s 230ms/step - loss: 0.1323 - accuracy: 0.9603 - val_loss: 2.0336 - val_accuracy: 0.6303\n",
            "Epoch 44/100\n",
            "188/188 [==============================] - 43s 231ms/step - loss: 0.1108 - accuracy: 0.9680 - val_loss: 2.0630 - val_accuracy: 0.6230\n",
            "Epoch 45/100\n",
            "188/188 [==============================] - 43s 231ms/step - loss: 0.1208 - accuracy: 0.9653 - val_loss: 1.9756 - val_accuracy: 0.6383\n",
            "Epoch 46/100\n",
            "188/188 [==============================] - 43s 231ms/step - loss: 0.1063 - accuracy: 0.9686 - val_loss: 2.0190 - val_accuracy: 0.6430\n",
            "Epoch 47/100\n",
            "188/188 [==============================] - 43s 231ms/step - loss: 0.0852 - accuracy: 0.9755 - val_loss: 2.0926 - val_accuracy: 0.6400\n",
            "Epoch 48/100\n",
            "188/188 [==============================] - 43s 231ms/step - loss: 0.0898 - accuracy: 0.9711 - val_loss: 2.0632 - val_accuracy: 0.6470\n",
            "Epoch 49/100\n",
            "188/188 [==============================] - 43s 231ms/step - loss: 0.0886 - accuracy: 0.9723 - val_loss: 2.1209 - val_accuracy: 0.6310\n",
            "Epoch 50/100\n",
            "188/188 [==============================] - 43s 231ms/step - loss: 0.1067 - accuracy: 0.9691 - val_loss: 2.1610 - val_accuracy: 0.6267\n",
            "Epoch 51/100\n",
            "188/188 [==============================] - 43s 231ms/step - loss: 0.1058 - accuracy: 0.9668 - val_loss: 2.2272 - val_accuracy: 0.6123\n",
            "Epoch 52/100\n",
            "188/188 [==============================] - 43s 230ms/step - loss: 0.1068 - accuracy: 0.9646 - val_loss: 2.0068 - val_accuracy: 0.6467\n",
            "Epoch 53/100\n",
            "188/188 [==============================] - 43s 230ms/step - loss: 0.1046 - accuracy: 0.9658 - val_loss: 2.1047 - val_accuracy: 0.6403\n",
            "Epoch 54/100\n",
            "188/188 [==============================] - 43s 231ms/step - loss: 0.0697 - accuracy: 0.9752 - val_loss: 2.1056 - val_accuracy: 0.6480\n",
            "Epoch 55/100\n",
            "188/188 [==============================] - 43s 230ms/step - loss: 0.0839 - accuracy: 0.9725 - val_loss: 2.0910 - val_accuracy: 0.6503\n",
            "Epoch 56/100\n",
            "188/188 [==============================] - 43s 231ms/step - loss: 0.0927 - accuracy: 0.9698 - val_loss: 2.0933 - val_accuracy: 0.6420\n",
            "Epoch 57/100\n",
            "188/188 [==============================] - 43s 230ms/step - loss: 0.0699 - accuracy: 0.9762 - val_loss: 2.1140 - val_accuracy: 0.6513\n",
            "Epoch 58/100\n",
            "188/188 [==============================] - 43s 231ms/step - loss: 0.0962 - accuracy: 0.9674 - val_loss: 1.9927 - val_accuracy: 0.6537\n",
            "Epoch 59/100\n",
            "188/188 [==============================] - 43s 230ms/step - loss: 0.0589 - accuracy: 0.9784 - val_loss: 2.1684 - val_accuracy: 0.6490\n",
            "Epoch 60/100\n",
            "188/188 [==============================] - 43s 230ms/step - loss: 0.0671 - accuracy: 0.9732 - val_loss: 2.1781 - val_accuracy: 0.6437\n",
            "Epoch 61/100\n",
            "188/188 [==============================] - 43s 230ms/step - loss: 0.0720 - accuracy: 0.9735 - val_loss: 2.0306 - val_accuracy: 0.6583\n",
            "Epoch 62/100\n",
            "188/188 [==============================] - 43s 230ms/step - loss: 0.0579 - accuracy: 0.9785 - val_loss: 2.0855 - val_accuracy: 0.6520\n",
            "Epoch 63/100\n",
            "188/188 [==============================] - 43s 230ms/step - loss: 0.0577 - accuracy: 0.9767 - val_loss: 2.1229 - val_accuracy: 0.6580\n",
            "Epoch 64/100\n",
            "188/188 [==============================] - 43s 230ms/step - loss: 0.0534 - accuracy: 0.9783 - val_loss: 2.1590 - val_accuracy: 0.6420\n",
            "Epoch 65/100\n",
            "188/188 [==============================] - 43s 231ms/step - loss: 0.0551 - accuracy: 0.9762 - val_loss: 2.2093 - val_accuracy: 0.6443\n",
            "Epoch 66/100\n",
            "188/188 [==============================] - 43s 231ms/step - loss: 0.0748 - accuracy: 0.9725 - val_loss: 2.0092 - val_accuracy: 0.6593\n",
            "Epoch 67/100\n",
            "188/188 [==============================] - 43s 231ms/step - loss: 0.0568 - accuracy: 0.9766 - val_loss: 2.1077 - val_accuracy: 0.6510\n",
            "Epoch 68/100\n",
            "188/188 [==============================] - 43s 231ms/step - loss: 0.0559 - accuracy: 0.9760 - val_loss: 2.1329 - val_accuracy: 0.6603\n",
            "Epoch 69/100\n",
            "188/188 [==============================] - 43s 231ms/step - loss: 0.0550 - accuracy: 0.9763 - val_loss: 2.1722 - val_accuracy: 0.6617\n",
            "Epoch 70/100\n",
            "188/188 [==============================] - 43s 231ms/step - loss: 0.0567 - accuracy: 0.9762 - val_loss: 2.1776 - val_accuracy: 0.6547\n",
            "Epoch 71/100\n",
            "188/188 [==============================] - 43s 231ms/step - loss: 0.0602 - accuracy: 0.9746 - val_loss: 2.1258 - val_accuracy: 0.6647\n",
            "Epoch 72/100\n",
            "188/188 [==============================] - 43s 231ms/step - loss: 0.0780 - accuracy: 0.9712 - val_loss: 2.1020 - val_accuracy: 0.6600\n",
            "Epoch 73/100\n",
            "188/188 [==============================] - 43s 231ms/step - loss: 0.0574 - accuracy: 0.9781 - val_loss: 1.9784 - val_accuracy: 0.6580\n",
            "Epoch 74/100\n",
            "188/188 [==============================] - 43s 231ms/step - loss: 0.0679 - accuracy: 0.9737 - val_loss: 1.9994 - val_accuracy: 0.6680\n",
            "Epoch 75/100\n",
            "188/188 [==============================] - 43s 231ms/step - loss: 0.0515 - accuracy: 0.9758 - val_loss: 2.0487 - val_accuracy: 0.6603\n",
            "Epoch 76/100\n",
            "188/188 [==============================] - 43s 231ms/step - loss: 0.0457 - accuracy: 0.9794 - val_loss: 2.1690 - val_accuracy: 0.6603\n",
            "Epoch 77/100\n",
            "188/188 [==============================] - 43s 231ms/step - loss: 0.0570 - accuracy: 0.9745 - val_loss: 2.1715 - val_accuracy: 0.6637\n",
            "Epoch 78/100\n",
            "188/188 [==============================] - 43s 231ms/step - loss: 0.0487 - accuracy: 0.9768 - val_loss: 2.1190 - val_accuracy: 0.6673\n",
            "Epoch 79/100\n",
            "188/188 [==============================] - 43s 231ms/step - loss: 0.0426 - accuracy: 0.9797 - val_loss: 2.1395 - val_accuracy: 0.6610\n",
            "Epoch 80/100\n",
            "188/188 [==============================] - 43s 231ms/step - loss: 0.0471 - accuracy: 0.9775 - val_loss: 2.1542 - val_accuracy: 0.6627\n",
            "Epoch 81/100\n",
            "188/188 [==============================] - 43s 231ms/step - loss: 0.0488 - accuracy: 0.9771 - val_loss: 2.2507 - val_accuracy: 0.6637\n",
            "Epoch 82/100\n",
            "188/188 [==============================] - 43s 231ms/step - loss: 0.0640 - accuracy: 0.9749 - val_loss: 2.0846 - val_accuracy: 0.6657\n",
            "Epoch 83/100\n",
            "188/188 [==============================] - 43s 231ms/step - loss: 0.0470 - accuracy: 0.9770 - val_loss: 2.0801 - val_accuracy: 0.6723\n",
            "Epoch 84/100\n",
            "188/188 [==============================] - 43s 231ms/step - loss: 0.0471 - accuracy: 0.9759 - val_loss: 2.1030 - val_accuracy: 0.6640\n",
            "Epoch 85/100\n",
            "188/188 [==============================] - 43s 231ms/step - loss: 0.0473 - accuracy: 0.9777 - val_loss: 2.0885 - val_accuracy: 0.6817\n",
            "Epoch 86/100\n",
            "188/188 [==============================] - 43s 231ms/step - loss: 0.0414 - accuracy: 0.9803 - val_loss: 2.1074 - val_accuracy: 0.6787\n",
            "Epoch 87/100\n",
            "188/188 [==============================] - 43s 231ms/step - loss: 0.0593 - accuracy: 0.9752 - val_loss: 2.0580 - val_accuracy: 0.6740\n",
            "Epoch 88/100\n",
            "188/188 [==============================] - 43s 231ms/step - loss: 0.0466 - accuracy: 0.9768 - val_loss: 2.1100 - val_accuracy: 0.6783\n",
            "Epoch 89/100\n",
            "188/188 [==============================] - 43s 231ms/step - loss: 0.0406 - accuracy: 0.9780 - val_loss: 2.0838 - val_accuracy: 0.6783\n",
            "Epoch 90/100\n",
            "188/188 [==============================] - 43s 231ms/step - loss: 0.0387 - accuracy: 0.9812 - val_loss: 2.1488 - val_accuracy: 0.6793\n",
            "Epoch 91/100\n",
            "188/188 [==============================] - 43s 231ms/step - loss: 0.0520 - accuracy: 0.9732 - val_loss: 1.9893 - val_accuracy: 0.6690\n",
            "Epoch 92/100\n",
            "188/188 [==============================] - 43s 230ms/step - loss: 0.0550 - accuracy: 0.9760 - val_loss: 2.0143 - val_accuracy: 0.6770\n",
            "Epoch 93/100\n",
            "188/188 [==============================] - 43s 231ms/step - loss: 0.0428 - accuracy: 0.9802 - val_loss: 2.0977 - val_accuracy: 0.6747\n",
            "Epoch 94/100\n",
            "188/188 [==============================] - 43s 231ms/step - loss: 0.0429 - accuracy: 0.9758 - val_loss: 2.1081 - val_accuracy: 0.6797\n",
            "Epoch 95/100\n",
            "188/188 [==============================] - 43s 231ms/step - loss: 0.0402 - accuracy: 0.9790 - val_loss: 2.1420 - val_accuracy: 0.6767\n",
            "Epoch 96/100\n",
            "188/188 [==============================] - 43s 231ms/step - loss: 0.0408 - accuracy: 0.9774 - val_loss: 2.1504 - val_accuracy: 0.6763\n",
            "Epoch 97/100\n",
            "188/188 [==============================] - 43s 231ms/step - loss: 0.0374 - accuracy: 0.9797 - val_loss: 2.2190 - val_accuracy: 0.6697\n",
            "Epoch 98/100\n",
            "188/188 [==============================] - 43s 231ms/step - loss: 0.0375 - accuracy: 0.9770 - val_loss: 2.2290 - val_accuracy: 0.6740\n",
            "Epoch 99/100\n",
            "188/188 [==============================] - 43s 231ms/step - loss: 0.0395 - accuracy: 0.9796 - val_loss: 2.2313 - val_accuracy: 0.6460\n",
            "Epoch 100/100\n",
            "188/188 [==============================] - 43s 231ms/step - loss: 0.0631 - accuracy: 0.9731 - val_loss: 2.0119 - val_accuracy: 0.6767\n"
          ],
          "name": "stdout"
        },
        {
          "output_type": "display_data",
          "data": {
            "image/png": "[encoded data removed]",
            "text/plain": [
              "<Figure size 864x360 with 2 Axes>"
            ]
          },
          "metadata": {
            "tags": []
          }
        }
      ]
    },
    {
      "cell_type": "markdown",
      "metadata": {
        "id": "YXTGJ-MFCiHJ"
      },
      "source": [
        "# Evaluate with Embedding"
      ]
    },
    {
      "cell_type": "markdown",
      "metadata": {
        "id": "37KwT0RoXsz8"
      },
      "source": [
        "##Use embedding trainable = False"
      ]
    },
    {
      "cell_type": "code",
      "metadata": {
        "id": "sVL5cRkG38Q7",
        "colab": {
          "base_uri": "https://localhost:8080/"
        },
        "outputId": "95b66a3c-8678-4590-a3f3-64a40ab2e708"
      },
      "source": [
        "#Implement your model\n",
        "#trainable=False\n",
        "from tensorflow.keras import initializers\n",
        "\n",
        "model = keras.Sequential()\n",
        "model.add(keras.layers.Embedding(20000, 20, input_length=200, trainable=False, embeddings_initializer=initializers.RandomNormal(stddev=0.1)))\n",
        "model.add(keras.layers.GRU(30, input_shape=((x_val.shape[1:]))))\n",
        "model.add(keras.layers.Dense(20, activation='softmax'))\n",
        "\n",
        "\n",
        "model.summary()"
      ],
      "execution_count": 12,
      "outputs": [
        {
          "output_type": "stream",
          "text": [
            "Model: \"sequential_1\"\n",
            "_________________________________________________________________\n",
            "Layer (type)                 Output Shape              Param #   \n",
            "=================================================================\n",
            "embedding (Embedding)        (None, 200, 20)           400000    \n",
            "_________________________________________________________________\n",
            "gru_1 (GRU)                  (None, 30)                4680      \n",
            "_________________________________________________________________\n",
            "dense_1 (Dense)              (None, 20)                620       \n",
            "=================================================================\n",
            "Total params: 405,300\n",
            "Trainable params: 5,300\n",
            "Non-trainable params: 400,000\n",
            "_________________________________________________________________\n"
          ],
          "name": "stdout"
        }
      ]
    },
    {
      "cell_type": "code",
      "metadata": {
        "id": "MjWqYpae38RA",
        "colab": {
          "base_uri": "https://localhost:8080/",
          "height": 1000
        },
        "outputId": "74c1223e-aeec-448a-bbac-add432d2575a"
      },
      "source": [
        "# Compile model\n",
        "model.compile(loss='sparse_categorical_crossentropy',\n",
        "              optimizer='adam',\n",
        "              metrics=['accuracy'])\n",
        "\n",
        "# Fit model (training and validation)\n",
        "history = model.fit(x_train, y_train,\n",
        "                    epochs=100,\n",
        "                    batch_size=64,\n",
        "                    validation_data=(x_val, y_val))\n",
        "\n",
        "# Plot history\n",
        "plot_history(history)"
      ],
      "execution_count": 13,
      "outputs": [
        {
          "output_type": "stream",
          "text": [
            "Epoch 1/100\n",
            "188/188 [==============================] - 18s 86ms/step - loss: 2.9930 - accuracy: 0.0521 - val_loss: 2.9656 - val_accuracy: 0.0747\n",
            "Epoch 2/100\n",
            "188/188 [==============================] - 15s 81ms/step - loss: 2.9666 - accuracy: 0.0721 - val_loss: 2.9558 - val_accuracy: 0.0740\n",
            "Epoch 3/100\n",
            "188/188 [==============================] - 15s 81ms/step - loss: 2.9602 - accuracy: 0.0729 - val_loss: 2.9372 - val_accuracy: 0.0803\n",
            "Epoch 4/100\n",
            "188/188 [==============================] - 15s 82ms/step - loss: 2.9396 - accuracy: 0.0798 - val_loss: 2.9055 - val_accuracy: 0.0853\n",
            "Epoch 5/100\n",
            "188/188 [==============================] - 15s 82ms/step - loss: 2.9095 - accuracy: 0.0793 - val_loss: 2.8850 - val_accuracy: 0.0857\n",
            "Epoch 6/100\n",
            "188/188 [==============================] - 15s 82ms/step - loss: 2.8840 - accuracy: 0.0859 - val_loss: 2.8711 - val_accuracy: 0.0837\n",
            "Epoch 7/100\n",
            "188/188 [==============================] - 15s 81ms/step - loss: 2.8555 - accuracy: 0.0874 - val_loss: 2.8524 - val_accuracy: 0.0907\n",
            "Epoch 8/100\n",
            "188/188 [==============================] - 15s 80ms/step - loss: 2.8637 - accuracy: 0.0907 - val_loss: 2.8572 - val_accuracy: 0.1007\n",
            "Epoch 9/100\n",
            "188/188 [==============================] - 15s 80ms/step - loss: 2.8338 - accuracy: 0.0950 - val_loss: 2.8375 - val_accuracy: 0.0940\n",
            "Epoch 10/100\n",
            "188/188 [==============================] - 16s 83ms/step - loss: 2.8263 - accuracy: 0.0971 - val_loss: 2.8261 - val_accuracy: 0.0953\n",
            "Epoch 11/100\n",
            "188/188 [==============================] - 15s 81ms/step - loss: 2.8227 - accuracy: 0.1002 - val_loss: 2.8264 - val_accuracy: 0.0970\n",
            "Epoch 12/100\n",
            "188/188 [==============================] - 15s 81ms/step - loss: 2.8080 - accuracy: 0.0981 - val_loss: 2.7869 - val_accuracy: 0.1003\n",
            "Epoch 13/100\n",
            "188/188 [==============================] - 15s 81ms/step - loss: 2.8058 - accuracy: 0.1009 - val_loss: 2.7735 - val_accuracy: 0.1063\n",
            "Epoch 14/100\n",
            "188/188 [==============================] - 15s 80ms/step - loss: 2.7798 - accuracy: 0.1049 - val_loss: 2.7664 - val_accuracy: 0.1067\n",
            "Epoch 15/100\n",
            "188/188 [==============================] - 15s 80ms/step - loss: 2.7743 - accuracy: 0.1072 - val_loss: 2.7544 - val_accuracy: 0.1050\n",
            "Epoch 16/100\n",
            "188/188 [==============================] - 15s 81ms/step - loss: 2.7524 - accuracy: 0.1090 - val_loss: 2.7348 - val_accuracy: 0.1043\n",
            "Epoch 17/100\n",
            "188/188 [==============================] - 15s 80ms/step - loss: 2.7402 - accuracy: 0.1115 - val_loss: 2.7296 - val_accuracy: 0.1137\n",
            "Epoch 18/100\n",
            "188/188 [==============================] - 15s 80ms/step - loss: 2.7259 - accuracy: 0.1183 - val_loss: 2.7337 - val_accuracy: 0.1067\n",
            "Epoch 19/100\n",
            "188/188 [==============================] - 15s 81ms/step - loss: 2.7257 - accuracy: 0.1123 - val_loss: 2.7009 - val_accuracy: 0.1110\n",
            "Epoch 20/100\n",
            "188/188 [==============================] - 15s 81ms/step - loss: 2.6910 - accuracy: 0.1216 - val_loss: 2.7047 - val_accuracy: 0.1060\n",
            "Epoch 21/100\n",
            "188/188 [==============================] - 15s 82ms/step - loss: 2.6970 - accuracy: 0.1196 - val_loss: 2.7187 - val_accuracy: 0.1157\n",
            "Epoch 22/100\n",
            "188/188 [==============================] - 16s 84ms/step - loss: 2.6977 - accuracy: 0.1292 - val_loss: 2.6766 - val_accuracy: 0.1223\n",
            "Epoch 23/100\n",
            "188/188 [==============================] - 15s 82ms/step - loss: 2.6639 - accuracy: 0.1314 - val_loss: 2.6657 - val_accuracy: 0.1180\n",
            "Epoch 24/100\n",
            "188/188 [==============================] - 17s 93ms/step - loss: 2.6784 - accuracy: 0.1318 - val_loss: 2.6604 - val_accuracy: 0.1223\n",
            "Epoch 25/100\n",
            "188/188 [==============================] - 17s 92ms/step - loss: 2.6613 - accuracy: 0.1311 - val_loss: 2.6651 - val_accuracy: 0.1253\n",
            "Epoch 26/100\n",
            "188/188 [==============================] - 17s 88ms/step - loss: 2.6359 - accuracy: 0.1339 - val_loss: 2.6697 - val_accuracy: 0.1247\n",
            "Epoch 27/100\n",
            "188/188 [==============================] - 17s 89ms/step - loss: 2.6425 - accuracy: 0.1366 - val_loss: 2.6484 - val_accuracy: 0.1327\n",
            "Epoch 28/100\n",
            "188/188 [==============================] - 17s 89ms/step - loss: 2.6372 - accuracy: 0.1382 - val_loss: 2.6377 - val_accuracy: 0.1360\n",
            "Epoch 29/100\n",
            "188/188 [==============================] - 17s 89ms/step - loss: 2.6390 - accuracy: 0.1381 - val_loss: 2.6399 - val_accuracy: 0.1350\n",
            "Epoch 30/100\n",
            "188/188 [==============================] - 17s 91ms/step - loss: 2.6052 - accuracy: 0.1416 - val_loss: 2.6547 - val_accuracy: 0.1260\n",
            "Epoch 31/100\n",
            "188/188 [==============================] - 17s 92ms/step - loss: 2.6181 - accuracy: 0.1457 - val_loss: 2.6280 - val_accuracy: 0.1307\n",
            "Epoch 32/100\n",
            "188/188 [==============================] - 17s 90ms/step - loss: 2.6127 - accuracy: 0.1484 - val_loss: 2.6233 - val_accuracy: 0.1357\n",
            "Epoch 33/100\n",
            "188/188 [==============================] - 17s 89ms/step - loss: 2.6165 - accuracy: 0.1528 - val_loss: 2.6328 - val_accuracy: 0.1350\n",
            "Epoch 34/100\n",
            "188/188 [==============================] - 17s 89ms/step - loss: 2.6044 - accuracy: 0.1518 - val_loss: 2.6195 - val_accuracy: 0.1313\n",
            "Epoch 35/100\n",
            "188/188 [==============================] - 17s 88ms/step - loss: 2.6043 - accuracy: 0.1463 - val_loss: 2.6154 - val_accuracy: 0.1387\n",
            "Epoch 36/100\n",
            "188/188 [==============================] - 17s 89ms/step - loss: 2.5951 - accuracy: 0.1559 - val_loss: 2.6119 - val_accuracy: 0.1393\n",
            "Epoch 37/100\n",
            "188/188 [==============================] - 17s 91ms/step - loss: 2.5853 - accuracy: 0.1522 - val_loss: 2.6227 - val_accuracy: 0.1403\n",
            "Epoch 38/100\n",
            "188/188 [==============================] - 17s 89ms/step - loss: 2.6039 - accuracy: 0.1503 - val_loss: 2.6103 - val_accuracy: 0.1417\n",
            "Epoch 39/100\n",
            "188/188 [==============================] - 17s 90ms/step - loss: 2.5837 - accuracy: 0.1546 - val_loss: 2.6021 - val_accuracy: 0.1413\n",
            "Epoch 40/100\n",
            "188/188 [==============================] - 17s 91ms/step - loss: 2.5792 - accuracy: 0.1533 - val_loss: 2.6027 - val_accuracy: 0.1443\n",
            "Epoch 41/100\n",
            "188/188 [==============================] - 17s 91ms/step - loss: 2.5743 - accuracy: 0.1638 - val_loss: 2.5982 - val_accuracy: 0.1440\n",
            "Epoch 42/100\n",
            "188/188 [==============================] - 17s 90ms/step - loss: 2.5723 - accuracy: 0.1562 - val_loss: 2.5923 - val_accuracy: 0.1457\n",
            "Epoch 43/100\n",
            "188/188 [==============================] - 17s 92ms/step - loss: 2.5638 - accuracy: 0.1575 - val_loss: 2.6168 - val_accuracy: 0.1423\n",
            "Epoch 44/100\n",
            "188/188 [==============================] - 17s 92ms/step - loss: 2.5670 - accuracy: 0.1569 - val_loss: 2.6136 - val_accuracy: 0.1453\n",
            "Epoch 45/100\n",
            "188/188 [==============================] - 17s 90ms/step - loss: 2.5602 - accuracy: 0.1567 - val_loss: 2.5905 - val_accuracy: 0.1483\n",
            "Epoch 46/100\n",
            "188/188 [==============================] - 17s 90ms/step - loss: 2.5555 - accuracy: 0.1652 - val_loss: 2.6010 - val_accuracy: 0.1517\n",
            "Epoch 47/100\n",
            "188/188 [==============================] - 17s 90ms/step - loss: 2.5391 - accuracy: 0.1643 - val_loss: 2.5877 - val_accuracy: 0.1483\n",
            "Epoch 48/100\n",
            "188/188 [==============================] - 17s 89ms/step - loss: 2.5421 - accuracy: 0.1610 - val_loss: 2.6381 - val_accuracy: 0.1500\n",
            "Epoch 49/100\n",
            "188/188 [==============================] - 17s 89ms/step - loss: 2.5455 - accuracy: 0.1664 - val_loss: 2.5827 - val_accuracy: 0.1510\n",
            "Epoch 50/100\n",
            "188/188 [==============================] - 17s 88ms/step - loss: 2.5462 - accuracy: 0.1625 - val_loss: 2.6100 - val_accuracy: 0.1523\n",
            "Epoch 51/100\n",
            "188/188 [==============================] - 16s 87ms/step - loss: 2.5259 - accuracy: 0.1703 - val_loss: 2.5844 - val_accuracy: 0.1513\n",
            "Epoch 52/100\n",
            "188/188 [==============================] - 17s 90ms/step - loss: 2.5235 - accuracy: 0.1707 - val_loss: 2.5826 - val_accuracy: 0.1520\n",
            "Epoch 53/100\n",
            "188/188 [==============================] - 17s 89ms/step - loss: 2.5299 - accuracy: 0.1685 - val_loss: 2.5697 - val_accuracy: 0.1567\n",
            "Epoch 54/100\n",
            "188/188 [==============================] - 17s 89ms/step - loss: 2.5264 - accuracy: 0.1741 - val_loss: 2.5760 - val_accuracy: 0.1550\n",
            "Epoch 55/100\n",
            "188/188 [==============================] - 17s 89ms/step - loss: 2.5255 - accuracy: 0.1772 - val_loss: 2.5839 - val_accuracy: 0.1600\n",
            "Epoch 56/100\n",
            "188/188 [==============================] - 17s 88ms/step - loss: 2.5146 - accuracy: 0.1746 - val_loss: 2.5675 - val_accuracy: 0.1570\n",
            "Epoch 57/100\n",
            "188/188 [==============================] - 17s 88ms/step - loss: 2.5051 - accuracy: 0.1801 - val_loss: 2.5674 - val_accuracy: 0.1600\n",
            "Epoch 58/100\n",
            "188/188 [==============================] - 17s 88ms/step - loss: 2.5073 - accuracy: 0.1787 - val_loss: 2.5604 - val_accuracy: 0.1657\n",
            "Epoch 59/100\n",
            "188/188 [==============================] - 17s 88ms/step - loss: 2.5028 - accuracy: 0.1805 - val_loss: 2.5592 - val_accuracy: 0.1583\n",
            "Epoch 60/100\n",
            "188/188 [==============================] - 17s 90ms/step - loss: 2.4999 - accuracy: 0.1744 - val_loss: 2.5604 - val_accuracy: 0.1737\n",
            "Epoch 61/100\n",
            "188/188 [==============================] - 19s 99ms/step - loss: 2.4878 - accuracy: 0.1781 - val_loss: 2.5555 - val_accuracy: 0.1677\n",
            "Epoch 62/100\n",
            "188/188 [==============================] - 16s 88ms/step - loss: 2.4967 - accuracy: 0.1763 - val_loss: 2.5498 - val_accuracy: 0.1610\n",
            "Epoch 63/100\n",
            "188/188 [==============================] - 17s 88ms/step - loss: 2.4945 - accuracy: 0.1800 - val_loss: 2.5500 - val_accuracy: 0.1697\n",
            "Epoch 64/100\n",
            "188/188 [==============================] - 17s 88ms/step - loss: 2.4831 - accuracy: 0.1836 - val_loss: 2.5429 - val_accuracy: 0.1687\n",
            "Epoch 65/100\n",
            "188/188 [==============================] - 17s 89ms/step - loss: 2.4727 - accuracy: 0.1818 - val_loss: 2.5508 - val_accuracy: 0.1730\n",
            "Epoch 66/100\n",
            "188/188 [==============================] - 17s 90ms/step - loss: 2.4612 - accuracy: 0.1915 - val_loss: 2.6105 - val_accuracy: 0.1580\n",
            "Epoch 67/100\n",
            "188/188 [==============================] - 17s 92ms/step - loss: 2.4852 - accuracy: 0.1826 - val_loss: 2.5597 - val_accuracy: 0.1647\n",
            "Epoch 68/100\n",
            "188/188 [==============================] - 17s 92ms/step - loss: 2.4670 - accuracy: 0.1887 - val_loss: 2.5417 - val_accuracy: 0.1650\n",
            "Epoch 69/100\n",
            "188/188 [==============================] - 17s 90ms/step - loss: 2.4737 - accuracy: 0.1850 - val_loss: 2.5283 - val_accuracy: 0.1717\n",
            "Epoch 70/100\n",
            "188/188 [==============================] - 17s 91ms/step - loss: 2.4496 - accuracy: 0.1928 - val_loss: 2.5135 - val_accuracy: 0.1873\n",
            "Epoch 71/100\n",
            "188/188 [==============================] - 17s 92ms/step - loss: 2.4332 - accuracy: 0.1937 - val_loss: 2.5171 - val_accuracy: 0.1890\n",
            "Epoch 72/100\n",
            "188/188 [==============================] - 17s 91ms/step - loss: 2.4227 - accuracy: 0.1966 - val_loss: 2.5190 - val_accuracy: 0.1837\n",
            "Epoch 73/100\n",
            "188/188 [==============================] - 17s 91ms/step - loss: 2.4279 - accuracy: 0.2016 - val_loss: 2.5222 - val_accuracy: 0.1733\n",
            "Epoch 74/100\n",
            "188/188 [==============================] - 17s 91ms/step - loss: 2.4183 - accuracy: 0.2004 - val_loss: 2.5105 - val_accuracy: 0.1950\n",
            "Epoch 75/100\n",
            "188/188 [==============================] - 17s 92ms/step - loss: 2.4316 - accuracy: 0.1963 - val_loss: 2.4840 - val_accuracy: 0.1943\n",
            "Epoch 76/100\n",
            "188/188 [==============================] - 17s 92ms/step - loss: 2.4261 - accuracy: 0.2017 - val_loss: 2.4931 - val_accuracy: 0.1930\n",
            "Epoch 77/100\n",
            "188/188 [==============================] - 17s 90ms/step - loss: 2.4117 - accuracy: 0.2039 - val_loss: 2.4826 - val_accuracy: 0.1920\n",
            "Epoch 78/100\n",
            "188/188 [==============================] - 17s 91ms/step - loss: 2.4096 - accuracy: 0.2062 - val_loss: 2.4703 - val_accuracy: 0.1997\n",
            "Epoch 79/100\n",
            "188/188 [==============================] - 17s 90ms/step - loss: 2.4029 - accuracy: 0.2134 - val_loss: 2.4681 - val_accuracy: 0.2020\n",
            "Epoch 80/100\n",
            "188/188 [==============================] - 17s 91ms/step - loss: 2.3866 - accuracy: 0.2054 - val_loss: 2.4619 - val_accuracy: 0.2010\n",
            "Epoch 81/100\n",
            "188/188 [==============================] - 17s 92ms/step - loss: 2.3809 - accuracy: 0.2160 - val_loss: 2.4898 - val_accuracy: 0.1913\n",
            "Epoch 82/100\n",
            "188/188 [==============================] - 17s 91ms/step - loss: 2.4005 - accuracy: 0.2047 - val_loss: 2.4840 - val_accuracy: 0.2067\n",
            "Epoch 83/100\n",
            "188/188 [==============================] - 17s 90ms/step - loss: 2.3668 - accuracy: 0.2229 - val_loss: 2.4551 - val_accuracy: 0.1997\n",
            "Epoch 84/100\n",
            "188/188 [==============================] - 17s 90ms/step - loss: 2.3733 - accuracy: 0.2217 - val_loss: 2.4481 - val_accuracy: 0.2013\n",
            "Epoch 85/100\n",
            "188/188 [==============================] - 17s 91ms/step - loss: 2.3590 - accuracy: 0.2257 - val_loss: 2.4650 - val_accuracy: 0.2023\n",
            "Epoch 86/100\n",
            "188/188 [==============================] - 17s 90ms/step - loss: 2.3607 - accuracy: 0.2127 - val_loss: 2.4280 - val_accuracy: 0.2100\n",
            "Epoch 87/100\n",
            "188/188 [==============================] - 17s 90ms/step - loss: 2.3335 - accuracy: 0.2287 - val_loss: 2.4381 - val_accuracy: 0.2150\n",
            "Epoch 88/100\n",
            "188/188 [==============================] - 17s 91ms/step - loss: 2.3445 - accuracy: 0.2280 - val_loss: 2.4251 - val_accuracy: 0.2087\n",
            "Epoch 89/100\n",
            "188/188 [==============================] - 17s 91ms/step - loss: 2.3435 - accuracy: 0.2317 - val_loss: 2.4370 - val_accuracy: 0.2127\n",
            "Epoch 90/100\n",
            "188/188 [==============================] - 17s 91ms/step - loss: 2.3266 - accuracy: 0.2303 - val_loss: 2.4167 - val_accuracy: 0.2137\n",
            "Epoch 91/100\n",
            "188/188 [==============================] - 17s 91ms/step - loss: 2.3186 - accuracy: 0.2351 - val_loss: 2.4357 - val_accuracy: 0.2187\n",
            "Epoch 92/100\n",
            "188/188 [==============================] - 17s 91ms/step - loss: 2.3312 - accuracy: 0.2351 - val_loss: 2.4111 - val_accuracy: 0.2163\n",
            "Epoch 93/100\n",
            "188/188 [==============================] - 17s 91ms/step - loss: 2.3081 - accuracy: 0.2332 - val_loss: 2.4003 - val_accuracy: 0.2173\n",
            "Epoch 94/100\n",
            "188/188 [==============================] - 17s 90ms/step - loss: 2.3034 - accuracy: 0.2430 - val_loss: 2.4151 - val_accuracy: 0.2093\n",
            "Epoch 95/100\n",
            "188/188 [==============================] - 17s 89ms/step - loss: 2.2895 - accuracy: 0.2472 - val_loss: 2.3880 - val_accuracy: 0.2247\n",
            "Epoch 96/100\n",
            "188/188 [==============================] - 19s 100ms/step - loss: 2.3113 - accuracy: 0.2359 - val_loss: 2.4057 - val_accuracy: 0.2200\n",
            "Epoch 97/100\n",
            "188/188 [==============================] - 19s 100ms/step - loss: 2.3068 - accuracy: 0.2366 - val_loss: 2.3805 - val_accuracy: 0.2293\n",
            "Epoch 98/100\n",
            "188/188 [==============================] - 17s 90ms/step - loss: 2.2890 - accuracy: 0.2447 - val_loss: 2.3861 - val_accuracy: 0.2327\n",
            "Epoch 99/100\n",
            "188/188 [==============================] - 17s 90ms/step - loss: 2.2698 - accuracy: 0.2522 - val_loss: 2.3707 - val_accuracy: 0.2300\n",
            "Epoch 100/100\n",
            "188/188 [==============================] - 17s 91ms/step - loss: 2.2844 - accuracy: 0.2483 - val_loss: 2.3824 - val_accuracy: 0.2350\n"
          ],
          "name": "stdout"
        },
        {
          "output_type": "display_data",
          "data": {
            "image/png": "[encoded data removed]",
            "text/plain": [
              "<Figure size 864x360 with 2 Axes>"
            ]
          },
          "metadata": {
            "tags": []
          }
        }
      ]
    },
    {
      "cell_type": "markdown",
      "metadata": {
        "id": "ig2N2cYcX0gc"
      },
      "source": [
        "## embedding trainable = True"
      ]
    },
    {
      "cell_type": "code",
      "metadata": {
        "id": "1_pal3i5X4I_",
        "colab": {
          "base_uri": "https://localhost:8080/"
        },
        "outputId": "8f15822c-4923-4f1d-f069-dd282f1c5a7c"
      },
      "source": [
        "#Implement your model\n",
        "\n",
        "from tensorflow.keras import initializers\n",
        "\n",
        "model = keras.Sequential()\n",
        "model.add(keras.layers.Embedding(20000, 20, input_length=200))\n",
        "model.add(keras.layers.GRU(30, input_shape=((x_val.shape[1:]))))\n",
        "model.add(keras.layers.Dense(20, activation='softmax'))\n",
        "\n",
        "model.summary()"
      ],
      "execution_count": 14,
      "outputs": [
        {
          "output_type": "stream",
          "text": [
            "Model: \"sequential_2\"\n",
            "_________________________________________________________________\n",
            "Layer (type)                 Output Shape              Param #   \n",
            "=================================================================\n",
            "embedding_1 (Embedding)      (None, 200, 20)           400000    \n",
            "_________________________________________________________________\n",
            "gru_2 (GRU)                  (None, 30)                4680      \n",
            "_________________________________________________________________\n",
            "dense_2 (Dense)              (None, 20)                620       \n",
            "=================================================================\n",
            "Total params: 405,300\n",
            "Trainable params: 405,300\n",
            "Non-trainable params: 0\n",
            "_________________________________________________________________\n"
          ],
          "name": "stdout"
        }
      ]
    },
    {
      "cell_type": "code",
      "metadata": {
        "id": "ZxJ4fFhBX4JB",
        "colab": {
          "base_uri": "https://localhost:8080/",
          "height": 1000
        },
        "outputId": "6da69c8a-df27-49c3-d278-47a6e8c8e67b"
      },
      "source": [
        "# Compile model\n",
        "model.compile(loss='sparse_categorical_crossentropy',\n",
        "              optimizer='adam',\n",
        "              metrics=['accuracy'])\n",
        "\n",
        "# Fit model (training and validation)\n",
        "history = model.fit(x_train, y_train,\n",
        "                    epochs=100,\n",
        "                    batch_size=64,\n",
        "                    validation_data=(x_val, y_val))\n",
        "\n",
        "# Plot history\n",
        "plot_history(history)"
      ],
      "execution_count": 15,
      "outputs": [
        {
          "output_type": "stream",
          "text": [
            "Epoch 1/100\n",
            "188/188 [==============================] - 20s 96ms/step - loss: 2.9846 - accuracy: 0.0638 - val_loss: 2.8755 - val_accuracy: 0.0790\n",
            "Epoch 2/100\n",
            "188/188 [==============================] - 18s 94ms/step - loss: 2.7851 - accuracy: 0.0950 - val_loss: 2.6904 - val_accuracy: 0.0897\n",
            "Epoch 3/100\n",
            "188/188 [==============================] - 18s 94ms/step - loss: 2.8702 - accuracy: 0.0899 - val_loss: 2.9848 - val_accuracy: 0.0613\n",
            "Epoch 4/100\n",
            "188/188 [==============================] - 18s 94ms/step - loss: 2.9711 - accuracy: 0.0744 - val_loss: 2.9574 - val_accuracy: 0.0730\n",
            "Epoch 5/100\n",
            "188/188 [==============================] - 18s 94ms/step - loss: 2.9464 - accuracy: 0.0816 - val_loss: 2.9441 - val_accuracy: 0.0753\n",
            "Epoch 6/100\n",
            "188/188 [==============================] - 18s 96ms/step - loss: 2.9244 - accuracy: 0.0895 - val_loss: 2.9129 - val_accuracy: 0.0870\n",
            "Epoch 7/100\n",
            "188/188 [==============================] - 19s 101ms/step - loss: 2.8798 - accuracy: 0.1110 - val_loss: 2.7387 - val_accuracy: 0.1037\n",
            "Epoch 8/100\n",
            "188/188 [==============================] - 20s 104ms/step - loss: 2.7732 - accuracy: 0.1166 - val_loss: 2.9283 - val_accuracy: 0.0843\n",
            "Epoch 9/100\n",
            "188/188 [==============================] - 19s 103ms/step - loss: 2.9059 - accuracy: 0.1056 - val_loss: 2.8943 - val_accuracy: 0.0847\n",
            "Epoch 10/100\n",
            "188/188 [==============================] - 20s 104ms/step - loss: 2.8561 - accuracy: 0.0955 - val_loss: 2.8062 - val_accuracy: 0.0970\n",
            "Epoch 11/100\n",
            "188/188 [==============================] - 20s 104ms/step - loss: 2.7209 - accuracy: 0.1290 - val_loss: 2.6799 - val_accuracy: 0.1127\n",
            "Epoch 12/100\n",
            "188/188 [==============================] - 19s 102ms/step - loss: 2.6101 - accuracy: 0.1436 - val_loss: 2.6350 - val_accuracy: 0.1023\n",
            "Epoch 13/100\n",
            "188/188 [==============================] - 19s 100ms/step - loss: 2.5370 - accuracy: 0.1664 - val_loss: 2.6170 - val_accuracy: 0.1070\n",
            "Epoch 14/100\n",
            "188/188 [==============================] - 19s 99ms/step - loss: 2.4888 - accuracy: 0.1959 - val_loss: 2.6001 - val_accuracy: 0.1193\n",
            "Epoch 15/100\n",
            "188/188 [==============================] - 19s 102ms/step - loss: 2.4900 - accuracy: 0.2062 - val_loss: 2.7303 - val_accuracy: 0.1057\n",
            "Epoch 16/100\n",
            "188/188 [==============================] - 19s 102ms/step - loss: 2.5345 - accuracy: 0.1957 - val_loss: 2.8539 - val_accuracy: 0.1140\n",
            "Epoch 17/100\n",
            "188/188 [==============================] - 19s 103ms/step - loss: 2.5275 - accuracy: 0.1991 - val_loss: 2.6046 - val_accuracy: 0.1270\n",
            "Epoch 18/100\n",
            "188/188 [==============================] - 19s 101ms/step - loss: 2.3879 - accuracy: 0.2371 - val_loss: 2.6096 - val_accuracy: 0.1327\n",
            "Epoch 19/100\n",
            "188/188 [==============================] - 19s 102ms/step - loss: 2.3412 - accuracy: 0.2433 - val_loss: 2.6077 - val_accuracy: 0.1337\n",
            "Epoch 20/100\n",
            "188/188 [==============================] - 19s 102ms/step - loss: 2.2953 - accuracy: 0.2601 - val_loss: 2.6086 - val_accuracy: 0.1377\n",
            "Epoch 21/100\n",
            "188/188 [==============================] - 19s 101ms/step - loss: 2.2468 - accuracy: 0.2881 - val_loss: 2.6007 - val_accuracy: 0.1393\n",
            "Epoch 22/100\n",
            "188/188 [==============================] - 19s 100ms/step - loss: 2.1828 - accuracy: 0.3060 - val_loss: 2.5904 - val_accuracy: 0.1410\n",
            "Epoch 23/100\n",
            "188/188 [==============================] - 19s 101ms/step - loss: 2.2040 - accuracy: 0.3045 - val_loss: 2.5833 - val_accuracy: 0.1620\n",
            "Epoch 24/100\n",
            "188/188 [==============================] - 19s 101ms/step - loss: 2.0958 - accuracy: 0.3354 - val_loss: 2.5864 - val_accuracy: 0.1597\n",
            "Epoch 25/100\n",
            "188/188 [==============================] - 19s 102ms/step - loss: 2.0647 - accuracy: 0.3455 - val_loss: 2.6029 - val_accuracy: 0.1490\n",
            "Epoch 26/100\n",
            "188/188 [==============================] - 19s 102ms/step - loss: 2.0022 - accuracy: 0.3604 - val_loss: 2.5835 - val_accuracy: 0.1740\n",
            "Epoch 27/100\n",
            "188/188 [==============================] - 19s 100ms/step - loss: 1.9772 - accuracy: 0.3815 - val_loss: 2.5885 - val_accuracy: 0.1827\n",
            "Epoch 28/100\n",
            "188/188 [==============================] - 19s 100ms/step - loss: 1.9325 - accuracy: 0.3944 - val_loss: 2.6568 - val_accuracy: 0.1730\n",
            "Epoch 29/100\n",
            "188/188 [==============================] - 23s 122ms/step - loss: 1.9436 - accuracy: 0.3934 - val_loss: 2.5607 - val_accuracy: 0.1897\n",
            "Epoch 30/100\n",
            "188/188 [==============================] - 19s 103ms/step - loss: 1.9062 - accuracy: 0.4102 - val_loss: 2.5829 - val_accuracy: 0.1887\n",
            "Epoch 31/100\n",
            "188/188 [==============================] - 19s 102ms/step - loss: 1.8388 - accuracy: 0.4277 - val_loss: 2.6098 - val_accuracy: 0.1900\n",
            "Epoch 32/100\n",
            "188/188 [==============================] - 19s 103ms/step - loss: 1.8045 - accuracy: 0.4420 - val_loss: 2.6130 - val_accuracy: 0.2160\n",
            "Epoch 33/100\n",
            "188/188 [==============================] - 19s 103ms/step - loss: 1.7722 - accuracy: 0.4491 - val_loss: 2.6864 - val_accuracy: 0.2053\n",
            "Epoch 34/100\n",
            "188/188 [==============================] - 20s 104ms/step - loss: 1.7132 - accuracy: 0.4709 - val_loss: 2.5566 - val_accuracy: 0.2260\n",
            "Epoch 35/100\n",
            "188/188 [==============================] - 19s 103ms/step - loss: 1.6429 - accuracy: 0.4830 - val_loss: 2.5685 - val_accuracy: 0.2377\n",
            "Epoch 36/100\n",
            "188/188 [==============================] - 19s 103ms/step - loss: 1.6592 - accuracy: 0.4935 - val_loss: 2.5544 - val_accuracy: 0.2470\n",
            "Epoch 37/100\n",
            "188/188 [==============================] - 19s 103ms/step - loss: 1.6280 - accuracy: 0.4996 - val_loss: 2.4830 - val_accuracy: 0.2763\n",
            "Epoch 38/100\n",
            "188/188 [==============================] - 20s 104ms/step - loss: 1.5112 - accuracy: 0.5190 - val_loss: 2.4321 - val_accuracy: 0.2673\n",
            "Epoch 39/100\n",
            "188/188 [==============================] - 20s 105ms/step - loss: 1.4237 - accuracy: 0.5329 - val_loss: 2.4056 - val_accuracy: 0.2833\n",
            "Epoch 40/100\n",
            "188/188 [==============================] - 20s 106ms/step - loss: 1.3557 - accuracy: 0.5459 - val_loss: 2.4128 - val_accuracy: 0.2943\n",
            "Epoch 41/100\n",
            "188/188 [==============================] - 19s 103ms/step - loss: 1.2573 - accuracy: 0.5765 - val_loss: 2.4079 - val_accuracy: 0.3187\n",
            "Epoch 42/100\n",
            "188/188 [==============================] - 20s 104ms/step - loss: 1.2015 - accuracy: 0.5938 - val_loss: 2.3862 - val_accuracy: 0.3307\n",
            "Epoch 43/100\n",
            "188/188 [==============================] - 19s 103ms/step - loss: 1.2324 - accuracy: 0.5958 - val_loss: 2.4312 - val_accuracy: 0.3180\n",
            "Epoch 44/100\n",
            "188/188 [==============================] - 19s 103ms/step - loss: 1.2025 - accuracy: 0.6163 - val_loss: 2.2732 - val_accuracy: 0.3550\n",
            "Epoch 45/100\n",
            "188/188 [==============================] - 20s 104ms/step - loss: 1.0471 - accuracy: 0.6605 - val_loss: 2.2911 - val_accuracy: 0.3700\n",
            "Epoch 46/100\n",
            "188/188 [==============================] - 19s 103ms/step - loss: 0.9634 - accuracy: 0.6959 - val_loss: 2.7718 - val_accuracy: 0.3243\n",
            "Epoch 47/100\n",
            "188/188 [==============================] - 19s 104ms/step - loss: 1.0913 - accuracy: 0.6762 - val_loss: 2.3124 - val_accuracy: 0.3997\n",
            "Epoch 48/100\n",
            "188/188 [==============================] - 20s 104ms/step - loss: 0.9239 - accuracy: 0.7340 - val_loss: 2.5155 - val_accuracy: 0.3190\n",
            "Epoch 49/100\n",
            "188/188 [==============================] - 19s 103ms/step - loss: 2.0724 - accuracy: 0.4242 - val_loss: 2.7440 - val_accuracy: 0.2003\n",
            "Epoch 50/100\n",
            "188/188 [==============================] - 19s 103ms/step - loss: 1.9126 - accuracy: 0.3917 - val_loss: 2.6637 - val_accuracy: 0.2337\n",
            "Epoch 51/100\n",
            "188/188 [==============================] - 19s 102ms/step - loss: 1.7342 - accuracy: 0.4497 - val_loss: 2.6072 - val_accuracy: 0.2537\n",
            "Epoch 52/100\n",
            "188/188 [==============================] - 19s 102ms/step - loss: 1.5988 - accuracy: 0.4993 - val_loss: 2.6527 - val_accuracy: 0.2667\n",
            "Epoch 53/100\n",
            "188/188 [==============================] - 19s 104ms/step - loss: 1.6487 - accuracy: 0.4825 - val_loss: 2.5183 - val_accuracy: 0.2880\n",
            "Epoch 54/100\n",
            "188/188 [==============================] - 20s 105ms/step - loss: 1.5446 - accuracy: 0.5210 - val_loss: 2.5413 - val_accuracy: 0.3103\n",
            "Epoch 55/100\n",
            "188/188 [==============================] - 20s 105ms/step - loss: 1.3889 - accuracy: 0.5679 - val_loss: 2.4963 - val_accuracy: 0.3087\n",
            "Epoch 56/100\n",
            "188/188 [==============================] - 20s 106ms/step - loss: 1.3087 - accuracy: 0.5989 - val_loss: 2.5335 - val_accuracy: 0.3243\n",
            "Epoch 57/100\n",
            "188/188 [==============================] - 19s 104ms/step - loss: 1.2868 - accuracy: 0.6070 - val_loss: 2.4727 - val_accuracy: 0.3260\n",
            "Epoch 58/100\n",
            "188/188 [==============================] - 20s 104ms/step - loss: 1.2243 - accuracy: 0.6256 - val_loss: 2.4404 - val_accuracy: 0.3427\n",
            "Epoch 59/100\n",
            "188/188 [==============================] - 19s 103ms/step - loss: 1.1364 - accuracy: 0.6591 - val_loss: 2.4565 - val_accuracy: 0.3437\n",
            "Epoch 60/100\n",
            "188/188 [==============================] - 20s 108ms/step - loss: 1.1072 - accuracy: 0.6774 - val_loss: 2.4691 - val_accuracy: 0.3633\n",
            "Epoch 61/100\n",
            "188/188 [==============================] - 23s 123ms/step - loss: 1.0409 - accuracy: 0.7021 - val_loss: 2.4790 - val_accuracy: 0.3520\n",
            "Epoch 62/100\n",
            "188/188 [==============================] - 19s 104ms/step - loss: 1.0050 - accuracy: 0.7027 - val_loss: 2.5220 - val_accuracy: 0.3540\n",
            "Epoch 63/100\n",
            "188/188 [==============================] - 19s 103ms/step - loss: 1.0334 - accuracy: 0.6983 - val_loss: 2.5560 - val_accuracy: 0.3687\n",
            "Epoch 64/100\n",
            "188/188 [==============================] - 19s 103ms/step - loss: 1.0696 - accuracy: 0.6882 - val_loss: 2.4506 - val_accuracy: 0.3720\n",
            "Epoch 65/100\n",
            "188/188 [==============================] - 19s 102ms/step - loss: 0.9507 - accuracy: 0.7293 - val_loss: 2.4030 - val_accuracy: 0.3760\n",
            "Epoch 66/100\n",
            "188/188 [==============================] - 19s 103ms/step - loss: 0.8938 - accuracy: 0.7552 - val_loss: 2.4683 - val_accuracy: 0.3713\n",
            "Epoch 67/100\n",
            "188/188 [==============================] - 19s 103ms/step - loss: 0.8208 - accuracy: 0.7771 - val_loss: 2.5123 - val_accuracy: 0.3863\n",
            "Epoch 68/100\n",
            "188/188 [==============================] - 19s 103ms/step - loss: 0.8090 - accuracy: 0.7771 - val_loss: 2.4346 - val_accuracy: 0.3890\n",
            "Epoch 69/100\n",
            "188/188 [==============================] - 20s 105ms/step - loss: 0.7702 - accuracy: 0.7930 - val_loss: 2.4973 - val_accuracy: 0.3987\n",
            "Epoch 70/100\n",
            "188/188 [==============================] - 20s 109ms/step - loss: 0.7397 - accuracy: 0.7985 - val_loss: 2.4762 - val_accuracy: 0.3980\n",
            "Epoch 71/100\n",
            "188/188 [==============================] - 21s 113ms/step - loss: 0.7176 - accuracy: 0.8060 - val_loss: 2.4916 - val_accuracy: 0.3977\n",
            "Epoch 72/100\n",
            "188/188 [==============================] - 20s 107ms/step - loss: 0.6882 - accuracy: 0.8143 - val_loss: 2.4811 - val_accuracy: 0.4020\n",
            "Epoch 73/100\n",
            "188/188 [==============================] - 20s 105ms/step - loss: 0.7085 - accuracy: 0.8040 - val_loss: 2.6157 - val_accuracy: 0.3857\n",
            "Epoch 74/100\n",
            "188/188 [==============================] - 20s 107ms/step - loss: 0.6542 - accuracy: 0.8280 - val_loss: 2.6177 - val_accuracy: 0.3827\n",
            "Epoch 75/100\n",
            "188/188 [==============================] - 20s 105ms/step - loss: 0.7190 - accuracy: 0.8014 - val_loss: 2.4763 - val_accuracy: 0.4193\n",
            "Epoch 76/100\n",
            "188/188 [==============================] - 19s 104ms/step - loss: 0.6007 - accuracy: 0.8441 - val_loss: 2.5041 - val_accuracy: 0.4213\n",
            "Epoch 77/100\n",
            "188/188 [==============================] - 20s 104ms/step - loss: 0.5807 - accuracy: 0.8516 - val_loss: 2.5393 - val_accuracy: 0.4027\n",
            "Epoch 78/100\n",
            "188/188 [==============================] - 19s 103ms/step - loss: 0.5824 - accuracy: 0.8523 - val_loss: 2.5278 - val_accuracy: 0.4250\n",
            "Epoch 79/100\n",
            "188/188 [==============================] - 20s 105ms/step - loss: 0.5376 - accuracy: 0.8683 - val_loss: 2.5581 - val_accuracy: 0.4260\n",
            "Epoch 80/100\n",
            "188/188 [==============================] - 20s 105ms/step - loss: 0.5014 - accuracy: 0.8770 - val_loss: 2.5728 - val_accuracy: 0.4430\n",
            "Epoch 81/100\n",
            "188/188 [==============================] - 20s 105ms/step - loss: 0.4681 - accuracy: 0.8841 - val_loss: 2.6058 - val_accuracy: 0.4423\n",
            "Epoch 82/100\n",
            "188/188 [==============================] - 20s 106ms/step - loss: 0.4582 - accuracy: 0.8927 - val_loss: 2.6270 - val_accuracy: 0.4107\n",
            "Epoch 83/100\n",
            "188/188 [==============================] - 20s 107ms/step - loss: 0.6440 - accuracy: 0.8132 - val_loss: 2.5083 - val_accuracy: 0.4337\n",
            "Epoch 84/100\n",
            "188/188 [==============================] - 20s 106ms/step - loss: 0.5146 - accuracy: 0.8679 - val_loss: 2.5112 - val_accuracy: 0.4530\n",
            "Epoch 85/100\n",
            "188/188 [==============================] - 20s 105ms/step - loss: 0.7410 - accuracy: 0.8103 - val_loss: 2.5551 - val_accuracy: 0.4493\n",
            "Epoch 86/100\n",
            "188/188 [==============================] - 20s 105ms/step - loss: 0.5919 - accuracy: 0.8369 - val_loss: 2.4392 - val_accuracy: 0.4673\n",
            "Epoch 87/100\n",
            "188/188 [==============================] - 20s 104ms/step - loss: 0.4842 - accuracy: 0.8732 - val_loss: 2.4541 - val_accuracy: 0.4423\n",
            "Epoch 88/100\n",
            "188/188 [==============================] - 20s 106ms/step - loss: 0.5179 - accuracy: 0.8572 - val_loss: 2.3817 - val_accuracy: 0.4713\n",
            "Epoch 89/100\n",
            "188/188 [==============================] - 20s 104ms/step - loss: 0.4285 - accuracy: 0.8944 - val_loss: 2.4297 - val_accuracy: 0.4753\n",
            "Epoch 90/100\n",
            "188/188 [==============================] - 20s 105ms/step - loss: 0.3939 - accuracy: 0.9047 - val_loss: 2.4594 - val_accuracy: 0.4773\n",
            "Epoch 91/100\n",
            "188/188 [==============================] - 19s 104ms/step - loss: 0.3541 - accuracy: 0.9175 - val_loss: 2.5021 - val_accuracy: 0.4753\n",
            "Epoch 92/100\n",
            "188/188 [==============================] - 20s 105ms/step - loss: 0.4166 - accuracy: 0.8967 - val_loss: 2.3856 - val_accuracy: 0.4830\n",
            "Epoch 93/100\n",
            "188/188 [==============================] - 19s 104ms/step - loss: 0.4544 - accuracy: 0.8808 - val_loss: 2.4199 - val_accuracy: 0.4860\n",
            "Epoch 94/100\n",
            "188/188 [==============================] - 19s 103ms/step - loss: 0.3443 - accuracy: 0.9205 - val_loss: 2.4630 - val_accuracy: 0.4873\n",
            "Epoch 95/100\n",
            "188/188 [==============================] - 19s 103ms/step - loss: 0.3480 - accuracy: 0.9125 - val_loss: 2.4111 - val_accuracy: 0.4783\n",
            "Epoch 96/100\n",
            "188/188 [==============================] - 19s 104ms/step - loss: 0.4355 - accuracy: 0.8873 - val_loss: 2.8473 - val_accuracy: 0.4087\n",
            "Epoch 97/100\n",
            "188/188 [==============================] - 20s 104ms/step - loss: 1.0088 - accuracy: 0.7363 - val_loss: 2.3563 - val_accuracy: 0.4727\n",
            "Epoch 98/100\n",
            "188/188 [==============================] - 20s 105ms/step - loss: 0.5492 - accuracy: 0.8423 - val_loss: 2.4736 - val_accuracy: 0.4753\n",
            "Epoch 99/100\n",
            "188/188 [==============================] - 20s 107ms/step - loss: 0.4862 - accuracy: 0.8649 - val_loss: 2.4086 - val_accuracy: 0.4850\n",
            "Epoch 100/100\n",
            "188/188 [==============================] - 20s 108ms/step - loss: 0.4007 - accuracy: 0.8993 - val_loss: 2.4602 - val_accuracy: 0.4840\n"
          ],
          "name": "stdout"
        },
        {
          "output_type": "display_data",
          "data": {
            "image/png": "[encoded data removed]",
            "text/plain": [
              "<Figure size 864x360 with 2 Axes>"
            ]
          },
          "metadata": {
            "tags": []
          }
        }
      ]
    },
    {
      "cell_type": "markdown",
      "metadata": {
        "id": "tFq2v1xaCmfJ"
      },
      "source": [
        "# Evaluate with pretrained Embedding"
      ]
    },
    {
      "cell_type": "code",
      "metadata": {
        "id": "87nImL5Z04Wb",
        "colab": {
          "base_uri": "https://localhost:8080/"
        },
        "outputId": "6c97996b-4cf8-4c4c-a202-9cff8ab4c644"
      },
      "source": [
        "!gdown http://nlp.stanford.edu/data/glove.6B.zip"
      ],
      "execution_count": 16,
      "outputs": [
        {
          "output_type": "stream",
          "text": [
            "Downloading...\n",
            "From: http://nlp.stanford.edu/data/glove.6B.zip\n",
            "To: /content/glove.6B.zip\n",
            "100% 862M/862M [02:40<00:00, 5.38MB/s]\n"
          ],
          "name": "stdout"
        }
      ]
    },
    {
      "cell_type": "code",
      "metadata": {
        "id": "ccVXsxKy1TaC",
        "colab": {
          "base_uri": "https://localhost:8080/"
        },
        "outputId": "a7b0cbcb-c63f-49a5-cbc2-79ce769ba83a"
      },
      "source": [
        "!unzip glove.6B.zip"
      ],
      "execution_count": 17,
      "outputs": [
        {
          "output_type": "stream",
          "text": [
            "Archive:  glove.6B.zip\n",
            "  inflating: glove.6B.50d.txt        \n",
            "  inflating: glove.6B.100d.txt       \n",
            "  inflating: glove.6B.200d.txt       \n",
            "  inflating: glove.6B.300d.txt       \n"
          ],
          "name": "stdout"
        }
      ]
    },
    {
      "cell_type": "code",
      "metadata": {
        "id": "UdmXnMguW0g7",
        "colab": {
          "base_uri": "https://localhost:8080/"
        },
        "outputId": "e1eb63bf-d50f-4d73-8fb3-9c74e5bcebd6"
      },
      "source": [
        "import numpy as np\n",
        "\n",
        "embeddings_index = {}\n",
        "\n",
        "f = open(\"glove.6B.100d.txt\", encoding='utf-8') #added , encoding='utf-8'\n",
        "for line in f:\n",
        "    values = line.split()\n",
        "    word = values[0]\n",
        "    coefs = np.asarray(values[1:], dtype=\"float32\")\n",
        "    embeddings_index[word] = coefs\n",
        "f.close()\n",
        "\n",
        "print(\"found %s word vectors.\" % len(embeddings_index))"
      ],
      "execution_count": 18,
      "outputs": [
        {
          "output_type": "stream",
          "text": [
            "found 400000 word vectors.\n"
          ],
          "name": "stdout"
        }
      ]
    },
    {
      "cell_type": "code",
      "metadata": {
        "id": "nbVZ4X2GWvJ3",
        "colab": {
          "base_uri": "https://localhost:8080/"
        },
        "outputId": "ad9c0cbd-3c18-44de-fc17-82d88d3cdc9d"
      },
      "source": [
        "hits = 0\n",
        "misses = 0\n",
        "\n",
        "# Prepare embedding matrix\n",
        "embedding_matrix = np.zeros((num_tokens, embedding_dim))\n",
        "for word, i in word_index.items():\n",
        "    embedding_vector = embeddings_index.get(word)\n",
        "    if embedding_vector is not None:\n",
        "        # Words not found in embedding index will be all-zeros.\n",
        "        # This includes the representation for \"padding\" and \"OOV\"\n",
        "        embedding_matrix[i] = embedding_vector\n",
        "        hits += 1\n",
        "    else:\n",
        "        misses += 1\n",
        "print(\"Converted %d words (%d misses)\" % (hits, misses))\n"
      ],
      "execution_count": 19,
      "outputs": [
        {
          "output_type": "stream",
          "text": [
            "Converted 17912 words (2088 misses)\n"
          ],
          "name": "stdout"
        }
      ]
    },
    {
      "cell_type": "markdown",
      "metadata": {
        "id": "iexRKFopO9mw"
      },
      "source": [
        "## Use embedding_matrix as weights and embedding trainable = False"
      ]
    },
    {
      "cell_type": "code",
      "metadata": {
        "id": "Pzb6Rg_18q-_",
        "colab": {
          "base_uri": "https://localhost:8080/"
        },
        "outputId": "2136ad46-66e5-430c-b08c-574cc8cad2a4"
      },
      "source": [
        "#Implement your model\n",
        "print(embedding_matrix.shape)\n",
        "model = keras.Sequential()\n",
        "model.add(keras.layers.Embedding(20002, 100, input_length=200, trainable=False, weights=[embedding_matrix]))\n",
        "model.add(keras.layers.GRU(30, input_shape=((x_val.shape[1:]))))\n",
        "model.add(keras.layers.Dense(20, activation='softmax'))\n",
        "\n",
        "model.summary()"
      ],
      "execution_count": 25,
      "outputs": [
        {
          "output_type": "stream",
          "text": [
            "(20002, 100)\n",
            "Model: \"sequential_6\"\n",
            "_________________________________________________________________\n",
            "Layer (type)                 Output Shape              Param #   \n",
            "=================================================================\n",
            "embedding_5 (Embedding)      (None, 200, 100)          2000200   \n",
            "_________________________________________________________________\n",
            "gru_3 (GRU)                  (None, 30)                11880     \n",
            "_________________________________________________________________\n",
            "dense_3 (Dense)              (None, 20)                620       \n",
            "=================================================================\n",
            "Total params: 2,012,700\n",
            "Trainable params: 12,500\n",
            "Non-trainable params: 2,000,200\n",
            "_________________________________________________________________\n"
          ],
          "name": "stdout"
        }
      ]
    },
    {
      "cell_type": "code",
      "metadata": {
        "id": "nrcssu1q8q_F",
        "colab": {
          "base_uri": "https://localhost:8080/",
          "height": 1000
        },
        "outputId": "bf03b791-e7be-40ff-b2db-2b2a07baa834"
      },
      "source": [
        "# Compile model\n",
        "model.compile(loss='sparse_categorical_crossentropy',\n",
        "              optimizer='adam',\n",
        "              metrics=['accuracy'])\n",
        "\n",
        "# Fit model (training and validation)\n",
        "history = model.fit(x_train, y_train,\n",
        "                    epochs=100,\n",
        "                    batch_size=64,\n",
        "                    validation_data=(x_val, y_val))\n",
        "\n",
        "# Plot history\n",
        "plot_history(history)"
      ],
      "execution_count": 26,
      "outputs": [
        {
          "output_type": "stream",
          "text": [
            "Epoch 1/100\n",
            "188/188 [==============================] - 20s 98ms/step - loss: 2.9873 - accuracy: 0.0638 - val_loss: 2.8849 - val_accuracy: 0.0930\n",
            "Epoch 2/100\n",
            "188/188 [==============================] - 18s 95ms/step - loss: 2.7663 - accuracy: 0.1209 - val_loss: 2.5486 - val_accuracy: 0.1517\n",
            "Epoch 3/100\n",
            "188/188 [==============================] - 18s 95ms/step - loss: 2.4944 - accuracy: 0.1681 - val_loss: 2.3609 - val_accuracy: 0.1940\n",
            "Epoch 4/100\n",
            "188/188 [==============================] - 18s 96ms/step - loss: 2.3509 - accuracy: 0.2208 - val_loss: 2.2625 - val_accuracy: 0.2470\n",
            "Epoch 5/100\n",
            "188/188 [==============================] - 18s 97ms/step - loss: 2.2159 - accuracy: 0.2546 - val_loss: 2.2637 - val_accuracy: 0.2563\n",
            "Epoch 6/100\n",
            "188/188 [==============================] - 18s 96ms/step - loss: 2.2119 - accuracy: 0.2758 - val_loss: 2.0894 - val_accuracy: 0.2993\n",
            "Epoch 7/100\n",
            "188/188 [==============================] - 18s 96ms/step - loss: 2.0421 - accuracy: 0.3153 - val_loss: 2.0099 - val_accuracy: 0.3100\n",
            "Epoch 8/100\n",
            "188/188 [==============================] - 18s 96ms/step - loss: 1.9949 - accuracy: 0.3295 - val_loss: 1.8998 - val_accuracy: 0.3540\n",
            "Epoch 9/100\n",
            "188/188 [==============================] - 19s 99ms/step - loss: 1.8560 - accuracy: 0.3661 - val_loss: 1.7896 - val_accuracy: 0.3737\n",
            "Epoch 10/100\n",
            "188/188 [==============================] - 18s 97ms/step - loss: 1.8047 - accuracy: 0.3822 - val_loss: 1.7588 - val_accuracy: 0.3823\n",
            "Epoch 11/100\n",
            "188/188 [==============================] - 18s 98ms/step - loss: 1.7086 - accuracy: 0.4027 - val_loss: 1.7224 - val_accuracy: 0.4047\n",
            "Epoch 12/100\n",
            "188/188 [==============================] - 18s 95ms/step - loss: 1.6555 - accuracy: 0.4225 - val_loss: 1.6489 - val_accuracy: 0.4287\n",
            "Epoch 13/100\n",
            "188/188 [==============================] - 18s 95ms/step - loss: 1.5854 - accuracy: 0.4481 - val_loss: 1.5952 - val_accuracy: 0.4447\n",
            "Epoch 14/100\n",
            "188/188 [==============================] - 18s 95ms/step - loss: 1.5316 - accuracy: 0.4609 - val_loss: 1.5323 - val_accuracy: 0.4693\n",
            "Epoch 15/100\n",
            "188/188 [==============================] - 18s 95ms/step - loss: 1.4928 - accuracy: 0.4770 - val_loss: 1.5384 - val_accuracy: 0.4607\n",
            "Epoch 16/100\n",
            "188/188 [==============================] - 18s 96ms/step - loss: 1.4499 - accuracy: 0.4911 - val_loss: 1.4549 - val_accuracy: 0.4867\n",
            "Epoch 17/100\n",
            "188/188 [==============================] - 18s 98ms/step - loss: 1.4045 - accuracy: 0.5008 - val_loss: 1.4298 - val_accuracy: 0.4933\n",
            "Epoch 18/100\n",
            "188/188 [==============================] - 18s 98ms/step - loss: 1.3404 - accuracy: 0.5308 - val_loss: 1.3862 - val_accuracy: 0.5053\n",
            "Epoch 19/100\n",
            "188/188 [==============================] - 18s 97ms/step - loss: 1.3032 - accuracy: 0.5449 - val_loss: 1.3497 - val_accuracy: 0.5310\n",
            "Epoch 20/100\n",
            "188/188 [==============================] - 18s 97ms/step - loss: 1.2498 - accuracy: 0.5754 - val_loss: 1.3315 - val_accuracy: 0.5387\n",
            "Epoch 21/100\n",
            "188/188 [==============================] - 19s 100ms/step - loss: 1.2311 - accuracy: 0.5812 - val_loss: 1.3119 - val_accuracy: 0.5453\n",
            "Epoch 22/100\n",
            "188/188 [==============================] - 21s 112ms/step - loss: 1.2055 - accuracy: 0.5936 - val_loss: 1.2788 - val_accuracy: 0.5600\n",
            "Epoch 23/100\n",
            "188/188 [==============================] - 22s 115ms/step - loss: 1.1502 - accuracy: 0.6095 - val_loss: 1.2498 - val_accuracy: 0.5813\n",
            "Epoch 24/100\n",
            "188/188 [==============================] - 18s 97ms/step - loss: 1.0951 - accuracy: 0.6330 - val_loss: 1.2270 - val_accuracy: 0.5833\n",
            "Epoch 25/100\n",
            "188/188 [==============================] - 18s 97ms/step - loss: 1.0944 - accuracy: 0.6324 - val_loss: 1.2034 - val_accuracy: 0.5950\n",
            "Epoch 26/100\n",
            "188/188 [==============================] - 19s 100ms/step - loss: 1.0457 - accuracy: 0.6525 - val_loss: 1.1999 - val_accuracy: 0.6020\n",
            "Epoch 27/100\n",
            "188/188 [==============================] - 19s 100ms/step - loss: 1.0261 - accuracy: 0.6512 - val_loss: 1.1874 - val_accuracy: 0.5943\n",
            "Epoch 28/100\n",
            "188/188 [==============================] - 20s 104ms/step - loss: 0.9980 - accuracy: 0.6631 - val_loss: 1.1715 - val_accuracy: 0.6140\n",
            "Epoch 29/100\n",
            "188/188 [==============================] - 19s 101ms/step - loss: 0.9516 - accuracy: 0.6780 - val_loss: 1.1549 - val_accuracy: 0.6123\n",
            "Epoch 30/100\n",
            "188/188 [==============================] - 19s 100ms/step - loss: 0.9609 - accuracy: 0.6753 - val_loss: 1.1446 - val_accuracy: 0.6150\n",
            "Epoch 31/100\n",
            "188/188 [==============================] - 19s 100ms/step - loss: 0.9374 - accuracy: 0.6809 - val_loss: 1.1467 - val_accuracy: 0.6153\n",
            "Epoch 32/100\n",
            "188/188 [==============================] - 19s 100ms/step - loss: 0.8949 - accuracy: 0.7058 - val_loss: 1.1413 - val_accuracy: 0.6230\n",
            "Epoch 33/100\n",
            "188/188 [==============================] - 19s 100ms/step - loss: 0.8745 - accuracy: 0.7078 - val_loss: 1.1374 - val_accuracy: 0.6263\n",
            "Epoch 34/100\n",
            "188/188 [==============================] - 19s 99ms/step - loss: 0.8726 - accuracy: 0.7091 - val_loss: 1.1234 - val_accuracy: 0.6293\n",
            "Epoch 35/100\n",
            "188/188 [==============================] - 19s 100ms/step - loss: 0.8290 - accuracy: 0.7316 - val_loss: 1.1568 - val_accuracy: 0.6300\n",
            "Epoch 36/100\n",
            "188/188 [==============================] - 19s 100ms/step - loss: 0.8327 - accuracy: 0.7245 - val_loss: 1.1192 - val_accuracy: 0.6373\n",
            "Epoch 37/100\n",
            "188/188 [==============================] - 19s 102ms/step - loss: 0.8068 - accuracy: 0.7342 - val_loss: 1.1163 - val_accuracy: 0.6443\n",
            "Epoch 38/100\n",
            "188/188 [==============================] - 19s 101ms/step - loss: 0.7965 - accuracy: 0.7434 - val_loss: 1.1017 - val_accuracy: 0.6543\n",
            "Epoch 39/100\n",
            "188/188 [==============================] - 19s 100ms/step - loss: 0.7485 - accuracy: 0.7593 - val_loss: 1.1068 - val_accuracy: 0.6487\n",
            "Epoch 40/100\n",
            "188/188 [==============================] - 19s 100ms/step - loss: 0.7366 - accuracy: 0.7578 - val_loss: 1.0938 - val_accuracy: 0.6527\n",
            "Epoch 41/100\n",
            "188/188 [==============================] - 19s 99ms/step - loss: 0.7274 - accuracy: 0.7687 - val_loss: 1.1097 - val_accuracy: 0.6503\n",
            "Epoch 42/100\n",
            "188/188 [==============================] - 19s 99ms/step - loss: 0.6912 - accuracy: 0.7776 - val_loss: 1.0994 - val_accuracy: 0.6573\n",
            "Epoch 43/100\n",
            "188/188 [==============================] - 18s 97ms/step - loss: 0.7182 - accuracy: 0.7720 - val_loss: 1.1018 - val_accuracy: 0.6583\n",
            "Epoch 44/100\n",
            "188/188 [==============================] - 18s 98ms/step - loss: 0.6887 - accuracy: 0.7803 - val_loss: 1.1087 - val_accuracy: 0.6467\n",
            "Epoch 45/100\n",
            "188/188 [==============================] - 18s 98ms/step - loss: 0.6710 - accuracy: 0.7781 - val_loss: 1.0919 - val_accuracy: 0.6593\n",
            "Epoch 46/100\n",
            "188/188 [==============================] - 19s 98ms/step - loss: 0.6714 - accuracy: 0.7799 - val_loss: 1.0957 - val_accuracy: 0.6600\n",
            "Epoch 47/100\n",
            "188/188 [==============================] - 19s 100ms/step - loss: 0.6333 - accuracy: 0.7988 - val_loss: 1.1106 - val_accuracy: 0.6600\n",
            "Epoch 48/100\n",
            "188/188 [==============================] - 19s 100ms/step - loss: 0.6333 - accuracy: 0.7986 - val_loss: 1.1045 - val_accuracy: 0.6607\n",
            "Epoch 49/100\n",
            "188/188 [==============================] - 19s 99ms/step - loss: 0.6113 - accuracy: 0.7996 - val_loss: 1.1356 - val_accuracy: 0.6553\n",
            "Epoch 50/100\n",
            "188/188 [==============================] - 19s 104ms/step - loss: 0.6140 - accuracy: 0.8073 - val_loss: 1.1438 - val_accuracy: 0.6593\n",
            "Epoch 51/100\n",
            "188/188 [==============================] - 19s 99ms/step - loss: 0.6101 - accuracy: 0.8068 - val_loss: 1.1444 - val_accuracy: 0.6530\n",
            "Epoch 52/100\n",
            "188/188 [==============================] - 19s 99ms/step - loss: 0.5785 - accuracy: 0.8196 - val_loss: 1.1449 - val_accuracy: 0.6593\n",
            "Epoch 53/100\n",
            "188/188 [==============================] - 18s 98ms/step - loss: 0.6645 - accuracy: 0.7991 - val_loss: 1.4044 - val_accuracy: 0.5723\n",
            "Epoch 54/100\n",
            "188/188 [==============================] - 18s 98ms/step - loss: 1.0296 - accuracy: 0.6769 - val_loss: 1.2610 - val_accuracy: 0.6077\n",
            "Epoch 55/100\n",
            "188/188 [==============================] - 24s 130ms/step - loss: 0.8863 - accuracy: 0.7186 - val_loss: 1.2296 - val_accuracy: 0.6190\n",
            "Epoch 56/100\n",
            "188/188 [==============================] - 18s 98ms/step - loss: 0.8107 - accuracy: 0.7484 - val_loss: 1.2173 - val_accuracy: 0.6237\n",
            "Epoch 57/100\n",
            "188/188 [==============================] - 19s 99ms/step - loss: 0.7583 - accuracy: 0.7582 - val_loss: 1.1922 - val_accuracy: 0.6350\n",
            "Epoch 58/100\n",
            "188/188 [==============================] - 18s 98ms/step - loss: 0.7333 - accuracy: 0.7629 - val_loss: 1.1759 - val_accuracy: 0.6400\n",
            "Epoch 59/100\n",
            "188/188 [==============================] - 18s 97ms/step - loss: 0.6856 - accuracy: 0.7769 - val_loss: 1.1763 - val_accuracy: 0.6440\n",
            "Epoch 60/100\n",
            "188/188 [==============================] - 18s 97ms/step - loss: 0.6636 - accuracy: 0.7875 - val_loss: 1.1666 - val_accuracy: 0.6527\n",
            "Epoch 61/100\n",
            "188/188 [==============================] - 18s 97ms/step - loss: 0.6469 - accuracy: 0.7906 - val_loss: 1.1476 - val_accuracy: 0.6537\n",
            "Epoch 62/100\n",
            "188/188 [==============================] - 18s 97ms/step - loss: 0.6354 - accuracy: 0.7928 - val_loss: 1.1518 - val_accuracy: 0.6553\n",
            "Epoch 63/100\n",
            "188/188 [==============================] - 18s 98ms/step - loss: 0.6280 - accuracy: 0.7988 - val_loss: 1.1528 - val_accuracy: 0.6590\n",
            "Epoch 64/100\n",
            "188/188 [==============================] - 19s 99ms/step - loss: 0.6082 - accuracy: 0.8039 - val_loss: 1.1573 - val_accuracy: 0.6620\n",
            "Epoch 65/100\n",
            "188/188 [==============================] - 19s 99ms/step - loss: 0.5888 - accuracy: 0.8100 - val_loss: 1.1584 - val_accuracy: 0.6647\n",
            "Epoch 66/100\n",
            "188/188 [==============================] - 19s 99ms/step - loss: 0.5682 - accuracy: 0.8134 - val_loss: 1.1679 - val_accuracy: 0.6617\n",
            "Epoch 67/100\n",
            "188/188 [==============================] - 18s 98ms/step - loss: 0.5513 - accuracy: 0.8189 - val_loss: 1.1622 - val_accuracy: 0.6660\n",
            "Epoch 68/100\n",
            "188/188 [==============================] - 19s 100ms/step - loss: 0.5552 - accuracy: 0.8198 - val_loss: 1.2023 - val_accuracy: 0.6587\n",
            "Epoch 69/100\n",
            "188/188 [==============================] - 19s 100ms/step - loss: 0.5418 - accuracy: 0.8274 - val_loss: 1.1551 - val_accuracy: 0.6663\n",
            "Epoch 70/100\n",
            "188/188 [==============================] - 19s 100ms/step - loss: 0.5214 - accuracy: 0.8317 - val_loss: 1.1773 - val_accuracy: 0.6683\n",
            "Epoch 71/100\n",
            "188/188 [==============================] - 19s 100ms/step - loss: 0.5241 - accuracy: 0.8322 - val_loss: 1.1840 - val_accuracy: 0.6677\n",
            "Epoch 72/100\n",
            "188/188 [==============================] - 19s 99ms/step - loss: 0.5156 - accuracy: 0.8340 - val_loss: 1.1789 - val_accuracy: 0.6710\n",
            "Epoch 73/100\n",
            "188/188 [==============================] - 19s 99ms/step - loss: 0.5021 - accuracy: 0.8373 - val_loss: 1.1866 - val_accuracy: 0.6657\n",
            "Epoch 74/100\n",
            "188/188 [==============================] - 19s 100ms/step - loss: 0.4995 - accuracy: 0.8404 - val_loss: 1.1938 - val_accuracy: 0.6683\n",
            "Epoch 75/100\n",
            "188/188 [==============================] - 19s 101ms/step - loss: 0.5106 - accuracy: 0.8334 - val_loss: 1.1924 - val_accuracy: 0.6717\n",
            "Epoch 76/100\n",
            "188/188 [==============================] - 19s 100ms/step - loss: 0.5127 - accuracy: 0.8355 - val_loss: 1.1905 - val_accuracy: 0.6680\n",
            "Epoch 77/100\n",
            "188/188 [==============================] - 19s 101ms/step - loss: 0.4935 - accuracy: 0.8369 - val_loss: 1.1861 - val_accuracy: 0.6693\n",
            "Epoch 78/100\n",
            "188/188 [==============================] - 19s 102ms/step - loss: 0.4930 - accuracy: 0.8420 - val_loss: 1.1910 - val_accuracy: 0.6703\n",
            "Epoch 79/100\n",
            "188/188 [==============================] - 19s 102ms/step - loss: 0.4829 - accuracy: 0.8411 - val_loss: 1.2002 - val_accuracy: 0.6700\n",
            "Epoch 80/100\n",
            "188/188 [==============================] - 19s 102ms/step - loss: 0.4666 - accuracy: 0.8513 - val_loss: 1.2311 - val_accuracy: 0.6670\n",
            "Epoch 81/100\n",
            "188/188 [==============================] - 19s 102ms/step - loss: 0.4539 - accuracy: 0.8564 - val_loss: 1.2208 - val_accuracy: 0.6650\n",
            "Epoch 82/100\n",
            "188/188 [==============================] - 19s 102ms/step - loss: 0.4769 - accuracy: 0.8518 - val_loss: 1.2429 - val_accuracy: 0.6690\n",
            "Epoch 83/100\n",
            "188/188 [==============================] - 19s 102ms/step - loss: 0.4412 - accuracy: 0.8601 - val_loss: 1.2468 - val_accuracy: 0.6657\n",
            "Epoch 84/100\n",
            "188/188 [==============================] - 19s 104ms/step - loss: 0.4520 - accuracy: 0.8557 - val_loss: 1.2447 - val_accuracy: 0.6623\n",
            "Epoch 85/100\n",
            "188/188 [==============================] - 19s 103ms/step - loss: 0.5133 - accuracy: 0.8388 - val_loss: 1.2122 - val_accuracy: 0.6713\n",
            "Epoch 86/100\n",
            "188/188 [==============================] - 20s 104ms/step - loss: 0.4570 - accuracy: 0.8557 - val_loss: 1.2404 - val_accuracy: 0.6717\n",
            "Epoch 87/100\n",
            "188/188 [==============================] - 22s 119ms/step - loss: 0.4478 - accuracy: 0.8536 - val_loss: 1.2560 - val_accuracy: 0.6653\n",
            "Epoch 88/100\n",
            "188/188 [==============================] - 21s 112ms/step - loss: 0.4257 - accuracy: 0.8625 - val_loss: 1.2686 - val_accuracy: 0.6657\n",
            "Epoch 89/100\n",
            "188/188 [==============================] - 19s 104ms/step - loss: 0.4363 - accuracy: 0.8523 - val_loss: 1.2574 - val_accuracy: 0.6690\n",
            "Epoch 90/100\n",
            "188/188 [==============================] - 19s 100ms/step - loss: 0.4217 - accuracy: 0.8621 - val_loss: 1.2871 - val_accuracy: 0.6603\n",
            "Epoch 91/100\n",
            "188/188 [==============================] - 19s 99ms/step - loss: 0.4205 - accuracy: 0.8653 - val_loss: 1.2814 - val_accuracy: 0.6647\n",
            "Epoch 92/100\n",
            "188/188 [==============================] - 19s 99ms/step - loss: 0.4284 - accuracy: 0.8588 - val_loss: 1.2611 - val_accuracy: 0.6730\n",
            "Epoch 93/100\n",
            "188/188 [==============================] - 19s 99ms/step - loss: 0.4045 - accuracy: 0.8676 - val_loss: 1.2895 - val_accuracy: 0.6660\n",
            "Epoch 94/100\n",
            "188/188 [==============================] - 19s 99ms/step - loss: 0.4086 - accuracy: 0.8703 - val_loss: 1.3139 - val_accuracy: 0.6637\n",
            "Epoch 95/100\n",
            "188/188 [==============================] - 19s 100ms/step - loss: 0.3799 - accuracy: 0.8782 - val_loss: 1.3036 - val_accuracy: 0.6663\n",
            "Epoch 96/100\n",
            "188/188 [==============================] - 19s 100ms/step - loss: 0.3829 - accuracy: 0.8773 - val_loss: 1.3470 - val_accuracy: 0.6617\n",
            "Epoch 97/100\n",
            "188/188 [==============================] - 19s 99ms/step - loss: 0.4354 - accuracy: 0.8586 - val_loss: 1.2871 - val_accuracy: 0.6603\n",
            "Epoch 98/100\n",
            "188/188 [==============================] - 19s 99ms/step - loss: 0.3868 - accuracy: 0.8750 - val_loss: 1.3092 - val_accuracy: 0.6667\n",
            "Epoch 99/100\n",
            "188/188 [==============================] - 19s 100ms/step - loss: 0.3900 - accuracy: 0.8784 - val_loss: 1.3069 - val_accuracy: 0.6710\n",
            "Epoch 100/100\n",
            "188/188 [==============================] - 19s 100ms/step - loss: 0.3818 - accuracy: 0.8797 - val_loss: 1.3265 - val_accuracy: 0.6643\n"
          ],
          "name": "stdout"
        },
        {
          "output_type": "display_data",
          "data": {
            "image/png": "[encoded data removed]",
            "text/plain": [
              "<Figure size 864x360 with 2 Axes>"
            ]
          },
          "metadata": {
            "tags": []
          }
        }
      ]
    },
    {
      "cell_type": "markdown",
      "metadata": {
        "id": "AUfEN9bdJtcF"
      },
      "source": [
        "## Use embedding_matrix as weights and embedding trainable = True"
      ]
    },
    {
      "cell_type": "code",
      "metadata": {
        "id": "5LiChDWlJtvO",
        "colab": {
          "base_uri": "https://localhost:8080/"
        },
        "outputId": "246476a3-7a03-49a3-da9a-c702e2d0b30e"
      },
      "source": [
        "#Implement your model\n",
        "print(embedding_matrix.shape)\n",
        "model = keras.Sequential()\n",
        "model.add(keras.layers.Embedding(20002, 100, input_length=200, weights=[embedding_matrix]))\n",
        "model.add(keras.layers.GRU(30, input_shape=((x_val.shape[1:]))))\n",
        "model.add(keras.layers.Dense(20, activation='softmax'))\n",
        "\n",
        "model.summary()"
      ],
      "execution_count": 27,
      "outputs": [
        {
          "output_type": "stream",
          "text": [
            "(20002, 100)\n",
            "Model: \"sequential_7\"\n",
            "_________________________________________________________________\n",
            "Layer (type)                 Output Shape              Param #   \n",
            "=================================================================\n",
            "embedding_6 (Embedding)      (None, 200, 100)          2000200   \n",
            "_________________________________________________________________\n",
            "gru_4 (GRU)                  (None, 30)                11880     \n",
            "_________________________________________________________________\n",
            "dense_4 (Dense)              (None, 20)                620       \n",
            "=================================================================\n",
            "Total params: 2,012,700\n",
            "Trainable params: 2,012,700\n",
            "Non-trainable params: 0\n",
            "_________________________________________________________________\n"
          ],
          "name": "stdout"
        }
      ]
    },
    {
      "cell_type": "code",
      "metadata": {
        "id": "la06-IshJtvU",
        "colab": {
          "base_uri": "https://localhost:8080/"
        },
        "outputId": "0c84a46f-b5a7-4e39-eb05-e6a06e1edada"
      },
      "source": [
        "# Compile model\n",
        "model.compile(loss='sparse_categorical_crossentropy',\n",
        "              optimizer='adam',\n",
        "              metrics=['accuracy'])\n",
        "\n",
        "# Fit model (training and validation)\n",
        "history = model.fit(x_train, y_train,\n",
        "                    epochs=100,\n",
        "                    batch_size=64,\n",
        "                    validation_data=(x_val, y_val))\n",
        "\n",
        "# Plot history\n",
        "plot_history(history)"
      ],
      "execution_count": null,
      "outputs": [
        {
          "output_type": "stream",
          "text": [
            "Epoch 1/100\n",
            "188/188 [==============================] - 29s 142ms/step - loss: 2.9734 - accuracy: 0.0667 - val_loss: 2.8919 - val_accuracy: 0.0903\n",
            "Epoch 2/100\n",
            "188/188 [==============================] - 26s 138ms/step - loss: 2.8795 - accuracy: 0.1107 - val_loss: 2.8710 - val_accuracy: 0.1120\n",
            "Epoch 3/100\n",
            "188/188 [==============================] - 26s 139ms/step - loss: 2.8174 - accuracy: 0.1460 - val_loss: 2.7326 - val_accuracy: 0.1453\n",
            "Epoch 4/100\n",
            "188/188 [==============================] - 26s 138ms/step - loss: 2.5666 - accuracy: 0.1996 - val_loss: 2.3830 - val_accuracy: 0.2073\n",
            "Epoch 5/100\n",
            "188/188 [==============================] - 26s 137ms/step - loss: 2.1999 - accuracy: 0.3037 - val_loss: 1.9933 - val_accuracy: 0.3383\n",
            "Epoch 6/100\n",
            "188/188 [==============================] - 26s 137ms/step - loss: 1.8053 - accuracy: 0.4135 - val_loss: 1.7752 - val_accuracy: 0.3927\n",
            "Epoch 7/100\n",
            "188/188 [==============================] - 26s 138ms/step - loss: 1.6036 - accuracy: 0.4821 - val_loss: 1.6686 - val_accuracy: 0.4363\n",
            "Epoch 8/100\n",
            "188/188 [==============================] - 26s 138ms/step - loss: 1.4490 - accuracy: 0.5391 - val_loss: 1.6377 - val_accuracy: 0.4433\n",
            "Epoch 9/100\n",
            "188/188 [==============================] - 26s 138ms/step - loss: 1.3378 - accuracy: 0.5887 - val_loss: 1.5398 - val_accuracy: 0.4863\n",
            "Epoch 10/100\n",
            "188/188 [==============================] - 26s 138ms/step - loss: 1.1986 - accuracy: 0.6387 - val_loss: 1.4414 - val_accuracy: 0.5313\n",
            "Epoch 11/100\n",
            "188/188 [==============================] - 26s 137ms/step - loss: 1.1033 - accuracy: 0.6919 - val_loss: 1.4565 - val_accuracy: 0.5557\n",
            "Epoch 12/100\n",
            "188/188 [==============================] - 26s 137ms/step - loss: 0.9896 - accuracy: 0.7323 - val_loss: 1.2833 - val_accuracy: 0.6127\n",
            "Epoch 13/100\n",
            "188/188 [==============================] - 26s 137ms/step - loss: 0.8071 - accuracy: 0.7800 - val_loss: 1.1900 - val_accuracy: 0.6433\n",
            "Epoch 14/100\n",
            "188/188 [==============================] - 26s 137ms/step - loss: 0.7120 - accuracy: 0.8070 - val_loss: 1.1163 - val_accuracy: 0.6663\n",
            "Epoch 15/100\n",
            "188/188 [==============================] - 26s 140ms/step - loss: 0.5438 - accuracy: 0.8648 - val_loss: 1.0816 - val_accuracy: 0.6833\n",
            "Epoch 16/100\n",
            "188/188 [==============================] - 26s 138ms/step - loss: 0.4650 - accuracy: 0.8852 - val_loss: 1.0580 - val_accuracy: 0.6950\n",
            "Epoch 17/100\n",
            "188/188 [==============================] - 25s 136ms/step - loss: 0.3906 - accuracy: 0.9043 - val_loss: 1.0404 - val_accuracy: 0.7090\n",
            "Epoch 18/100\n",
            "188/188 [==============================] - 26s 138ms/step - loss: 0.3537 - accuracy: 0.9152 - val_loss: 1.1023 - val_accuracy: 0.6890\n",
            "Epoch 19/100\n",
            "188/188 [==============================] - 25s 135ms/step - loss: 0.3559 - accuracy: 0.9138 - val_loss: 1.0411 - val_accuracy: 0.7150\n",
            "Epoch 20/100\n",
            "188/188 [==============================] - 25s 135ms/step - loss: 0.2934 - accuracy: 0.9282 - val_loss: 1.0548 - val_accuracy: 0.7177\n",
            "Epoch 21/100\n",
            "188/188 [==============================] - 25s 135ms/step - loss: 0.2568 - accuracy: 0.9368 - val_loss: 1.0472 - val_accuracy: 0.7223\n",
            "Epoch 22/100\n",
            "188/188 [==============================] - 26s 136ms/step - loss: 0.2188 - accuracy: 0.9426 - val_loss: 1.0780 - val_accuracy: 0.7203\n",
            "Epoch 23/100\n",
            "188/188 [==============================] - 26s 137ms/step - loss: 0.1872 - accuracy: 0.9487 - val_loss: 1.1018 - val_accuracy: 0.7173\n",
            "Epoch 24/100\n",
            "188/188 [==============================] - 26s 139ms/step - loss: 0.1709 - accuracy: 0.9518 - val_loss: 1.1149 - val_accuracy: 0.7207\n",
            "Epoch 25/100\n",
            "188/188 [==============================] - 26s 140ms/step - loss: 0.1466 - accuracy: 0.9592 - val_loss: 1.1349 - val_accuracy: 0.7203\n",
            "Epoch 26/100\n",
            "188/188 [==============================] - 26s 141ms/step - loss: 0.1267 - accuracy: 0.9618 - val_loss: 1.1296 - val_accuracy: 0.7237\n",
            "Epoch 27/100\n",
            "188/188 [==============================] - 27s 142ms/step - loss: 0.1208 - accuracy: 0.9639 - val_loss: 1.1564 - val_accuracy: 0.7247\n",
            "Epoch 28/100\n",
            "188/188 [==============================] - 27s 144ms/step - loss: 0.1259 - accuracy: 0.9629 - val_loss: 1.1652 - val_accuracy: 0.7260\n",
            "Epoch 29/100\n",
            "188/188 [==============================] - 27s 144ms/step - loss: 0.1126 - accuracy: 0.9634 - val_loss: 1.1899 - val_accuracy: 0.7213\n",
            "Epoch 30/100\n",
            "188/188 [==============================] - 26s 139ms/step - loss: 0.1002 - accuracy: 0.9683 - val_loss: 1.2043 - val_accuracy: 0.7260\n",
            "Epoch 31/100\n",
            "188/188 [==============================] - 27s 142ms/step - loss: 0.0857 - accuracy: 0.9714 - val_loss: 1.2354 - val_accuracy: 0.7263\n",
            "Epoch 32/100\n",
            "188/188 [==============================] - 26s 138ms/step - loss: 0.0872 - accuracy: 0.9698 - val_loss: 1.2486 - val_accuracy: 0.7233\n",
            "Epoch 33/100\n",
            "188/188 [==============================] - 26s 138ms/step - loss: 0.0804 - accuracy: 0.9716 - val_loss: 1.2960 - val_accuracy: 0.7153\n",
            "Epoch 34/100\n",
            "188/188 [==============================] - 26s 139ms/step - loss: 0.0775 - accuracy: 0.9716 - val_loss: 1.2722 - val_accuracy: 0.7250\n",
            "Epoch 35/100\n",
            "188/188 [==============================] - 26s 139ms/step - loss: 0.0778 - accuracy: 0.9696 - val_loss: 1.3106 - val_accuracy: 0.7160\n",
            "Epoch 36/100\n",
            "188/188 [==============================] - 26s 141ms/step - loss: 0.0787 - accuracy: 0.9705 - val_loss: 1.2827 - val_accuracy: 0.7243\n",
            "Epoch 37/100\n",
            "188/188 [==============================] - 26s 139ms/step - loss: 0.0688 - accuracy: 0.9723 - val_loss: 1.3033 - val_accuracy: 0.7253\n",
            "Epoch 38/100\n",
            "188/188 [==============================] - 26s 141ms/step - loss: 0.0738 - accuracy: 0.9706 - val_loss: 1.3401 - val_accuracy: 0.7197\n",
            "Epoch 39/100\n",
            "188/188 [==============================] - 27s 144ms/step - loss: 0.0590 - accuracy: 0.9761 - val_loss: 1.3374 - val_accuracy: 0.7263\n",
            "Epoch 40/100\n",
            "188/188 [==============================] - 27s 141ms/step - loss: 0.0563 - accuracy: 0.9768 - val_loss: 1.3335 - val_accuracy: 0.7290\n",
            "Epoch 41/100\n",
            "188/188 [==============================] - 26s 137ms/step - loss: 0.0561 - accuracy: 0.9753 - val_loss: 1.3606 - val_accuracy: 0.7190\n",
            "Epoch 42/100\n",
            "188/188 [==============================] - 26s 137ms/step - loss: 0.0518 - accuracy: 0.9781 - val_loss: 1.3787 - val_accuracy: 0.7230\n",
            "Epoch 43/100\n",
            "188/188 [==============================] - 26s 136ms/step - loss: 0.0536 - accuracy: 0.9780 - val_loss: 1.4113 - val_accuracy: 0.7177\n",
            "Epoch 44/100\n",
            "188/188 [==============================] - 26s 136ms/step - loss: 0.0504 - accuracy: 0.9782 - val_loss: 1.4137 - val_accuracy: 0.7240\n",
            "Epoch 45/100\n",
            "188/188 [==============================] - 26s 138ms/step - loss: 0.0558 - accuracy: 0.9746 - val_loss: 1.4124 - val_accuracy: 0.7223\n",
            "Epoch 46/100\n",
            "188/188 [==============================] - 26s 136ms/step - loss: 0.0485 - accuracy: 0.9754 - val_loss: 1.4122 - val_accuracy: 0.7213\n",
            "Epoch 47/100\n",
            "188/188 [==============================] - 26s 138ms/step - loss: 0.0465 - accuracy: 0.9767 - val_loss: 1.4300 - val_accuracy: 0.7223\n",
            "Epoch 48/100\n",
            "188/188 [==============================] - 26s 139ms/step - loss: 0.0465 - accuracy: 0.9786 - val_loss: 1.4718 - val_accuracy: 0.7080\n",
            "Epoch 49/100\n",
            "188/188 [==============================] - 26s 138ms/step - loss: 0.0626 - accuracy: 0.9748 - val_loss: 1.4354 - val_accuracy: 0.7213\n",
            "Epoch 50/100\n",
            "188/188 [==============================] - 26s 139ms/step - loss: 0.0554 - accuracy: 0.9775 - val_loss: 1.4566 - val_accuracy: 0.7220\n",
            "Epoch 51/100\n",
            "188/188 [==============================] - 26s 140ms/step - loss: 0.0506 - accuracy: 0.9773 - val_loss: 1.4578 - val_accuracy: 0.7197\n",
            "Epoch 52/100\n",
            "188/188 [==============================] - 26s 139ms/step - loss: 0.0430 - accuracy: 0.9774 - val_loss: 1.4512 - val_accuracy: 0.7180\n",
            "Epoch 53/100\n",
            "188/188 [==============================] - 26s 138ms/step - loss: 0.0393 - accuracy: 0.9809 - val_loss: 1.5137 - val_accuracy: 0.7153\n",
            "Epoch 54/100\n",
            "188/188 [==============================] - 26s 138ms/step - loss: 0.0392 - accuracy: 0.9809 - val_loss: 1.5141 - val_accuracy: 0.7170\n",
            "Epoch 55/100\n",
            "188/188 [==============================] - 26s 139ms/step - loss: 0.0429 - accuracy: 0.9764 - val_loss: 1.5101 - val_accuracy: 0.7200\n",
            "Epoch 56/100\n",
            "188/188 [==============================] - 26s 140ms/step - loss: 0.0431 - accuracy: 0.9797 - val_loss: 1.5042 - val_accuracy: 0.7187\n",
            "Epoch 57/100\n",
            "188/188 [==============================] - 26s 139ms/step - loss: 0.0415 - accuracy: 0.9768 - val_loss: 1.5343 - val_accuracy: 0.7157\n",
            "Epoch 58/100\n",
            "188/188 [==============================] - 26s 140ms/step - loss: 0.0364 - accuracy: 0.9812 - val_loss: 1.5476 - val_accuracy: 0.7180\n",
            "Epoch 59/100\n",
            "188/188 [==============================] - 31s 164ms/step - loss: 0.0439 - accuracy: 0.9778 - val_loss: 1.5588 - val_accuracy: 0.7207\n",
            "Epoch 60/100\n",
            "188/188 [==============================] - 26s 140ms/step - loss: 0.0391 - accuracy: 0.9792 - val_loss: 1.5667 - val_accuracy: 0.7210\n",
            "Epoch 61/100\n",
            "188/188 [==============================] - 26s 141ms/step - loss: 0.0488 - accuracy: 0.9755 - val_loss: 1.5075 - val_accuracy: 0.7163\n",
            "Epoch 62/100\n",
            "188/188 [==============================] - 26s 141ms/step - loss: 0.0461 - accuracy: 0.9785 - val_loss: 1.5312 - val_accuracy: 0.7203\n",
            "Epoch 63/100\n",
            "188/188 [==============================] - 26s 141ms/step - loss: 0.0383 - accuracy: 0.9791 - val_loss: 1.5564 - val_accuracy: 0.7153\n",
            "Epoch 64/100\n",
            "188/188 [==============================] - 26s 140ms/step - loss: 0.0366 - accuracy: 0.9812 - val_loss: 1.5547 - val_accuracy: 0.7210\n",
            "Epoch 65/100\n",
            "188/188 [==============================] - 26s 139ms/step - loss: 0.0378 - accuracy: 0.9786 - val_loss: 1.5759 - val_accuracy: 0.7230\n",
            "Epoch 66/100\n",
            "170/188 [==========================>...] - ETA: 2s - loss: 0.0337 - accuracy: 0.9806"
          ],
          "name": "stdout"
        }
      ]
    }
  ]
}