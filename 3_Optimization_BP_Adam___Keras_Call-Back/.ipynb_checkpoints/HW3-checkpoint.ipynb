{
 "cells": [
  {
   "cell_type": "markdown",
   "metadata": {
    "id": "9DGZ7qMLPM_J"
   },
   "source": [
    "## Import some prerequirement"
   ]
  },
  {
   "cell_type": "code",
   "execution_count": 48,
   "metadata": {
    "id": "uqz_Q2yROq1g"
   },
   "outputs": [],
   "source": [
    "import os\n",
    "import cv2\n",
    "import numpy as np\n",
    "import tensorflow as tf\n",
    "import matplotlib.pyplot as plt\n",
    "from tensorflow import keras"
   ]
  },
  {
   "cell_type": "markdown",
   "metadata": {
    "id": "Da_-mxp7QdjB"
   },
   "source": [
    "## Set hyperparameters"
   ]
  },
  {
   "cell_type": "code",
   "execution_count": 49,
   "metadata": {
    "id": "zRlfdCizMcHG"
   },
   "outputs": [],
   "source": [
    "IMG_WIDTH = None\n",
    "IMG_HEIGHT = None\n",
    "EPOCHS = None\n",
    "BATCH_SIZE= None\n",
    "n_classes = None"
   ]
  },
  {
   "cell_type": "markdown",
   "metadata": {
    "id": "pVp5VcJvc1C2"
   },
   "source": [
    "## Initialize train and test data"
   ]
  },
  {
   "cell_type": "code",
   "execution_count": 50,
   "metadata": {
    "id": "5x_C3sDuQmlt"
   },
   "outputs": [],
   "source": [
    "data = np.load('mnist.npz')\n",
    "[x_train, y_train, x_test, y_test] = data['x_train'], data['y_train'], data['x_test'], data['y_test']"
   ]
  },
  {
   "cell_type": "markdown",
   "metadata": {
    "id": "omseU3OQQs4K"
   },
   "source": [
    "## Show dataset"
   ]
  },
  {
   "cell_type": "markdown",
   "metadata": {
    "id": "VazcvGGRHjZu"
   },
   "source": [
    "## Define model"
   ]
  },
  {
   "cell_type": "code",
   "execution_count": 51,
   "metadata": {
    "id": "y1XvM-DaPYOG"
   },
   "outputs": [
    {
     "data": {
      "image/png": "[encoded data removed]",
      "text/plain": [
       "<Figure size 1800x288 with 8 Axes>"
      ]
     },
     "metadata": {},
     "output_type": "display_data"
    }
   ],
   "source": [
    "plt.figure(figsize=(25,4))\n",
    "for i in range(8):\n",
    "    plt.subplot(1,8,i+1)\n",
    "    plt.imshow(x_train[i], cmap='gray')\n",
    "    plt.xticks([])\n",
    "    plt.yticks([])\n",
    "    plt.title(y_train[i])\n",
    "x_train = x_train.astype(float) / 255.\n",
    "x_test  = x_test.astype(float) / 255."
   ]
  },
  {
   "cell_type": "code",
   "execution_count": 52,
   "metadata": {
    "id": "1TCJHBSUsLSS"
   },
   "outputs": [],
   "source": [
    "def build_model():\n",
    "    model = keras.Sequential()\n",
    "    model.add(keras.layers.Input(shape=x_train[0].shape))\n",
    "    model.add(keras.layers.Flatten())\n",
    "    model.add(keras.layers.Dense(units=512, activation='relu'))\n",
    "    model.add(keras.layers.Dense(units=512, activation='relu'))\n",
    "    model.add(keras.layers.Dense(units=10))\n",
    "\n",
    "    return model\n"
   ]
  },
  {
   "cell_type": "markdown",
   "metadata": {
    "id": "X1QKfUHLKsJ5"
   },
   "source": [
    "## Compile and fit model"
   ]
  },
  {
   "cell_type": "code",
   "execution_count": 53,
   "metadata": {
    "id": "1yaeMNzsKxuz",
    "scrolled": true
   },
   "outputs": [
    {
     "name": "stdout",
     "output_type": "stream",
     "text": [
      "adam accuracy = 93.92 %\n",
      "Adagrad accuracy = 53.71 %\n",
      "accuracy RMSprop= 93.16 %\n"
     ]
    }
   ],
   "source": [
    "# Compile model\n",
    "\n",
    "# compile model\n",
    "\n",
    "\n",
    "model_adam = build_model()\n",
    "model_adam.compile(loss='mse', optimizer='adam')\n",
    "# Fit model\n",
    "history = model_adam.fit(x_train, y_train,\n",
    "                    validation_data=(x_test, y_test),\n",
    "                    batch_size=100,\n",
    "                    epochs=20,\n",
    "                    verbose=0,\n",
    "                    shuffle=True)\n",
    "y_pred_adam = model_adam.predict(x_test)\n",
    "np.set_printoptions(precision=2, linewidth=200)\n",
    "accuracy_adam = np.average(np.round(y_pred_adam[:, 0]) == y_test) * 100\n",
    "print('adam accuracy = {} %'.format(accuracy_adam))\n",
    "\n",
    "\n",
    "\n",
    "model_Adagrad = build_model()\n",
    "model_Adagrad.compile(loss='mse', optimizer='Adagrad')\n",
    "# Fit model\n",
    "history = model_Adagrad.fit(x_train, y_train,\n",
    "                    validation_data=(x_test, y_test),\n",
    "                    batch_size=100,\n",
    "                    epochs=20,\n",
    "                    verbose=0,\n",
    "                    shuffle=True)\n",
    "y_pred_Adagrad = model_Adagrad.predict(x_test)\n",
    "np.set_printoptions(precision=2, linewidth=200)\n",
    "accuracy_Adagrad = np.average(np.round(y_pred_Adagrad[:, 0]) == y_test) * 100\n",
    "print('Adagrad accuracy = {} %'.format(accuracy_Adagrad))\n",
    "\n",
    "\n",
    "\n",
    "model_RMSprop = build_model()\n",
    "model_RMSprop.compile(loss='mse', optimizer='RMSprop')\n",
    "# Fit model\n",
    "history = model_RMSprop.fit(x_train, y_train,\n",
    "                    validation_data=(x_test, y_test),\n",
    "                    batch_size=100,\n",
    "                    epochs=20,\n",
    "                    verbose=0,\n",
    "                    shuffle=True)\n",
    "y_pred_RMSprop = model_RMSprop.predict(x_test)\n",
    "np.set_printoptions(precision=2, linewidth=200)\n",
    "accuracy_RMSprop = np.average(np.round(y_pred_RMSprop[:, 0]) == y_test) * 100\n",
    "print('accuracy RMSprop= {} %'.format(accuracy_RMSprop))\n"
   ]
  },
  {
   "cell_type": "markdown",
   "metadata": {
    "id": "y6hFEj66HnQL"
   },
   "source": [
    "## Load and compile best model"
   ]
  },
  {
   "cell_type": "code",
   "execution_count": 55,
   "metadata": {
    "id": "WGMIz6WGHiNM"
   },
   "outputs": [
    {
     "name": "stdout",
     "output_type": "stream",
     "text": [
      "WARNING:tensorflow:Callbacks method `on_train_batch_end` is slow compared to the batch time (batch time: 0.0040s vs `on_train_batch_end` time: 0.0164s). Check your callbacks.\n",
      "adam accuracy = 94.71000000000001 %\n"
     ]
    }
   ],
   "source": [
    "from time import time\n",
    "from tensorflow.keras.callbacks import TensorBoard\n",
    "model = None\n",
    "if accuracy_RMSprop<accuracy_adam and accuracy_adam> accuracy_Adagrad:\n",
    "\n",
    "    model_adam = build_model()\n",
    "    model_adam.compile(loss='mse', optimizer='adam')\n",
    "    # Fit model\n",
    "    tensorboard = TensorBoard(log_dir='logs/{}'.format(time()))\n",
    "\n",
    "    my_callbacks = [\n",
    "        tensorboard,\n",
    "    ]\n",
    "\n",
    "    history = model_adam.fit(x_train, y_train,\n",
    "                        validation_data=(x_test, y_test),\n",
    "                        batch_size=100,\n",
    "                        epochs=20,\n",
    "                        verbose=0,\n",
    "                        shuffle=True,\n",
    "                        callbacks=my_callbacks)\n",
    "    y_pred_adam = model_adam.predict(x_test)\n",
    "    np.set_printoptions(precision=2, linewidth=200)\n",
    "    accuracy_adam = np.average(np.round(y_pred_adam[:, 0]) == y_test) * 100\n",
    "    print('adam accuracy = {} %'.format(accuracy_adam))\n",
    "    model = model_adam\n",
    "    \n",
    "elif accuracy_RMSprop>accuracy_Adagrad:\n",
    "    model_RMSprop = build_model()\n",
    "    model_RMSprop.compile(loss='mse', optimizer='RMSprop')\n",
    "    # Fit model\n",
    "    tensorboard = TensorBoard(log_dir='logs/{}'.format(time()))\n",
    "    my_callbacks = [\n",
    "        tensorboard,\n",
    "    ]\n",
    "    history = model_RMSprop.fit(x_train, y_train,\n",
    "                        validation_data=(x_test, y_test),\n",
    "                        batch_size=100,\n",
    "                        epochs=20,\n",
    "                        verbose=0,\n",
    "                        shuffle=True,\n",
    "                        callbacks=my_callbacks)\n",
    "    y_pred_RMSprop = model_RMSprop.predict(x_test)\n",
    "    np.set_printoptions(precision=2, linewidth=200)\n",
    "    accuracy_RMSprop = np.average(np.round(y_pred_RMSprop[:, 0]) == y_test) * 100\n",
    "    print('accuracy RMSprop= {} %'.format(accuracy_RMSprop))\n",
    "    model = model_RMSprop\n",
    "   \n",
    "else:\n",
    "    model_Adagrad = build_model()\n",
    "    model_Adagrad.compile(loss='mse', optimizer='Adagrad')\n",
    "    # Fit model\n",
    "    tensorboard = TensorBoard(log_dir='logs/{}'.format(time()))\n",
    "    \n",
    "    history = model_Adagrad.fit(x_train, y_train,\n",
    "                        validation_data=(x_test, y_test),\n",
    "                        batch_size=100,\n",
    "                        epochs=20,\n",
    "                        verbose=0,\n",
    "                        shuffle=True,\n",
    "                        callbacks=my_callbacks)\n",
    "    y_pred_Adagrad = model_Adagrad.predict(x_test)\n",
    "    np.set_printoptions(precision=2, linewidth=200)\n",
    "    accuracy_Adagrad = np.average(np.round(y_pred_Adagrad[:, 0]) == y_test) * 100\n",
    "    print('Adagrad accuracy = {} %'.format(accuracy_Adagrad))\n",
    "    model=model_Adagrad\n",
    "    \n",
    "\n",
    "# compile best model\n"
   ]
  },
  {
   "cell_type": "markdown",
   "metadata": {
    "id": "Ya1E9pHzLOBG"
   },
   "source": [
    "## Evaluate best model"
   ]
  },
  {
   "cell_type": "code",
   "execution_count": 56,
   "metadata": {
    "id": "1iJYPtFXHMFb"
   },
   "outputs": [
    {
     "name": "stdout",
     "output_type": "stream",
     "text": [
      "The tensorboard extension is already loaded. To reload it, use:\n",
      "  %reload_ext tensorboard\n"
     ]
    },
    {
     "data": {
      "text/plain": [
       "Reusing TensorBoard on port 6006 (pid 176218), started 0:33:39 ago. (Use '!kill 176218' to kill it.)"
      ]
     },
     "metadata": {},
     "output_type": "display_data"
    },
    {
     "data": {
      "text/html": [
       "\n",
       "      <iframe id=\"tensorboard-frame-e44245b663462b3b\" width=\"100%\" height=\"800\" frameborder=\"0\">\n",
       "      </iframe>\n",
       "      <script>\n",
       "        (function() {\n",
       "          const frame = document.getElementById(\"tensorboard-frame-e44245b663462b3b\");\n",
       "          const url = new URL(\"/\", window.location);\n",
       "          const port = 6006;\n",
       "          if (port) {\n",
       "            url.port = port;\n",
       "          }\n",
       "          frame.src = url;\n",
       "        })();\n",
       "      </script>\n",
       "    "
      ],
      "text/plain": [
       "<IPython.core.display.HTML object>"
      ]
     },
     "metadata": {},
     "output_type": "display_data"
    }
   ],
   "source": [
    "# evaluate best model\n",
    "%load_ext tensorboard\n",
    "%tensorboard --logdir logs"
   ]
  },
  {
   "cell_type": "markdown",
   "metadata": {
    "id": "J8gdZX4QIN3i"
   },
   "source": [
    "## Get Reports"
   ]
  },
  {
   "cell_type": "code",
   "execution_count": 59,
   "metadata": {
    "id": "_rXoX8ybIQnQ"
   },
   "outputs": [
    {
     "name": "stdout",
     "output_type": "stream",
     "text": [
      "Saved model to disk\n"
     ]
    }
   ],
   "source": [
    "# get report of metrics\n",
    "from sklearn.metrics import classification_report, confusion_matrix\n",
    "# serialize model to JSON\n",
    "model_json = model.to_json()\n",
    "with open(\"./model/model.json\", \"w\") as json_file:\n",
    "    json_file.write(model_json)\n",
    "\n",
    "# serialize weights to HDF5\n",
    "model.save_weights(\"./model/model.h5\")\n",
    "print(\"Saved model to disk\")"
   ]
  },
  {
   "cell_type": "code",
   "execution_count": null,
   "metadata": {},
   "outputs": [],
   "source": []
  }
 ],
 "metadata": {
  "accelerator": "GPU",
  "colab": {
   "name": "HW3",
   "provenance": [],
   "toc_visible": true
  },
  "kernelspec": {
   "display_name": "Python 3",
   "language": "python",
   "name": "python3"
  },
  "language_info": {
   "codemirror_mode": {
    "name": "ipython",
    "version": 3
   },
   "file_extension": ".py",
   "mimetype": "text/x-python",
   "name": "python",
   "nbconvert_exporter": "python",
   "pygments_lexer": "ipython3",
   "version": "3.8.8"
  }
 },
 "nbformat": 4,
 "nbformat_minor": 1
}
