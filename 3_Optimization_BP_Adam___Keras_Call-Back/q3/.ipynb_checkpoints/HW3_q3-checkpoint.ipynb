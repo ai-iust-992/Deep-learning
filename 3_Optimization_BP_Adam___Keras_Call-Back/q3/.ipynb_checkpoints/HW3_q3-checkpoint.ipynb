{
 "cells": [
  {
   "cell_type": "code",
   "execution_count": 23,
   "metadata": {
    "id": "2V_QEWZTfVqY"
   },
   "outputs": [],
   "source": [
    "import numpy as np"
   ]
  },
  {
   "cell_type": "code",
   "execution_count": 24,
   "metadata": {
    "colab": {
     "base_uri": "https://localhost:8080/"
    },
    "id": "-Go1z8V0fXHY",
    "outputId": "541f19ce-dbef-4828-c4cb-947f50486398"
   },
   "outputs": [
    {
     "name": "stdout",
     "output_type": "stream",
     "text": [
      "z = [7]\n",
      "sigmoid z = [0.99908895]\n",
      "delta(db) = [-1.65851619e-06]\n",
      "dw(db*x1) = [-0.0054663  0.0018221]\n",
      "w = [2.00000005 0.99999998]\n",
      "b = [2.00000002]\n",
      "-------------------------------\n",
      "z = [2.0000001]\n",
      "sigmoid z = [0.88079709]\n",
      "delta(db) = [0.18495607]\n",
      "dw(db*x1) = [-0.0054663  0.0018221]\n",
      "w = [1.99815049 1.0036991 ]\n",
      "b = [1.99815046]\n",
      "-------------------------------\n",
      "z = [6.98890282]\n",
      "sigmoid z = [0.99907879]\n",
      "delta(db) = [-1.6956857e-06]\n",
      "dw(db*x1) = [-0.0054663  0.0018221]\n",
      "w = [1.99815054 1.00369909]\n",
      "b = [1.99815047]\n",
      "-------------------------------\n",
      "z = [1.98890284]\n",
      "sigmoid z = [0.87962701]\n",
      "delta(db) = [0.18627567]\n",
      "dw(db*x1) = [-0.0054663  0.0018221]\n",
      "w = [1.99628778 1.0074246 ]\n",
      "b = [1.99628772]\n",
      "-------------------------------\n"
     ]
    }
   ],
   "source": [
    "\n",
    "def sigmoid(Z):\n",
    "    A = 1 / (1 + np.exp(-Z))    \n",
    "    return A\n",
    "\n",
    "w = np.array([2,1])\n",
    "b= np.array([2])\n",
    "\n",
    "x1 = np.array([3, -1])\n",
    "y1 = np.array([1])\n",
    "\n",
    "z = np.dot(w, x1) + b\n",
    "print('z = {}'.format(z))\n",
    "\n",
    "sig_z = sigmoid(z)\n",
    "print('sigmoid z = {}'.format(sig_z))\n",
    "delta = -2* (y1 - sig_z)*sig_z*(1 - sig_z)\n",
    "print('delta(db) = {}'.format(delta))\n",
    "\n",
    "dw = delta*x1\n",
    "print('dw(db*x1) = {}'.format(dx))\n",
    "w = w - 0.01*dw\n",
    "b = b - 0.01*delta\n",
    "print('w = {}'.format(w))\n",
    "print('b = {}'.format(b))\n",
    "print(\"-------------------------------\")\n",
    "\n",
    "x1 = np.array([1, -2])\n",
    "y1 = np.array([0])\n",
    "\n",
    "z = np.dot(w, x1) + b\n",
    "print('z = {}'.format(z))\n",
    "\n",
    "sig_z = sigmoid(z)\n",
    "print('sigmoid z = {}'.format(sig_z))\n",
    "delta = -2* (y1 - sig_z)*sig_z*(1 - sig_z)\n",
    "print('delta(db) = {}'.format(delta))\n",
    "\n",
    "dw = delta*x1\n",
    "print('dw(db*x1) = {}'.format(dx))\n",
    "w = w - 0.01*dw\n",
    "b = b - 0.01*delta\n",
    "print('w = {}'.format(w))\n",
    "print('b = {}'.format(b))\n",
    "print(\"-------------------------------\")\n",
    "\n",
    "x1 = np.array([3, -1])\n",
    "y1 = np.array([1])\n",
    "\n",
    "z = np.dot(w, x1) + b\n",
    "print('z = {}'.format(z))\n",
    "\n",
    "sig_z = sigmoid(z)\n",
    "print('sigmoid z = {}'.format(sig_z))\n",
    "delta = -2* (y1 - sig_z)*sig_z*(1 - sig_z)\n",
    "print('delta(db) = {}'.format(delta))\n",
    "\n",
    "dw = delta*x1\n",
    "print('dw(db*x1) = {}'.format(dx))\n",
    "w = w - 0.01*dw\n",
    "b = b - 0.01*delta\n",
    "print('w = {}'.format(w))\n",
    "print('b = {}'.format(b))\n",
    "print(\"-------------------------------\")\n",
    "\n",
    "x1 = np.array([1, -2])\n",
    "y1 = np.array([0])\n",
    "\n",
    "z = np.dot(w, x1) + b\n",
    "print('z = {}'.format(z))\n",
    "\n",
    "sig_z = sigmoid(z)\n",
    "print('sigmoid z = {}'.format(sig_z))\n",
    "delta = -2* (y1 - sig_z)*sig_z*(1 - sig_z)\n",
    "print('delta(db) = {}'.format(delta))\n",
    "\n",
    "dw = delta*x1\n",
    "print('dw(db*x1) = {}'.format(dx))\n",
    "w = w - 0.01*dw\n",
    "b = b - 0.01*delta\n",
    "print('w = {}'.format(w))\n",
    "print('b = {}'.format(b))\n",
    "print(\"-------------------------------\")"
   ]
  }
 ],
 "metadata": {
  "colab": {
   "collapsed_sections": [],
   "name": "HW3_q3.ipynb",
   "provenance": []
  },
  "kernelspec": {
   "display_name": "Python 3",
   "language": "python",
   "name": "python3"
  },
  "language_info": {
   "codemirror_mode": {
    "name": "ipython",
    "version": 3
   },
   "file_extension": ".py",
   "mimetype": "text/x-python",
   "name": "python",
   "nbconvert_exporter": "python",
   "pygments_lexer": "ipython3",
   "version": "3.8.8"
  }
 },
 "nbformat": 4,
 "nbformat_minor": 1
}
