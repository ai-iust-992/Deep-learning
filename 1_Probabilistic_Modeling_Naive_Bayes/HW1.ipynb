{
 "cells": [
  {
   "cell_type": "code",
   "execution_count": 1,
   "metadata": {
    "id": "xygDz0hiAXeV"
   },
   "outputs": [],
   "source": [
    "import numpy as np"
   ]
  },
  {
   "cell_type": "code",
   "execution_count": 7,
   "metadata": {
    "id": "wV8OwIF7Dik8"
   },
   "outputs": [],
   "source": [
    "def printGame(gameBoard,level):\n",
    "  print(\"__Level{}___\\n\".format(level))\n",
    "  print('\\n'.join([''.join(['{:3}'.format(item) for item in row]) \n",
    "      for row in gameBoard]))\n",
    "  print('\\n')"
   ]
  },
  {
   "cell_type": "code",
   "execution_count": 8,
   "metadata": {
    "id": "JOhM8INj3-aK"
   },
   "outputs": [],
   "source": [
    "def legal_moves(board):\n",
    "    \"\"\"Create list of legal moves.\"\"\"\n",
    "    moves = []\n",
    "    for i in range(len(board)):\n",
    "        for j in range(len(board)):\n",
    "            if board[i][j]==-1:\n",
    "                moves.append((i, j))\n",
    "    \n",
    "\n",
    "    return moves\n",
    "\n",
    "def TicTacToe(gameBoard):\n",
    "    \"\"\"\n",
    "    ** YOU CODE SHOULDE PLAY AS PLAYER1\n",
    "    gameBoard: 2D numpy array\n",
    "    -1: empty cell\n",
    "    0:  player0 marble is placed \n",
    "    1:  player1 marble is placed\n",
    "\n",
    "    Number of each cell..\n",
    "    -------------\n",
    "    | 0 | 1 | 2 |\n",
    "    | 3 | 4 | 5 |\n",
    "    | 6 | 7 | 8 |\n",
    "    -------------\n",
    "    output: Number of the cell that you're going to place your marble. \n",
    "    \"\"\"\n",
    "    board = gameBoard[:]\n",
    "\n",
    "     # if computer can win, take that move\n",
    "    for move in legal_moves(board):\n",
    "        board[move[0]][move[1]] = 1\n",
    "        if checkWin(board) == 1:\n",
    "            return move[1]+move[0]*3 \n",
    "        # done checking this move, undo it\n",
    "        board[move] = -1\n",
    "\n",
    "    # if human can win, block that move\n",
    "    for move in legal_moves(board):\n",
    "        board[move[0]][move[1]]  = 0\n",
    "        if checkWin(board) == 0:\n",
    "            print(move)\n",
    "            move[1]+move[0]*3\n",
    "            return move[1]+move[0]*3\n",
    "        # done checking this move, undo it\n",
    "        board[move] = -1\n",
    "    if (1,1) in legal_moves(board):\n",
    "        return 4\n",
    "    import random\n",
    "    cellNum = random.choice ([i[1]+i[0]*3 for i in legal_moves(board)])\n",
    "    return cellNum\n"
   ]
  },
  {
   "cell_type": "markdown",
   "metadata": {
    "id": "BmdQaNYYV0Wi"
   },
   "source": [
    "#Q2"
   ]
  },
  {
   "cell_type": "code",
   "execution_count": 9,
   "metadata": {
    "id": "55aW4k1a8y65"
   },
   "outputs": [],
   "source": [
    "def row_win(board, player): \n",
    "    for x in range(len(board)): \n",
    "        win = True\n",
    "          \n",
    "        for y in range(len(board)): \n",
    "            if board[x, y] != player: \n",
    "                win = False\n",
    "                continue\n",
    "                  \n",
    "        if win == True: \n",
    "            return(win) \n",
    "    return(win) \n",
    "  \n",
    "# Checks whether the player has three \n",
    "# of their marks in a vertical row \n",
    "def col_win(board, player): \n",
    "    for x in range(len(board)): \n",
    "        win = True\n",
    "          \n",
    "        for y in range(len(board)): \n",
    "            if board[y][x] != player: \n",
    "                win = False\n",
    "                continue\n",
    "                  \n",
    "        if win == True: \n",
    "            return(win) \n",
    "    return(win) \n",
    "  \n",
    "# Checks whether the player has three \n",
    "# of their marks in a diagonal row \n",
    "def diag_win(board, player): \n",
    "    win = True\n",
    "    y = 0\n",
    "    for x in range(len(board)): \n",
    "        if board[x, x] != player: \n",
    "            win = False\n",
    "    if win: \n",
    "        return win \n",
    "    win = True\n",
    "    if win: \n",
    "        for x in range(len(board)): \n",
    "            y = len(board) - 1 - x \n",
    "            if board[x, y] != player: \n",
    "                win = False\n",
    "    return win \n",
    "def checkWin(gameBoard):\n",
    "    \"\"\"\n",
    "    gameBoard: 2D numpy array\n",
    "    -1: empty cell\n",
    "    0:  player0 marble is placed \n",
    "    1:  player1 marble is placed\n",
    "    \n",
    "    isWin: It should shows that if the game has a winner.\n",
    "    winner: Acceptable values={0,1}. It should be equal to the winner id.\n",
    "    \"\"\"\n",
    "\n",
    "    isWin = False\n",
    "    winner = -1\n",
    "    if row_win(gameBoard, 0) or col_win(gameBoard, 0) or diag_win(gameBoard, 0):\n",
    "        winner = 0\n",
    "        isWin = True\n",
    "    elif row_win(gameBoard, 1) or col_win(gameBoard, 1) or diag_win(gameBoard, 1):\n",
    "        winner = 1\n",
    "        isWin = True\n",
    "        \n",
    "\n",
    "    #Write your code here\n",
    "\n",
    "    if isWin:\n",
    "        print(\"Winner Player is...{}\".format(winner))\n",
    "    return winner\n"
   ]
  },
  {
   "cell_type": "code",
   "execution_count": 13,
   "metadata": {
    "id": "WoAk7-DHARKA"
   },
   "outputs": [
    {
     "name": "stdout",
     "output_type": "stream",
     "text": [
      "4\n",
      "__Level1___\n",
      "\n",
      " -1 -1 -1\n",
      " -1  0 -1\n",
      " -1 -1 -1\n",
      "\n",
      "\n",
      "__Level2___\n",
      "\n",
      " -1 -1 -1\n",
      " -1  0  1\n",
      " -1 -1 -1\n",
      "\n",
      "\n",
      "0\n",
      "__Level3___\n",
      "\n",
      "  0 -1 -1\n",
      " -1  0  1\n",
      " -1 -1 -1\n",
      "\n",
      "\n",
      "Winner Player is...0\n",
      "(2, 2)\n",
      "__Level4___\n",
      "\n",
      "  0 -1 -1\n",
      " -1  0  1\n",
      " -1 -1  1\n",
      "\n",
      "\n",
      "2\n",
      "__Level5___\n",
      "\n",
      "  0 -1  0\n",
      " -1  0  1\n",
      " -1 -1  1\n",
      "\n",
      "\n",
      "Winner Player is...0\n",
      "(0, 1)\n",
      "__Level6___\n",
      "\n",
      "  0  1  0\n",
      " -1  0  1\n",
      " -1 -1  1\n",
      "\n",
      "\n",
      "6\n",
      "__Level7___\n",
      "\n",
      "  0  1  0\n",
      " -1  0  1\n",
      "  0 -1  1\n",
      "\n",
      "\n",
      "Winner Player is...0\n",
      "Winner Player is...0\n",
      "Winner Player is...0\n",
      "(1, 0)\n",
      "__Level8___\n",
      "\n",
      "  0  1  0\n",
      "  1  0  1\n",
      "  0 -1  1\n",
      "\n",
      "\n",
      "Winner Player is...0\n",
      "Game Is Done...!!\n"
     ]
    }
   ],
   "source": [
    "\n",
    "gameBoard = np.ones(9,dtype=int).reshape((3,3))*-1\n",
    "winner = -1\n",
    "level =1\n",
    "while -1 in gameBoard and winner == -1:\n",
    "  player0 = input()\n",
    "  try:\n",
    "    player0 = int(player0)\n",
    "    gameBoard[int(player0/3),player0%3] =0 \n",
    "    printGame(gameBoard,level)\n",
    "    level +=1\n",
    "  except:\n",
    "    print(\"Inter Integer Between 0,8\")\n",
    "    continue\n",
    "  player1 = TicTacToe(gameBoard)\n",
    "  gameBoard[int(player1/3),player1%3] = 1\n",
    "  printGame(gameBoard,level)\n",
    "  level +=1\n",
    "  winner = checkWin(gameBoard)\n",
    "\n",
    "print(\"Game Is Done...!!\")"
   ]
  },
  {
   "cell_type": "markdown",
   "metadata": {
    "id": "k0ihfQAUV62z"
   },
   "source": [
    "#Q3"
   ]
  },
  {
   "cell_type": "code",
   "execution_count": 14,
   "metadata": {
    "id": "8kgYX9YNjCxw"
   },
   "outputs": [
    {
     "name": "stdout",
     "output_type": "stream",
     "text": [
      "--2021-03-06 12:30:44--  http://archive.ics.uci.edu/ml/machine-learning-databases/00267/data_banknote_authentication.txt\n",
      "Resolving archive.ics.uci.edu (archive.ics.uci.edu)... 128.195.10.252\n",
      "Connecting to archive.ics.uci.edu (archive.ics.uci.edu)|128.195.10.252|:80... connected.\n",
      "HTTP request sent, awaiting response... 200 OK\n",
      "Length: 46400 (45K) [application/x-httpd-php]\n",
      "Saving to: ‘data_banknote_authentication.txt.2’\n",
      "\n",
      "data_banknote_authe 100%[===================>]  45.31K  81.8KB/s    in 0.6s    \n",
      "\n",
      "2021-03-06 12:30:47 (81.8 KB/s) - ‘data_banknote_authentication.txt.2’ saved [46400/46400]\n",
      "\n"
     ]
    }
   ],
   "source": [
    "!wget http://archive.ics.uci.edu/ml/machine-learning-databases/00267/data_banknote_authentication.txt"
   ]
  },
  {
   "cell_type": "code",
   "execution_count": 15,
   "metadata": {
    "id": "o5t7KxJ9jxAn"
   },
   "outputs": [
    {
     "name": "stdout",
     "output_type": "stream",
     "text": [
      "Number of records :  1372\n",
      "The input : \n",
      " [[  3.6216    8.6661   -2.8073   -0.44699]\n",
      " [  4.5459    8.1674   -2.4586   -1.4621 ]\n",
      " [  3.866    -2.6383    1.9242    0.10645]\n",
      " ...\n",
      " [ -3.7503  -13.4586   17.5932   -2.7771 ]\n",
      " [ -3.5637   -8.3827   12.393    -1.2823 ]\n",
      " [ -2.5419   -0.65804   2.6842    1.1952 ]]\n",
      "The output : \n",
      " [0. 0. 0. ... 1. 1. 1.]\n"
     ]
    }
   ],
   "source": [
    "with open(\"data_banknote_authentication.txt\") as file:\n",
    "  f = file.read().split(\"\\n\")\n",
    "  for i in range(len(f)):\n",
    "    f[i] = f[i].split(\",\")\n",
    "  data = np.array(f).astype(np.float64)\n",
    "  y = data.T[-1]\n",
    "  x = data.T[:4].T\n",
    "  print(\"Number of records : \",len(data))\n",
    "  print(\"The input : \\n\",x)\n",
    "  print(\"The output : \\n\",y)\n",
    "\n",
    "  ind = np.arange(len(y))\n",
    "  np.random.shuffle(ind)\n",
    "  x = x[ind]\n",
    "  y = y[ind]\n",
    "  k = (len(y) * 1) // 50\n",
    "  x_train = x[:k]\n",
    "  x_test = x[k:]\n",
    "  y_train = y[:k]\n",
    "  y_test = y[k:]\n"
   ]
  },
  {
   "cell_type": "code",
   "execution_count": 16,
   "metadata": {
    "id": "KJ-QsxgKnpaJ"
   },
   "outputs": [],
   "source": [
    "#Implement your naive Bayes classifier for this dataset here (train on x_train and y_train, and predict on x_test to create y_pred).\n",
    "\n",
    "class NaiveBayes:\n",
    "\n",
    "    def calculate_req(self, x_train, y):\n",
    "        samples_number, features_number = x_train.shape\n",
    "        self.Lables = np.unique(y)\n",
    "        self._mean = np.zeros((len(self.Lables), features_number))\n",
    "        self._var = np.zeros((len(self.Lables), features_number))\n",
    "        self._priors =  np.zeros(len(self.Lables))\n",
    "\n",
    "        for idx, lable in enumerate(self.Lables):\n",
    "            x_label = x_train[y==lable]\n",
    "            self._mean[idx, :] = x_label.mean(axis=0)\n",
    "            self._var[idx, :] = x_label.var(axis=0)\n",
    "            self._priors[idx] = x_label.shape[0] / float(samples_number)\n",
    "\n",
    "    def predict(self, x_test):\n",
    "        y_pred=[]\n",
    "        for x in x_test:\n",
    "            posteriors = []\n",
    "\n",
    "            for idx, c in enumerate(self.Lables):\n",
    "                prior = np.log(self._priors[idx])\n",
    "                \n",
    "                mean = self._mean[idx]\n",
    "                var = self._var[idx]\n",
    "                num = np.exp(- (x-mean)**2 / (2 * var))\n",
    "                denom = np.sqrt(2 * np.pi * var)\n",
    "                \n",
    "                posterior = np.sum(np.log( num / denom ))\n",
    "                posteriors.append(prior + posterior)\n",
    "            y_pred.append(self.Lables[np.argmax(posteriors)])\n",
    "        return np.array(y_pred)\n",
    "            \n",
    "NaiveBayes = NaiveBayes()\n",
    "NaiveBayes.calculate_req(x_train, y_train)\n",
    "y_pred = NaiveBayes.predict(x_test)"
   ]
  },
  {
   "cell_type": "code",
   "execution_count": 17,
   "metadata": {},
   "outputs": [
    {
     "name": "stdout",
     "output_type": "stream",
     "text": [
      "              precision    recall  f1-score   support\n",
      "\n",
      "         0.0       0.88      0.81      0.84       745\n",
      "         1.0       0.78      0.87      0.82       600\n",
      "\n",
      "    accuracy                           0.83      1345\n",
      "   macro avg       0.83      0.84      0.83      1345\n",
      "weighted avg       0.84      0.83      0.83      1345\n",
      "\n"
     ]
    }
   ],
   "source": [
    "from sklearn.metrics import classification_report\n",
    " \n",
    "print(classification_report(y_test, y_pred))"
   ]
  },
  {
   "cell_type": "code",
   "execution_count": 18,
   "metadata": {},
   "outputs": [
    {
     "name": "stdout",
     "output_type": "stream",
     "text": [
      "              precision    recall  f1-score   support\n",
      "\n",
      "         0.0       0.88      0.81      0.84       745\n",
      "         1.0       0.78      0.87      0.82       600\n",
      "\n",
      "    accuracy                           0.83      1345\n",
      "   macro avg       0.83      0.84      0.83      1345\n",
      "weighted avg       0.84      0.83      0.83      1345\n",
      "\n"
     ]
    }
   ],
   "source": [
    "from sklearn.naive_bayes import GaussianNB\n",
    "clf = GaussianNB()\n",
    "clf.fit(x_train, y_train)\n",
    "y_pr = (clf.predict(x_test))\n",
    "print(classification_report(y_test, y_pr))"
   ]
  },
  {
   "cell_type": "code",
   "execution_count": 19,
   "metadata": {},
   "outputs": [
    {
     "name": "stdout",
     "output_type": "stream",
     "text": [
      "              precision    recall  f1-score   support\n",
      "\n",
      "         0.0       1.00      0.94      0.97       745\n",
      "         1.0       0.94      1.00      0.97       600\n",
      "\n",
      "    accuracy                           0.97      1345\n",
      "   macro avg       0.97      0.97      0.97      1345\n",
      "weighted avg       0.97      0.97      0.97      1345\n",
      "\n"
     ]
    }
   ],
   "source": [
    "from sklearn.linear_model import LogisticRegression\n",
    "\n",
    "clf = LogisticRegression(random_state=0).fit(x_train, y_train)\n",
    "y_pre = (clf.predict(x_test))\n",
    "print(classification_report(y_test, y_pre))"
   ]
  },
  {
   "cell_type": "code",
   "execution_count": null,
   "metadata": {},
   "outputs": [],
   "source": []
  },
  {
   "cell_type": "code",
   "execution_count": null,
   "metadata": {},
   "outputs": [],
   "source": []
  },
  {
   "cell_type": "code",
   "execution_count": null,
   "metadata": {},
   "outputs": [],
   "source": []
  }
 ],
 "metadata": {
  "colab": {
   "collapsed_sections": [],
   "name": "Deep_HW1.ipynb",
   "provenance": [],
   "toc_visible": true
  },
  "kernelspec": {
   "display_name": "Python 3",
   "language": "python",
   "name": "python3"
  },
  "language_info": {
   "codemirror_mode": {
    "name": "ipython",
    "version": 3
   },
   "file_extension": ".py",
   "mimetype": "text/x-python",
   "name": "python",
   "nbconvert_exporter": "python",
   "pygments_lexer": "ipython3",
   "version": "3.8.8"
  }
 },
 "nbformat": 4,
 "nbformat_minor": 4
}
