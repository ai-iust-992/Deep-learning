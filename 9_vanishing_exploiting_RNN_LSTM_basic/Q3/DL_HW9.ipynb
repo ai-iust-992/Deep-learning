{
  "nbformat": 4,
  "nbformat_minor": 0,
  "metadata": {
    "colab": {
      "name": "DL_HW9.ipynb",
      "provenance": [],
      "collapsed_sections": [],
      "toc_visible": true
    },
    "kernelspec": {
      "display_name": "Python 3",
      "language": "python",
      "name": "python3"
    },
    "language_info": {
      "codemirror_mode": {
        "name": "ipython",
        "version": 3
      },
      "file_extension": ".py",
      "mimetype": "text/x-python",
      "name": "python",
      "nbconvert_exporter": "python",
      "pygments_lexer": "ipython3",
      "version": "3.7.4"
    }
  },
  "cells": [
    {
      "cell_type": "markdown",
      "metadata": {
        "id": "Qt2T4RWFx32q"
      },
      "source": [
        "# HomeWork 9\n",
        "**DeadLine : 23:59 1 Khordad 1400**"
      ]
    },
    {
      "cell_type": "markdown",
      "metadata": {
        "id": "2hSzcqgzluB8"
      },
      "source": [
        "# Time Series Prediction"
      ]
    },
    {
      "cell_type": "markdown",
      "metadata": {
        "id": "cQoJi3q_I6fg"
      },
      "source": [
        "Due to the sequential charasteristics of RNNs, they can be used for time series prediction task. A time series is a series of data points indexed in time order. One example of time series is stock prices at regular intervals of time (hourly, daily, etc.). There have been many attempts to forecast stocks market, some belive predicting the market is impossible because of its total random behaviour, while some (mainly stocks technical analysts) belive not 100% accurate, but it is partly predictable, as they say \"history repeats itself\" (this phrase indicates that there might be some repetitive patterns in market's behaviour). \n",
        "\n",
        "In this practice, we are going to discover ourselves whether it is possible or not, whether we are going to be rich or broke :)  "
      ]
    },
    {
      "cell_type": "markdown",
      "metadata": {
        "id": "tBLpUtW_5Q9K"
      },
      "source": [
        "## Stocks Prediction Using LSTM"
      ]
    },
    {
      "cell_type": "markdown",
      "metadata": {
        "id": "EfO4ddWV5ZLS"
      },
      "source": [
        "LSTMs can be used for modeling time series (such as stocks market) as they are capable of remembering past information. Stock price prediction is similar to any other machine learning problem where we are given a set of features and we have to predict a corresponding value, in this case our features are the closing prices of stocks in the past 60 days and we want to predict next closing price. We can use LSTM to model this 60 days sequence by a hidden state as we do in all other sequence modeling problems:\n",
        "\n",
        "<p align=\"center\"><img src=\"https://drive.google.com/thumbnail?id=1hml7fG9_GKDLH1068Wq_Jk-D09FtQk17&sz=w1000-h1000\" width=\"800\"/></p>\n",
        "\n",
        "</br>\n",
        "\n",
        "We are going to solve predicting the exact price problem at time $T_i$ given prices at times $T_{i-60}$, ..., $T_{i-1}$\n"
      ]
    },
    {
      "cell_type": "markdown",
      "metadata": {
        "id": "JI0Ub0KuK0wG"
      },
      "source": [
        "### Predicting The Exact Price"
      ]
    },
    {
      "cell_type": "markdown",
      "metadata": {
        "id": "LSNVvB-apMAr"
      },
      "source": [
        "**DATA:**\n",
        "\n",
        "The data that we are going to use are from ***Yahoo Finance*** (a place to look up stock market data and company news). We can accsess historical market data from *Yahoo Finance* using python ***yfinance*** module. \n",
        "\n",
        "Install *yfinance* module:"
      ]
    },
    {
      "cell_type": "code",
      "metadata": {
        "id": "_zYyq0SlbY_a"
      },
      "source": [
        "from IPython.display import clear_output\n",
        "\n",
        "!pip install yfinance\n",
        "\n",
        "clear_output()"
      ],
      "execution_count": 1,
      "outputs": []
    },
    {
      "cell_type": "markdown",
      "metadata": {
        "id": "9wAwSxCbbWlt"
      },
      "source": [
        "For training our algorithm, we will be using the Apple stock prices from 1st January 2014 to 1st January 2018. In order to evaluate the performance of the algorithm, we will be using the prices from 1st January 2018 to 1st January 2019. \n",
        "\n",
        "Getting the data and visualise it:"
      ]
    },
    {
      "cell_type": "code",
      "metadata": {
        "id": "U2Q70Xcr3nNR",
        "colab": {
          "base_uri": "https://localhost:8080/",
          "height": 528
        },
        "outputId": "7163d3f6-d278-4602-aeb5-b8fc8121cdf8"
      },
      "source": [
        "import matplotlib.pyplot as plt\n",
        "import yfinance as yf  \n",
        "\n",
        "train_data = yf.download('AAPL','2014-01-01','2018-01-01')\n",
        "test_data = yf.download('AAPL','2018-01-01','2019-01-01')\n",
        "\n",
        "train_data.Close.plot()\n",
        "test_data.Close.plot()\n",
        "plt.legend ([\"Train\", \"Test\"])\n",
        "clear_output()\n",
        "plt.show()\n",
        "print(test_data)"
      ],
      "execution_count": 2,
      "outputs": [
        {
          "output_type": "display_data",
          "data": {
            "image/png": "[encoded data removed]",
            "text/plain": [
              "<Figure size 432x288 with 1 Axes>"
            ]
          },
          "metadata": {
            "tags": [],
            "needs_background": "light"
          }
        },
        {
          "output_type": "stream",
          "text": [
            "                 Open       High        Low      Close  Adj Close     Volume\n",
            "Date                                                                        \n",
            "2018-01-02  42.540001  43.075001  42.314999  43.064999  41.310070  102223600\n",
            "2018-01-03  43.132500  43.637501  42.990002  43.057499  41.302879  118071600\n",
            "2018-01-04  43.134998  43.367500  43.020000  43.257500  41.494736   89738400\n",
            "2018-01-05  43.360001  43.842499  43.262501  43.750000  41.967163   94640000\n",
            "2018-01-08  43.587502  43.902500  43.482498  43.587502  41.811283   82271200\n",
            "...               ...        ...        ...        ...        ...        ...\n",
            "2018-12-24  37.037498  37.887501  36.647499  36.707500  35.740280  148676800\n",
            "2018-12-26  37.075001  39.307499  36.680000  39.292500  38.257172  234330000\n",
            "2018-12-27  38.959999  39.192501  37.517502  39.037498  38.008892  212468400\n",
            "2018-12-28  39.375000  39.630001  38.637501  39.057499  38.028370  169165600\n",
            "2018-12-31  39.632500  39.840000  39.119999  39.435001  38.395920  140014000\n",
            "\n",
            "[251 rows x 6 columns]\n"
          ],
          "name": "stdout"
        }
      ]
    },
    {
      "cell_type": "markdown",
      "metadata": {
        "id": "AIIDgdQfcSK3"
      },
      "source": [
        "As you can see our data is just a sequence of numbers ordered by time. \n",
        "\n",
        "In order to normalize our data we scale them between 0 and 1: "
      ]
    },
    {
      "cell_type": "code",
      "metadata": {
        "id": "8ge5thz254Kf",
        "colab": {
          "base_uri": "https://localhost:8080/"
        },
        "outputId": "c92cb1ce-d1ad-4d0c-c801-aabf31900a81"
      },
      "source": [
        "from sklearn.preprocessing import MinMaxScaler \n",
        "import numpy as np\n",
        "scaler = MinMaxScaler(feature_range = (0, 1)).fit(train_data.Close.values.reshape(-1, 1))\n",
        "\n",
        "train_scaled = scaler.transform(train_data.Close.values.reshape(-1, 1))\n",
        "test_scaled = scaler.transform(test_data.Close.values.reshape(-1, 1))  \n",
        "\n",
        "train_scaled__ = scaler.transform(train_data.values.reshape(-1, 1))\n",
        "test_scaled__ = scaler.transform(test_data.values.reshape(-1, 1))  \n",
        "\n",
        "print(\"train_scaled :\", train_scaled.shape)\n",
        "print(\"test_scaled  :\", test_scaled.shape)\n",
        "print(\"train_scaled__\",train_scaled__.shape)\n",
        "print(\"test_scaled__\",test_scaled__.shape)\n",
        "\n"
      ],
      "execution_count": 3,
      "outputs": [
        {
          "output_type": "stream",
          "text": [
            "train_scaled : (1007, 1)\n",
            "test_scaled  : (251, 1)\n",
            "train_scaled__ (6042, 1)\n",
            "test_scaled__ (1506, 1)\n"
          ],
          "name": "stdout"
        }
      ]
    },
    {
      "cell_type": "markdown",
      "metadata": {
        "id": "_9M3_Ch_eRFx"
      },
      "source": [
        "Create input output pairs from sequence:\n",
        "\n",
        "> Indented block\n",
        "\n"
      ]
    },
    {
      "cell_type": "code",
      "metadata": {
        "id": "NOs8KBcj6mpG",
        "colab": {
          "base_uri": "https://localhost:8080/"
        },
        "outputId": "ce11448f-ffe0-432c-a3f1-580d00085715"
      },
      "source": [
        "x_train = np.zeros((train_scaled.shape[0]-60, 60))  \n",
        "y_train = np.zeros(train_scaled.shape[0]-60)\n",
        "for i in range(train_scaled.shape[0]-60):  \n",
        "    x_train[i] = train_scaled[i:i+60, 0]\n",
        "    y_train[i] = train_scaled[i+60, 0]\n",
        "   # print(i)\n",
        "\n",
        "x_train = x_train.reshape(x_train.shape[0], x_train.shape[1], 1)\n",
        "print(x_train.shape)\n",
        "print(y_train.shape)"
      ],
      "execution_count": 4,
      "outputs": [
        {
          "output_type": "stream",
          "text": [
            "(947, 60, 1)\n",
            "(947,)\n"
          ],
          "name": "stdout"
        }
      ]
    },
    {
      "cell_type": "markdown",
      "metadata": {
        "id": "tI8HP9NqiYzv"
      },
      "source": [
        "Create and train a model with LSTM layers:"
      ]
    },
    {
      "cell_type": "code",
      "metadata": {
        "id": "H0UHr-Ef8pHr",
        "colab": {
          "base_uri": "https://localhost:8080/"
        },
        "outputId": "e75ffda6-4ace-499c-d605-87d2c4104739"
      },
      "source": [
        "from keras.models import Sequential\n",
        "from keras.layers import Dense, LSTM, Dropout \n",
        "model = None\n",
        "\n",
        "########################################\n",
        "#     Put your implementation here     #\n",
        "######################################## \n",
        "\n",
        "model = Sequential()\n",
        "model.add(LSTM(units=100,  input_shape=(x_train.shape[1], 1), return_sequences=True))\n",
        "model.add(LSTM(units=70, return_sequences=True))\n",
        "model.add(LSTM(units=50, return_sequences=True))  \n",
        "model.add(Dropout(0.4))\n",
        "model.add(LSTM(units=40))  \n",
        "model.add(Dropout(0.4))\n",
        "model.add(Dense(units = 1))\n",
        "model.compile(optimizer = 'adam', loss = 'mse')\n",
        "\n",
        "model.fit(x_train, y_train, epochs = 80, batch_size = 40)"
      ],
      "execution_count": 5,
      "outputs": [
        {
          "output_type": "stream",
          "text": [
            "Epoch 1/80\n",
            "24/24 [==============================] - 10s 140ms/step - loss: 0.1071\n",
            "Epoch 2/80\n",
            "24/24 [==============================] - 3s 139ms/step - loss: 0.0127\n",
            "Epoch 3/80\n",
            "24/24 [==============================] - 3s 139ms/step - loss: 0.0093\n",
            "Epoch 4/80\n",
            "24/24 [==============================] - 3s 137ms/step - loss: 0.0087\n",
            "Epoch 5/80\n",
            "24/24 [==============================] - 3s 140ms/step - loss: 0.0075\n",
            "Epoch 6/80\n",
            "24/24 [==============================] - 3s 138ms/step - loss: 0.0087\n",
            "Epoch 7/80\n",
            "24/24 [==============================] - 3s 137ms/step - loss: 0.0074\n",
            "Epoch 8/80\n",
            "24/24 [==============================] - 3s 138ms/step - loss: 0.0093\n",
            "Epoch 9/80\n",
            "24/24 [==============================] - 3s 138ms/step - loss: 0.0079\n",
            "Epoch 10/80\n",
            "24/24 [==============================] - 3s 137ms/step - loss: 0.0074\n",
            "Epoch 11/80\n",
            "24/24 [==============================] - 3s 139ms/step - loss: 0.0075\n",
            "Epoch 12/80\n",
            "24/24 [==============================] - 3s 138ms/step - loss: 0.0061\n",
            "Epoch 13/80\n",
            "24/24 [==============================] - 3s 137ms/step - loss: 0.0073\n",
            "Epoch 14/80\n",
            "24/24 [==============================] - 3s 138ms/step - loss: 0.0064\n",
            "Epoch 15/80\n",
            "24/24 [==============================] - 3s 139ms/step - loss: 0.0065\n",
            "Epoch 16/80\n",
            "24/24 [==============================] - 3s 137ms/step - loss: 0.0072\n",
            "Epoch 17/80\n",
            "24/24 [==============================] - 3s 137ms/step - loss: 0.0060\n",
            "Epoch 18/80\n",
            "24/24 [==============================] - 3s 137ms/step - loss: 0.0054\n",
            "Epoch 19/80\n",
            "24/24 [==============================] - 3s 138ms/step - loss: 0.0060\n",
            "Epoch 20/80\n",
            "24/24 [==============================] - 3s 139ms/step - loss: 0.0056\n",
            "Epoch 21/80\n",
            "24/24 [==============================] - 3s 138ms/step - loss: 0.0067\n",
            "Epoch 22/80\n",
            "24/24 [==============================] - 3s 137ms/step - loss: 0.0058\n",
            "Epoch 23/80\n",
            "24/24 [==============================] - 3s 138ms/step - loss: 0.0048\n",
            "Epoch 24/80\n",
            "24/24 [==============================] - 3s 140ms/step - loss: 0.0053\n",
            "Epoch 25/80\n",
            "24/24 [==============================] - 3s 138ms/step - loss: 0.0055\n",
            "Epoch 26/80\n",
            "24/24 [==============================] - 3s 137ms/step - loss: 0.0051\n",
            "Epoch 27/80\n",
            "24/24 [==============================] - 3s 138ms/step - loss: 0.0049\n",
            "Epoch 28/80\n",
            "24/24 [==============================] - 3s 139ms/step - loss: 0.0055\n",
            "Epoch 29/80\n",
            "24/24 [==============================] - 3s 136ms/step - loss: 0.0045\n",
            "Epoch 30/80\n",
            "24/24 [==============================] - 3s 139ms/step - loss: 0.0039\n",
            "Epoch 31/80\n",
            "24/24 [==============================] - 3s 138ms/step - loss: 0.0048\n",
            "Epoch 32/80\n",
            "24/24 [==============================] - 3s 140ms/step - loss: 0.0048\n",
            "Epoch 33/80\n",
            "24/24 [==============================] - 3s 139ms/step - loss: 0.0049\n",
            "Epoch 34/80\n",
            "24/24 [==============================] - 3s 139ms/step - loss: 0.0048\n",
            "Epoch 35/80\n",
            "24/24 [==============================] - 3s 141ms/step - loss: 0.0044\n",
            "Epoch 36/80\n",
            "24/24 [==============================] - 3s 139ms/step - loss: 0.0047\n",
            "Epoch 37/80\n",
            "24/24 [==============================] - 3s 141ms/step - loss: 0.0040\n",
            "Epoch 38/80\n",
            "24/24 [==============================] - 3s 139ms/step - loss: 0.0042\n",
            "Epoch 39/80\n",
            "24/24 [==============================] - 3s 139ms/step - loss: 0.0038\n",
            "Epoch 40/80\n",
            "24/24 [==============================] - 3s 141ms/step - loss: 0.0030\n",
            "Epoch 41/80\n",
            "24/24 [==============================] - 3s 138ms/step - loss: 0.0036\n",
            "Epoch 42/80\n",
            "24/24 [==============================] - 3s 139ms/step - loss: 0.0033\n",
            "Epoch 43/80\n",
            "24/24 [==============================] - 3s 140ms/step - loss: 0.0044\n",
            "Epoch 44/80\n",
            "24/24 [==============================] - 3s 140ms/step - loss: 0.0035\n",
            "Epoch 45/80\n",
            "24/24 [==============================] - 3s 140ms/step - loss: 0.0034\n",
            "Epoch 46/80\n",
            "24/24 [==============================] - 3s 142ms/step - loss: 0.0036\n",
            "Epoch 47/80\n",
            "24/24 [==============================] - 3s 141ms/step - loss: 0.0036\n",
            "Epoch 48/80\n",
            "24/24 [==============================] - 3s 139ms/step - loss: 0.0034\n",
            "Epoch 49/80\n",
            "24/24 [==============================] - 3s 139ms/step - loss: 0.0034\n",
            "Epoch 50/80\n",
            "24/24 [==============================] - 3s 140ms/step - loss: 0.0031\n",
            "Epoch 51/80\n",
            "24/24 [==============================] - 3s 140ms/step - loss: 0.0035\n",
            "Epoch 52/80\n",
            "24/24 [==============================] - 3s 138ms/step - loss: 0.0028\n",
            "Epoch 53/80\n",
            "24/24 [==============================] - 3s 137ms/step - loss: 0.0033\n",
            "Epoch 54/80\n",
            "24/24 [==============================] - 3s 138ms/step - loss: 0.0032\n",
            "Epoch 55/80\n",
            "24/24 [==============================] - 3s 141ms/step - loss: 0.0030\n",
            "Epoch 56/80\n",
            "24/24 [==============================] - 3s 139ms/step - loss: 0.0033\n",
            "Epoch 57/80\n",
            "24/24 [==============================] - 3s 143ms/step - loss: 0.0031\n",
            "Epoch 58/80\n",
            "24/24 [==============================] - 3s 137ms/step - loss: 0.0026\n",
            "Epoch 59/80\n",
            "24/24 [==============================] - 3s 140ms/step - loss: 0.0034\n",
            "Epoch 60/80\n",
            "24/24 [==============================] - 3s 138ms/step - loss: 0.0031\n",
            "Epoch 61/80\n",
            "24/24 [==============================] - 3s 141ms/step - loss: 0.0029\n",
            "Epoch 62/80\n",
            "24/24 [==============================] - 3s 140ms/step - loss: 0.0030\n",
            "Epoch 63/80\n",
            "24/24 [==============================] - 3s 139ms/step - loss: 0.0028\n",
            "Epoch 64/80\n",
            "24/24 [==============================] - 3s 138ms/step - loss: 0.0028\n",
            "Epoch 65/80\n",
            "24/24 [==============================] - 3s 140ms/step - loss: 0.0030\n",
            "Epoch 66/80\n",
            "24/24 [==============================] - 3s 140ms/step - loss: 0.0025\n",
            "Epoch 67/80\n",
            "24/24 [==============================] - 3s 140ms/step - loss: 0.0023\n",
            "Epoch 68/80\n",
            "24/24 [==============================] - 3s 142ms/step - loss: 0.0031\n",
            "Epoch 69/80\n",
            "24/24 [==============================] - 3s 140ms/step - loss: 0.0028\n",
            "Epoch 70/80\n",
            "24/24 [==============================] - 3s 142ms/step - loss: 0.0021\n",
            "Epoch 71/80\n",
            "24/24 [==============================] - 3s 140ms/step - loss: 0.0025\n",
            "Epoch 72/80\n",
            "24/24 [==============================] - 3s 144ms/step - loss: 0.0029\n",
            "Epoch 73/80\n",
            "24/24 [==============================] - 3s 141ms/step - loss: 0.0024\n",
            "Epoch 74/80\n",
            "24/24 [==============================] - 3s 142ms/step - loss: 0.0023\n",
            "Epoch 75/80\n",
            "24/24 [==============================] - 3s 143ms/step - loss: 0.0028\n",
            "Epoch 76/80\n",
            "24/24 [==============================] - 3s 143ms/step - loss: 0.0020\n",
            "Epoch 77/80\n",
            "24/24 [==============================] - 3s 142ms/step - loss: 0.0026\n",
            "Epoch 78/80\n",
            "24/24 [==============================] - 3s 144ms/step - loss: 0.0022\n",
            "Epoch 79/80\n",
            "24/24 [==============================] - 3s 143ms/step - loss: 0.0022\n",
            "Epoch 80/80\n",
            "24/24 [==============================] - 3s 143ms/step - loss: 0.0021\n"
          ],
          "name": "stdout"
        },
        {
          "output_type": "execute_result",
          "data": {
            "text/plain": [
              "<tensorflow.python.keras.callbacks.History at 0x7f77ea501e50>"
            ]
          },
          "metadata": {
            "tags": []
          },
          "execution_count": 5
        }
      ]
    },
    {
      "cell_type": "markdown",
      "metadata": {
        "id": "6n8LuRDDqKkL"
      },
      "source": [
        "Create test features set similar to training set:"
      ]
    },
    {
      "cell_type": "code",
      "metadata": {
        "id": "8_Z0-AoCqZwV",
        "colab": {
          "base_uri": "https://localhost:8080/"
        },
        "outputId": "adcdaf78-617c-410c-b25e-2b229e80b1fd"
      },
      "source": [
        "########################################\n",
        "#     Put your implementation here     #\n",
        "######################################## \n",
        "\n",
        "\n",
        "test_scaled = scaler.transform(test_data.Close.values.reshape(-1, 1))  \n",
        "\n",
        "x_test = np.zeros((test_scaled.shape[0]-60, 60))  \n",
        "for i in range(test_scaled.shape[0]-60):  \n",
        "    x_test[i] = test_scaled[i:i+60, 0]\n",
        "\n",
        "x_test = x_test.reshape(x_test.shape[0], x_test.shape[1], 1)\n",
        "print(x_test.shape)\n"
      ],
      "execution_count": 6,
      "outputs": [
        {
          "output_type": "stream",
          "text": [
            "(191, 60, 1)\n"
          ],
          "name": "stdout"
        }
      ]
    },
    {
      "cell_type": "markdown",
      "metadata": {
        "id": "19NNvTHHqsdH"
      },
      "source": [
        "And finaly let's see the results:"
      ]
    },
    {
      "cell_type": "code",
      "metadata": {
        "id": "nU6kKlck-UAL",
        "colab": {
          "base_uri": "https://localhost:8080/",
          "height": 281
        },
        "outputId": "5c909cd2-9706-41ac-cb05-281593a7f50d"
      },
      "source": [
        "predictions = model.predict(x_test)\n",
        "predictions = scaler.inverse_transform(predictions)  \n",
        "\n",
        "plt.plot(test_data.Close.values[60:], color='blue', label='Actual Apple Stock Price')  \n",
        "plt.plot(predictions , color='red', label='Predicted Apple Stock Price')  \n",
        "plt.title('Apple Stock Price Prediction on Test Set')    \n",
        "plt.ylabel('Apple Stock Price')  \n",
        "plt.legend()  \n",
        "plt.show()"
      ],
      "execution_count": 7,
      "outputs": [
        {
          "output_type": "display_data",
          "data": {
            "image/png": "[encoded data removed]",
            "text/plain": [
              "<Figure size 432x288 with 1 Axes>"
            ]
          },
          "metadata": {
            "tags": [],
            "needs_background": "light"
          }
        }
      ]
    }
  ]
}